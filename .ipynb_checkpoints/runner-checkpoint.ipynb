{
 "cells": [
  {
   "cell_type": "code",
   "execution_count": 1,
   "metadata": {
    "collapsed": true
   },
   "outputs": [],
   "source": [
    "import os\n",
    "import sys\n",
    "import optparse\n",
    "import subprocess\n",
    "import random"
   ]
  },
  {
   "cell_type": "code",
   "execution_count": 3,
   "metadata": {
    "collapsed": false
   },
   "outputs": [
    {
     "ename": "NameError",
     "evalue": "name '__file__' is not defined",
     "output_type": "error",
     "traceback": [
      "\u001b[0;31m---------------------------------------------------------------------------\u001b[0m",
      "\u001b[0;31mNameError\u001b[0m                                 Traceback (most recent call last)",
      "\u001b[0;32m<ipython-input-3-76b2fa709318>\u001b[0m in \u001b[0;36m<module>\u001b[0;34m()\u001b[0m\n\u001b[1;32m      6\u001b[0m \u001b[0;32mtry\u001b[0m\u001b[0;34m:\u001b[0m\u001b[0;34m\u001b[0m\u001b[0m\n\u001b[1;32m      7\u001b[0m     sys.path.append(os.path.join(os.path.dirname(\n\u001b[0;32m----> 8\u001b[0;31m         __file__), '..', '..', '..', '..', \"tools\"))  # tutorial in tests\n\u001b[0m\u001b[1;32m      9\u001b[0m     sys.path.append(os.path.join(os.environ.get(\"SUMO_HOME\", os.path.join(\n\u001b[1;32m     10\u001b[0m         os.path.dirname(__file__), \"..\", \"..\", \"..\")), \"tools\"))  # tutorial in docs\n",
      "\u001b[0;31mNameError\u001b[0m: name '__file__' is not defined"
     ]
    }
   ],
   "source": [
    "from __future__ import absolute_import\n",
    "from __future__ import print_function\n",
    "\n",
    "\n",
    "# we need to import python modules from the $SUMO_HOME/tools directory\n",
    "try:\n",
    "    sys.path.append(os.path.join(os.path.dirname(\n",
    "        __file__), '..', '..', '..', '..', \"tools\"))  # tutorial in tests\n",
    "    sys.path.append(os.path.join(os.environ.get(\"SUMO_HOME\", os.path.join(\n",
    "        os.path.dirname(__file__), \"..\", \"..\", \"..\")), \"tools\"))  # tutorial in docs\n",
    "    from sumolib import checkBinary  # noqa\n",
    "except ImportError:\n",
    "    sys.exit(\n",
    "        \"please declare environment variable 'SUMO_HOME' as the root directory of your sumo installation (it should contain folders 'bin', 'tools' and 'docs')\")\n",
    "\n",
    "import traci"
   ]
  },
  {
   "cell_type": "code",
   "execution_count": null,
   "metadata": {
    "collapsed": true
   },
   "outputs": [],
   "source": []
  }
 ],
 "metadata": {
  "kernelspec": {
   "display_name": "Python 3",
   "language": "python",
   "name": "python3"
  },
  "language_info": {
   "codemirror_mode": {
    "name": "ipython",
    "version": 3
   },
   "file_extension": ".py",
   "mimetype": "text/x-python",
   "name": "python",
   "nbconvert_exporter": "python",
   "pygments_lexer": "ipython3",
   "version": "3.6.0"
  }
 },
 "nbformat": 4,
 "nbformat_minor": 2
}
