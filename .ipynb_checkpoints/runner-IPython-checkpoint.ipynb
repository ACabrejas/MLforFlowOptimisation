{
 "cells": [
  {
   "cell_type": "code",
   "execution_count": 1,
   "metadata": {},
   "outputs": [
    {
     "name": "stderr",
     "output_type": "stream",
     "text": [
      "/anaconda3/lib/python3.6/site-packages/matplotlib/font_manager.py:278: UserWarning: Matplotlib is building the font cache using fc-list. This may take a moment.\n",
      "  'Matplotlib is building the font cache using fc-list. '\n"
     ]
    }
   ],
   "source": [
    "import os\n",
    "import sys\n",
    "import optparse\n",
    "import subprocess\n",
    "import random\n",
    "\n",
    "os.getcwd()\n",
    "__file__=os.getcwd()\n",
    "try:\n",
    "    sys.path.append(os.path.join(__file__, \"tools\"))  # tutorial in tests\n",
    "    sys.path.append(os.path.join(os.environ.get(\"SUMO_HOME\", os.path.join(__file__)), \"tests_tools\"))  # tutorial in docs\n",
    "    from sumolib import checkBinary  # noqa\n",
    "except ImportError:\n",
    "    sys.exit(\n",
    "        \"please declare environment variable 'SUMO_HOME' as the root directory of your sumo installation (it should contain folders 'bin', 'tools' and 'docs')\")\n",
    "import traci"
   ]
  },
  {
   "cell_type": "code",
   "execution_count": 2,
   "metadata": {},
   "outputs": [],
   "source": [
    "def generate_routefile():\n",
    "    random.seed(42)  # make tests reproducible\n",
    "    N = 3600  # number of time steps\n",
    "    # demand per second from different directions\n",
    "    pWE = 1. / 10\n",
    "    pEW = 1. / 11\n",
    "    pNS = 1. / 30\n",
    "    with open(\"data/cross.rou.xml\", \"w\") as routes:\n",
    "        print(\"\"\"<routes>\n",
    "        <vType id=\"typeWE\" accel=\"0.8\" decel=\"4.5\" sigma=\"0.5\" length=\"5\" minGap=\"2.5\" maxSpeed=\"16.67\" guiShape=\"passenger\"/>\n",
    "        <vType id=\"typeNS\" accel=\"0.8\" decel=\"4.5\" sigma=\"0.5\" length=\"7\" minGap=\"3\" maxSpeed=\"25\" guiShape=\"bus\"/>\n",
    "\n",
    "        <route id=\"right\" edges=\"51o 1i 2o 52i\" />\n",
    "        <route id=\"left\" edges=\"52o 2i 1o 51i\" />\n",
    "        <route id=\"down\" edges=\"54o 4i 3o 53i\" />\"\"\", file=routes)\n",
    "        lastVeh = 0\n",
    "        vehNr = 0\n",
    "        for i in range(N):\n",
    "            if random.uniform(0, 1) < pWE:\n",
    "                print('    <vehicle id=\"right_%i\" type=\"typeWE\" route=\"right\" depart=\"%i\" />' % (\n",
    "                    vehNr, i), file=routes)\n",
    "                vehNr += 1\n",
    "                lastVeh = i\n",
    "            if random.uniform(0, 1) < pEW:\n",
    "                print('    <vehicle id=\"left_%i\" type=\"typeWE\" route=\"left\" depart=\"%i\" />' % (\n",
    "                    vehNr, i), file=routes)\n",
    "                vehNr += 1\n",
    "                lastVeh = i\n",
    "            if random.uniform(0, 1) < pNS:\n",
    "                print('    <vehicle id=\"down_%i\" type=\"typeNS\" route=\"down\" depart=\"%i\" color=\"1,0,0\"/>' % (\n",
    "                    vehNr, i), file=routes)\n",
    "                vehNr += 1\n",
    "                lastVeh = i\n",
    "        print(\"</routes>\", file=routes)\n",
    "\n",
    "# The program looks like this\n",
    "#    <tlLogic id=\"0\" type=\"static\" programID=\"0\" offset=\"0\">\n",
    "# the locations of the tls are      NESW\n",
    "#        <phase duration=\"31\" state=\"GrGr\"/>\n",
    "#        <phase duration=\"6\"  state=\"yryr\"/>\n",
    "#        <phase duration=\"31\" state=\"rGrG\"/>\n",
    "#        <phase duration=\"6\"  state=\"ryry\"/>\n",
    "#    </tlLogic>\n",
    "\n",
    "\n",
    "def run():\n",
    "    \"\"\"execute the TraCI control loop\"\"\"\n",
    "    step = 0\n",
    "    # we start with phase 2 where EW has green\n",
    "    traci.trafficlight.setPhase(\"0\", 2)\n",
    "    while traci.simulation.getMinExpectedNumber() > 0:\n",
    "        traci.simulationStep()\n",
    "        if traci.trafficlight.getPhase(\"0\") == 2:\n",
    "            # we are not already switching\n",
    "            if traci.inductionloop.getLastStepVehicleNumber(\"0\") > 0:\n",
    "                # there is a vehicle from the north, switch\n",
    "                traci.trafficlight.setPhase(\"0\", 3)\n",
    "            else:\n",
    "                # otherwise try to keep green for EW\n",
    "                traci.trafficlight.setPhase(\"0\", 2)\n",
    "        step += 1\n",
    "    traci.close()\n",
    "    sys.stdout.flush()\n",
    "\n",
    "\n",
    "def get_options():\n",
    "    optParser = optparse.OptionParser()\n",
    "    optParser.add_option(\"--nogui\", action=\"store_true\",\n",
    "                         default=False, help=\"run the commandline version of sumo\")\n",
    "    options, args = optParser.parse_args()\n",
    "    return options"
   ]
  },
  {
   "cell_type": "code",
   "execution_count": 3,
   "metadata": {},
   "outputs": [],
   "source": [
    "sumoBinary = checkBinary('sumo-gui')\n",
    "# OR\n",
    "# sumoBinary = checkBinary('sumo')"
   ]
  },
  {
   "cell_type": "code",
   "execution_count": 4,
   "metadata": {},
   "outputs": [],
   "source": [
    "generate_routefile()"
   ]
  },
  {
   "cell_type": "code",
   "execution_count": 8,
   "metadata": {},
   "outputs": [
    {
     "name": "stdout",
     "output_type": "stream",
     "text": [
      " Retrying in 1 seconds\n"
     ]
    },
    {
     "data": {
      "text/plain": [
       "(17, 'SUMO 0.32.0')"
      ]
     },
     "execution_count": 8,
     "metadata": {},
     "output_type": "execute_result"
    }
   ],
   "source": [
    "traci.start([sumoBinary, \"-c\", \"data/cross.sumocfg\",\n",
    "                             \"--tripinfo-output\", \"tripinfo.xml\"])"
   ]
  },
  {
   "cell_type": "code",
   "execution_count": 9,
   "metadata": {},
   "outputs": [],
   "source": [
    "run()"
   ]
  },
  {
   "cell_type": "code",
   "execution_count": null,
   "metadata": {
    "collapsed": true
   },
   "outputs": [],
   "source": []
  }
 ],
 "metadata": {
  "kernelspec": {
   "display_name": "Python 3",
   "language": "python",
   "name": "python3"
  },
  "language_info": {
   "codemirror_mode": {
    "name": "ipython",
    "version": 3
   },
   "file_extension": ".py",
   "mimetype": "text/x-python",
   "name": "python",
   "nbconvert_exporter": "python",
   "pygments_lexer": "ipython3",
   "version": "3.6.5"
  }
 },
 "nbformat": 4,
 "nbformat_minor": 2
}
