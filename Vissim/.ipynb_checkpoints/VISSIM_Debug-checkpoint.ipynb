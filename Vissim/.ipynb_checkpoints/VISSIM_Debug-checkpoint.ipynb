{
 "cells": [
  {
   "cell_type": "code",
   "execution_count": 1,
   "metadata": {},
   "outputs": [
    {
     "name": "stdout",
     "output_type": "stream",
     "text": [
      "Default GPU Device: /device:GPU:0\n"
     ]
    },
    {
     "name": "stderr",
     "output_type": "stream",
     "text": [
      "Using TensorFlow backend.\n"
     ]
    }
   ],
   "source": [
    "## VISSIM Modules\n",
    "import win32com.client as com\n",
    "import os\n",
    "\n",
    "## RL Modules\n",
    "import tensorflow as tf\n",
    "if tf.test.gpu_device_name():\n",
    "    print('Default GPU Device: {}'.format(tf.test.gpu_device_name()))\n",
    "else:\n",
    "    print(\"ERROR: GPU DEVICE NOT FOUND.\")\n",
    "\n",
    "from keras.models import load_model\n",
    "    \n",
    "## Data Management Modules\n",
    "import pickle\n",
    "\n",
    "## User Defined Modules\n",
    "import Simulator_Functions as SF\n",
    "from RLAgents import DQNAgent\n",
    "from NParser import NetworkParser\n",
    "from COMServer import COMServerDispatch, COMServerReload\n",
    "from TupleToList import toList\n",
    "from Utilities import log_progress, pltlive\n",
    "## Other Modules\n",
    "import numpy as np\n",
    "import random\n",
    "import matplotlib.pyplot as plt\n",
    "%matplotlib inline"
   ]
  },
  {
   "cell_type": "code",
   "execution_count": 2,
   "metadata": {},
   "outputs": [],
   "source": [
    "## RL Hyperparamenters\n",
    "# Number of simulations, save every \"n\" episodes and copy weights with frequency \"f\"\n",
    "episodes = 500\n",
    "partial_save_at = 100\n",
    "copy_weights_frequency = 5\n",
    "\n",
    "# Timesteps per simulation (1 timestep = 0.1 sec), length for random population is a multiple of episode\n",
    "timesteps_per_second = 1\n",
    "seconds_per_green = 6\n",
    "seconds_per_yellow = 3\n",
    "simulation_length = 3600*1 + 1\n",
    "\n",
    "## State-Action Parameters\n",
    "action_type = \"phases\"        # options are \"phases\" and \"programs\"\n",
    "state_size = 4\n",
    "action_size = 8\n",
    "\n",
    "# Hyperparameters\n",
    "PER_activated = True\n",
    "batch_size = 256\n",
    "memory_size = 1000\n",
    "alpha   = 0.001\n",
    "gamma   = 0.95\n",
    "memory_population_length = 10*memory_size\n",
    "\n",
    "# Exploration Schedule (\"linear\" or \"geometric\")\n",
    "exploration_schedule = \"geometric\"\n",
    "epsilon_start = 1\n",
    "epsilon_end   = 0.001\n",
    "if exploration_schedule == \"linear\":\n",
    "    epsilon_decay = 1.2*(epsilon_end - epsilon_start)/(episodes-1)\n",
    "    epsilon_sequence = [1 + epsilon_decay * entry for entry in range(episodes+1)]\n",
    "    epsilon_sequence = [0 if entry < 0 else entry for entry in epsilon_sequence]\n",
    "elif exploration_schedule == \"geometric\":\n",
    "    epsilon_decay = np.power(epsilon_end/epsilon_start, 1./(episodes-1)) # Geometric decay\n",
    "    epsilon_sequence = [epsilon_start * epsilon_decay ** entry for entry in range(episodes+1)]\n",
    "else:\n",
    "    print(\"ERROR: Unrecognized choice of exploration schedule.\")\n",
    "\n",
    "# Demand Schedule (times in seconds, demand in cars/hour as PPP)\n",
    "demand_change_timesteps = 450\n",
    "demand = {\"h\":800, 'm':400, 'l':200}\n",
    "demand_list = [[demand['l'], demand['l']], [demand['m'], demand['l']],\\\n",
    "              [demand['h'], demand['l']], [demand['h'], demand['m']],\\\n",
    "              [demand['h'], demand['h']], [demand['m'], demand['h']],\n",
    "              [demand['l'], demand['h']], [demand['l'], demand['m']]]"
   ]
  },
  {
   "cell_type": "code",
   "execution_count": 3,
   "metadata": {},
   "outputs": [],
   "source": [
    "## Operation mode (selects functionalities)\n",
    "mode = \"debug\"\n",
    "# \"populate\" = population of memory, generation of initial memory file\n",
    "# \"training\" = training agents, maximum speed, frozen UI, mid amount of messages\n",
    "# \"debug\"    = trains for 1 episode, minimum speed, working UI, all messages\n",
    "# \"demo\"     = loads pretrained agent, minimum speed, working UI\n",
    "# \"test\"     = executes evaluation, maximum speed\n",
    "\n",
    "## Network Model Parameters\n",
    "\n",
    "model_name  = 'Balance'\n",
    "# 'Single_Cross_Straight'\n",
    "# 'Single_Cross_Triple'\n",
    "# 'Balance'\n",
    "\n",
    "vissim_working_directory = 'C:\\\\Users\\\\acabrejasegea\\\\OneDrive - The Alan Turing Institute\\\\Desktop\\\\ATI\\\\0_TMF\\\\MLforFlowOptimisation\\\\Vissim\\\\'\n",
    "agent_type = 'DuelingDDQN'         # DQN, DuelingDQN, DDQN, DuelingDDQN\n",
    "reward_type = 'Queues'   \n",
    "# 'Queues'          Sum of the queues for all lanes in intersection\n",
    "# 'QueuesDiff'      Difference in queue lengths in last timestep\n",
    "# 'QueuesDiffSC'    10000* QueuesDiff - Queues^2\n",
    "# 'TotalDelayDiff'\n",
    "state_type  = 'Queues'    \n",
    "Random_Seed = 42\n",
    "\n",
    "## Use of additional files?\n",
    "flag_read_additionally  = False\n",
    "SaveResultsAgent = True\n",
    "# Random demand\n",
    "Random_Demand = False\n",
    "\n",
    "# Session ID\n",
    "Session_ID = 'Ep_'+str(episodes)+'_A_'+agent_type+\"_Act_\"+action_type+\"_Rew_\"+reward_type"
   ]
  },
  {
   "cell_type": "code",
   "execution_count": 4,
   "metadata": {},
   "outputs": [
    {
     "name": "stdout",
     "output_type": "stream",
     "text": [
      "Working Directory set to: C:\\Users\\acabrejasegea\\OneDrive - The Alan Turing Institute\\Desktop\\ATI\\0_TMF\\MLforFlowOptimisation\\Vissim\\\n",
      "Generating Cache...\n",
      "Cache generated.\n",
      "\n",
      "****************************\n",
      "*   COM Server dispatched  *\n",
      "****************************\n",
      "\n",
      "Attempting to load Model File: Balance.inpx ...\n",
      "Load process successful\n",
      "Simulation length set to 10000 seconds.\n",
      "Results from Previous Simulations: Deleted. Fresh Start Available.\n",
      "Fetched and containerized Simulation Object\n",
      "Fetched and containerized Network Object \n",
      "\n",
      "*******************************************************\n",
      "*                                                     *\n",
      "*                 SETUP COMPLETE                      *\n",
      "*                                                     *\n",
      "*******************************************************\n",
      "\n"
     ]
    }
   ],
   "source": [
    "# Initialize simulation\n",
    "Vissim, Simulation, Network, cache_flag = COMServerDispatch(model_name, vissim_working_directory,\\\n",
    "                                                            memory_population_length, timesteps_per_second,\\\n",
    "                                                            delete_results = True, verbose = True)\n"
   ]
  },
  {
   "cell_type": "code",
   "execution_count": 5,
   "metadata": {},
   "outputs": [],
   "source": [
    "npa = NetworkParser(Vissim)"
   ]
  },
  {
   "cell_type": "code",
   "execution_count": 6,
   "metadata": {},
   "outputs": [
    {
     "data": {
      "text/plain": [
       "[['10028-1',\n",
       "  '10025-2',\n",
       "  '10026-1',\n",
       "  '10020-1',\n",
       "  '10030-2',\n",
       "  '10031-1',\n",
       "  '103-1',\n",
       "  '105-1',\n",
       "  '107-1',\n",
       "  '109-1',\n",
       "  '111-1',\n",
       "  '101-1'],\n",
       " ['10037-1',\n",
       "  '10040-2',\n",
       "  '10041-1',\n",
       "  '10033-1',\n",
       "  '10043-2',\n",
       "  '10042-1',\n",
       "  '113-1',\n",
       "  '115-1'],\n",
       " ['10054-1',\n",
       "  '10044-2',\n",
       "  '10048-1',\n",
       "  '10055-3',\n",
       "  '10050-1',\n",
       "  '10047-2',\n",
       "  '10046-1',\n",
       "  '10052-3',\n",
       "  '117-1',\n",
       "  '119-1',\n",
       "  '121-1',\n",
       "  '123-1',\n",
       "  '125-1',\n",
       "  '127-1',\n",
       "  '129-1',\n",
       "  '131-1'],\n",
       " ['10061-1',\n",
       "  '10064-2',\n",
       "  '10059-1',\n",
       "  '10057-1',\n",
       "  '10067-2',\n",
       "  '10066-1',\n",
       "  '135-1',\n",
       "  '137-1',\n",
       "  '139-1',\n",
       "  '141-1',\n",
       "  '143-1',\n",
       "  '133-1'],\n",
       " ['10069-1', '10071-2', '10073-2', '10072-1', '145-1'],\n",
       " ['10078-1', '10075-1', '10074-1', '147-1', '149-1', '151-1'],\n",
       " ['10086-1', '10084-2', '10080-1', '10087-2', '153-1', '155-1'],\n",
       " ['10093-1',\n",
       "  '10091-1',\n",
       "  '10096-2',\n",
       "  '10090-1',\n",
       "  '10094-2',\n",
       "  '157-1',\n",
       "  '159-1',\n",
       "  '161-1',\n",
       "  '163-1',\n",
       "  '165-1',\n",
       "  '167-1'],\n",
       " ['10100-1', '10102-1', '10101-1', '169-1', '171-1', '173-1', '175-1'],\n",
       " ['10109-1',\n",
       "  '10113-1',\n",
       "  '10110-1',\n",
       "  '10108-1',\n",
       "  '177-1',\n",
       "  '179-1',\n",
       "  '181-1',\n",
       "  '183-1'],\n",
       " ['10120-1',\n",
       "  '10115-1',\n",
       "  '10114-1',\n",
       "  '10116-1',\n",
       "  '185-1',\n",
       "  '187-1',\n",
       "  '189-1',\n",
       "  '191-1'],\n",
       " ['10131-1',\n",
       "  '10126-1',\n",
       "  '10125-1',\n",
       "  '10127-1',\n",
       "  '193-1',\n",
       "  '195-1',\n",
       "  '197-1',\n",
       "  '199-1'],\n",
       " ['10136-1',\n",
       "  '10138-2',\n",
       "  '10137-1',\n",
       "  '10141-1',\n",
       "  '10144-2',\n",
       "  '205-1',\n",
       "  '207-1',\n",
       "  '209-1',\n",
       "  '211-1',\n",
       "  '201-1',\n",
       "  '203-1'],\n",
       " ['10153-2',\n",
       "  '10156-1',\n",
       "  '10157-1',\n",
       "  '10155-2',\n",
       "  '213-1',\n",
       "  '215-1',\n",
       "  '217-1',\n",
       "  '219-1',\n",
       "  '221-1']]"
      ]
     },
     "execution_count": 6,
     "metadata": {},
     "output_type": "execute_result"
    }
   ],
   "source": [
    "npa.signal_lanes"
   ]
  },
  {
   "cell_type": "code",
   "execution_count": 7,
   "metadata": {},
   "outputs": [
    {
     "name": "stdout",
     "output_type": "stream",
     "text": [
      "WARNING:tensorflow:From C:\\Users\\acabrejasegea\\AppData\\Local\\Continuum\\anaconda3\\envs\\vissimgpu\\lib\\site-packages\\tensorflow\\python\\ops\\resource_variable_ops.py:435: colocate_with (from tensorflow.python.framework.ops) is deprecated and will be removed in a future version.\n",
      "Instructions for updating:\n",
      "Colocations handled automatically by placer.\n",
      "WARNING:tensorflow:From C:\\Users\\acabrejasegea\\AppData\\Local\\Continuum\\anaconda3\\envs\\vissimgpu\\lib\\site-packages\\tensorflow\\python\\keras\\utils\\losses_utils.py:170: to_float (from tensorflow.python.ops.math_ops) is deprecated and will be removed in a future version.\n",
      "Instructions for updating:\n",
      "Use tf.cast instead.\n",
      "Deploying instance of Double Deep Q Learning Agent(s) in Junction 0\n",
      "Deploying instance of Double Deep Q Learning Agent(s) in Junction 1\n",
      "Deploying instance of Double Deep Q Learning Agent(s) in Junction 2\n",
      "Deploying instance of Double Deep Q Learning Agent(s) in Junction 3\n",
      "Deploying instance of Double Deep Q Learning Agent(s) in Junction 4\n",
      "Deploying instance of Double Deep Q Learning Agent(s) in Junction 5\n",
      "Deploying instance of Double Deep Q Learning Agent(s) in Junction 6\n",
      "Deploying instance of Double Deep Q Learning Agent(s) in Junction 7\n",
      "Deploying instance of Double Deep Q Learning Agent(s) in Junction 8\n",
      "Deploying instance of Double Deep Q Learning Agent(s) in Junction 9\n",
      "Deploying instance of Double Deep Q Learning Agent(s) in Junction 10\n",
      "Deploying instance of Double Deep Q Learning Agent(s) in Junction 11\n",
      "Deploying instance of Double Deep Q Learning Agent(s) in Junction 12\n",
      "Deploying instance of Double Deep Q Learning Agent(s) in Junction 13\n"
     ]
    }
   ],
   "source": [
    "Agents = [DQNAgent(state_size, action_size, ID, state_type, npa, memory_size,\\\n",
    "                           gamma, epsilon_sequence[0], alpha, copy_weights_frequency, Vissim, PER_activated,\\\n",
    "                           DoubleDQN = True if agent_type == \"DDQN\" or \"DuelingDDQN\" else False,\\\n",
    "                           Dueling = False if agent_type == \"DQN\" or \"DDQN\" else True) for ID in npa.signal_controllers_ids] \n",
    "time_t = 0"
   ]
  },
  {
   "cell_type": "code",
   "execution_count": 18,
   "metadata": {},
   "outputs": [],
   "source": [
    "All_Vehicles = Vissim.Net.Vehicles.GetAll()"
   ]
  },
  {
   "cell_type": "code",
   "execution_count": 19,
   "metadata": {},
   "outputs": [
    {
     "name": "stdout",
     "output_type": "stream",
     "text": [
      "15-2\n",
      "21-2\n",
      "1-1\n",
      "12-1\n"
     ]
    }
   ],
   "source": [
    "All_Vehicles = Vissim.Net.Vehicles.GetAll() \n",
    "for Veh in All_Vehicles:\n",
    "    print(Veh.AttValue('Lane'))"
   ]
  },
  {
   "cell_type": "code",
   "execution_count": null,
   "metadata": {},
   "outputs": [],
   "source": [
    "# Cycle through all agents and update them\n",
    "Agents = SF.Agents_update(Agents, Vissim, state_type, reward_type, state_size, seconds_per_green, seconds_per_yellow, mode, \n",
    "time_t)\n",
    "\n",
    "# Advance the game to the next second (proportionally to the simulator resolution).\n",
    "for _ in range(0, timesteps_per_second):\n",
    "    Vissim.Simulation.RunSingleStep()\n",
    "    time_t += 1"
   ]
  },
  {
   "cell_type": "code",
   "execution_count": 10,
   "metadata": {},
   "outputs": [],
   "source": [
    "signal_controllers     = toList(Vissim.Net.SignalControllers.GetAll())\n",
    "signal_controllers_ids = range(0,len(signal_controllers))\n",
    "signal_groups = [[] for _ in signal_controllers_ids]"
   ]
  },
  {
   "cell_type": "code",
   "execution_count": 14,
   "metadata": {
    "scrolled": true
   },
   "outputs": [
    {
     "name": "stdout",
     "output_type": "stream",
     "text": [
      "[<COMObject GetAll>, <COMObject GetAll>, <COMObject GetAll>, <COMObject GetAll>, <COMObject GetAll>, <COMObject GetAll>, <COMObject GetAll>, <COMObject GetAll>, <COMObject GetAll>, <COMObject GetAll>, <COMObject GetAll>, <COMObject GetAll>, <COMObject GetAll>, <COMObject GetAll>]\n",
      "14\n",
      "range(0, 14)\n",
      "[[<COMObject ItemByKey>, <COMObject ItemByKey>, <COMObject ItemByKey>, <COMObject ItemByKey>, <COMObject ItemByKey>, <COMObject ItemByKey>, <COMObject ItemByKey>, <COMObject ItemByKey>, <COMObject ItemByKey>, <COMObject ItemByKey>, <COMObject ItemByKey>, <COMObject ItemByKey>, <COMObject ItemByKey>, <COMObject ItemByKey>, <COMObject ItemByKey>, <COMObject ItemByKey>, <COMObject ItemByKey>, <COMObject ItemByKey>, <COMObject ItemByKey>, <COMObject ItemByKey>, <COMObject ItemByKey>, <COMObject ItemByKey>, <COMObject ItemByKey>, <COMObject ItemByKey>], [<COMObject ItemByKey>, <COMObject ItemByKey>, <COMObject ItemByKey>, <COMObject ItemByKey>, <COMObject ItemByKey>, <COMObject ItemByKey>, <COMObject ItemByKey>, <COMObject ItemByKey>, <COMObject ItemByKey>, <COMObject ItemByKey>, <COMObject ItemByKey>, <COMObject ItemByKey>, <COMObject ItemByKey>, <COMObject ItemByKey>, <COMObject ItemByKey>, <COMObject ItemByKey>], [<COMObject ItemByKey>, <COMObject ItemByKey>, <COMObject ItemByKey>, <COMObject ItemByKey>, <COMObject ItemByKey>, <COMObject ItemByKey>, <COMObject ItemByKey>, <COMObject ItemByKey>, <COMObject ItemByKey>, <COMObject ItemByKey>, <COMObject ItemByKey>, <COMObject ItemByKey>, <COMObject ItemByKey>, <COMObject ItemByKey>, <COMObject ItemByKey>, <COMObject ItemByKey>, <COMObject ItemByKey>, <COMObject ItemByKey>, <COMObject ItemByKey>, <COMObject ItemByKey>, <COMObject ItemByKey>, <COMObject ItemByKey>, <COMObject ItemByKey>, <COMObject ItemByKey>, <COMObject ItemByKey>, <COMObject ItemByKey>, <COMObject ItemByKey>, <COMObject ItemByKey>, <COMObject ItemByKey>, <COMObject ItemByKey>, <COMObject ItemByKey>, <COMObject ItemByKey>], [<COMObject ItemByKey>, <COMObject ItemByKey>, <COMObject ItemByKey>, <COMObject ItemByKey>, <COMObject ItemByKey>, <COMObject ItemByKey>, <COMObject ItemByKey>, <COMObject ItemByKey>, <COMObject ItemByKey>, <COMObject ItemByKey>, <COMObject ItemByKey>, <COMObject ItemByKey>, <COMObject ItemByKey>, <COMObject ItemByKey>, <COMObject ItemByKey>, <COMObject ItemByKey>, <COMObject ItemByKey>, <COMObject ItemByKey>, <COMObject ItemByKey>, <COMObject ItemByKey>, <COMObject ItemByKey>, <COMObject ItemByKey>, <COMObject ItemByKey>, <COMObject ItemByKey>], [<COMObject ItemByKey>, <COMObject ItemByKey>, <COMObject ItemByKey>, <COMObject ItemByKey>, <COMObject ItemByKey>, <COMObject ItemByKey>, <COMObject ItemByKey>, <COMObject ItemByKey>, <COMObject ItemByKey>, <COMObject ItemByKey>], [<COMObject ItemByKey>, <COMObject ItemByKey>, <COMObject ItemByKey>, <COMObject ItemByKey>, <COMObject ItemByKey>, <COMObject ItemByKey>, <COMObject ItemByKey>, <COMObject ItemByKey>, <COMObject ItemByKey>, <COMObject ItemByKey>, <COMObject ItemByKey>, <COMObject ItemByKey>], [<COMObject ItemByKey>, <COMObject ItemByKey>, <COMObject ItemByKey>, <COMObject ItemByKey>, <COMObject ItemByKey>, <COMObject ItemByKey>, <COMObject ItemByKey>, <COMObject ItemByKey>, <COMObject ItemByKey>, <COMObject ItemByKey>, <COMObject ItemByKey>, <COMObject ItemByKey>], [<COMObject ItemByKey>, <COMObject ItemByKey>, <COMObject ItemByKey>, <COMObject ItemByKey>, <COMObject ItemByKey>, <COMObject ItemByKey>, <COMObject ItemByKey>, <COMObject ItemByKey>, <COMObject ItemByKey>, <COMObject ItemByKey>, <COMObject ItemByKey>, <COMObject ItemByKey>, <COMObject ItemByKey>, <COMObject ItemByKey>, <COMObject ItemByKey>, <COMObject ItemByKey>, <COMObject ItemByKey>, <COMObject ItemByKey>, <COMObject ItemByKey>, <COMObject ItemByKey>, <COMObject ItemByKey>, <COMObject ItemByKey>], [<COMObject ItemByKey>, <COMObject ItemByKey>, <COMObject ItemByKey>, <COMObject ItemByKey>, <COMObject ItemByKey>, <COMObject ItemByKey>, <COMObject ItemByKey>, <COMObject ItemByKey>, <COMObject ItemByKey>, <COMObject ItemByKey>, <COMObject ItemByKey>, <COMObject ItemByKey>, <COMObject ItemByKey>, <COMObject ItemByKey>], [<COMObject ItemByKey>, <COMObject ItemByKey>, <COMObject ItemByKey>, <COMObject ItemByKey>, <COMObject ItemByKey>, <COMObject ItemByKey>, <COMObject ItemByKey>, <COMObject ItemByKey>, <COMObject ItemByKey>, <COMObject ItemByKey>, <COMObject ItemByKey>, <COMObject ItemByKey>, <COMObject ItemByKey>, <COMObject ItemByKey>, <COMObject ItemByKey>, <COMObject ItemByKey>], [<COMObject ItemByKey>, <COMObject ItemByKey>, <COMObject ItemByKey>, <COMObject ItemByKey>, <COMObject ItemByKey>, <COMObject ItemByKey>, <COMObject ItemByKey>, <COMObject ItemByKey>, <COMObject ItemByKey>, <COMObject ItemByKey>, <COMObject ItemByKey>, <COMObject ItemByKey>, <COMObject ItemByKey>, <COMObject ItemByKey>, <COMObject ItemByKey>, <COMObject ItemByKey>], [<COMObject ItemByKey>, <COMObject ItemByKey>, <COMObject ItemByKey>, <COMObject ItemByKey>, <COMObject ItemByKey>, <COMObject ItemByKey>, <COMObject ItemByKey>, <COMObject ItemByKey>, <COMObject ItemByKey>, <COMObject ItemByKey>, <COMObject ItemByKey>, <COMObject ItemByKey>, <COMObject ItemByKey>, <COMObject ItemByKey>, <COMObject ItemByKey>, <COMObject ItemByKey>], [<COMObject ItemByKey>, <COMObject ItemByKey>, <COMObject ItemByKey>, <COMObject ItemByKey>, <COMObject ItemByKey>, <COMObject ItemByKey>, <COMObject ItemByKey>, <COMObject ItemByKey>, <COMObject ItemByKey>, <COMObject ItemByKey>, <COMObject ItemByKey>, <COMObject ItemByKey>, <COMObject ItemByKey>, <COMObject ItemByKey>, <COMObject ItemByKey>, <COMObject ItemByKey>, <COMObject ItemByKey>, <COMObject ItemByKey>, <COMObject ItemByKey>, <COMObject ItemByKey>, <COMObject ItemByKey>, <COMObject ItemByKey>], [<COMObject ItemByKey>, <COMObject ItemByKey>, <COMObject ItemByKey>, <COMObject ItemByKey>, <COMObject ItemByKey>, <COMObject ItemByKey>, <COMObject ItemByKey>, <COMObject ItemByKey>, <COMObject ItemByKey>, <COMObject ItemByKey>, <COMObject ItemByKey>, <COMObject ItemByKey>, <COMObject ItemByKey>, <COMObject ItemByKey>, <COMObject ItemByKey>, <COMObject ItemByKey>, <COMObject ItemByKey>, <COMObject ItemByKey>]]\n"
     ]
    }
   ],
   "source": [
    "print(signal_controllers)\n",
    "print(len(signal_controllers))\n",
    "print(signal_controllers_ids)\n",
    "print(signal_groups)"
   ]
  },
  {
   "cell_type": "code",
   "execution_count": 13,
   "metadata": {},
   "outputs": [],
   "source": [
    "for SC in signal_controllers_ids:\n",
    "    for SG in range(1,signal_controllers[SC].SGs.Count+1):\n",
    "        signal_groups[SC].append(signal_controllers[SC].SGs.ItemByKey(SG))"
   ]
  },
  {
   "cell_type": "code",
   "execution_count": 533,
   "metadata": {},
   "outputs": [],
   "source": [
    "## SC01: Left Middle of the MAP. Four Way intersection. 12 signal groups. Identified by direction\n",
    "##       of incoming traffic/\n",
    "# 1 : East. Turn right and straight.\n",
    "# 2 : North. All directions.\n",
    "# 3 : West. Only turn left.\n",
    "# 4 : West. Turn right and straight.\n",
    "# 5 : South. All directions.\n",
    "# 6 : Pedestrian located in South East.\n",
    "# 7 : Pedestrian located in North East.\n",
    "# 8 : Pedestrian located in North.\n",
    "# 9 : Pedestrian located in North West.\n",
    "# 10: Pedestrian located in South West.\n",
    "# 11: Pedestrian located in South.\n",
    "# 12: East. Only turn left.\n",
    "\n",
    "model_phases_SC01 = [[1, 0, 0, 1, 0, 1, 0, 0, 1, 0, 0, 0],\\\n",
    "                     [0, 0, 1, 0, 0, 1, 0, 0, 1, 0, 0, 1],\\\n",
    "                     [0, 1, 0, 0, 1, 0, 1, 0, 0, 1, 0, 0]]\n",
    "\n",
    "extra_phases_SC01 = [[1, 0, 0, 0, 0, 0, 0, 0, 0, 0, 0, 1],\\\n",
    "                     [0, 0, 1, 1, 0, 0, 0, 0, 0, 0, 0, 0]]\n",
    "\n",
    "link_list_SC01 = [2, 40, 7, 38]\n",
    "lane_list_SC01 = ['2-1', '2-2', '2-3', '40-1', '7-1', '7-2', '7-3', '38-1'] \n",
    "\n",
    "##########\n",
    "## SC02 ##\n",
    "##########\n",
    "model_phases_SC02 = [[0, 1, 0, 0, 1, 0, 1, 1],\\\n",
    "                     [1, 0, 0, 1, 0, 0, 0, 0],\\\n",
    "                     [0, 0, 1, 0, 0, 1, 0, 0]]\n",
    "\n",
    "extra_phases_SC02 = [[1, 1, 0, 0, 0, 0, 0, 0],\\\n",
    "                     [0, 0, 0, 1, 1, 0, 0, 0]]\n",
    "\n",
    "link_list_SC02 = [5, 48, 70, 46]\n",
    "lane_list_SC02 = ['5-1', '5-2', '5-3', '48-1', '70-1', '70-2', '70-3', '46-1']\n",
    "\n",
    "##########\n",
    "## SC03 ##\n",
    "##########\n",
    "model_phases_SC03 = [[0, 1, 0, 0, 0, 1, 0, 0, 0, 0, 0, 0, 0, 0, 0, 0],\\\n",
    "                     [1, 0, 0, 0, 1, 0, 0, 0, 0, 0, 0, 0, 0, 0, 0, 0],\\\n",
    "                     [0, 0, 0, 1, 0, 0, 0, 1, 0, 0, 0, 0, 0, 0, 0, 0],\\\n",
    "                     [0, 0, 1, 0, 0, 0, 1, 0, 0, 0, 0, 0, 0, 0, 0, 0]]\n",
    "\n",
    "extra_phases_SC03 = [[1, 1, 0, 0, 0, 0, 0, 0, 0, 0, 0, 0, 0, 0, 0, 0],\\\n",
    "                     [0, 0, 1, 1, 0, 0, 0, 0, 0, 0, 0, 0, 0, 0, 0, 0],\\\n",
    "                     [0, 0, 0, 0, 1, 1, 0, 0, 0, 0, 0, 0, 0, 0, 0, 0],\\\n",
    "                     [0, 0, 0, 0, 0, 0, 1, 1, 0, 0, 0, 0, 0, 0, 0, 0]]\n",
    "\n",
    "link_list_SC03 = [73, 100, 84, 95]\n",
    "lane_list_SC03 = ['73-1', '73-2', '73-3', '100-1', '100-2', '100-3', '100-4',\\\n",
    "                  '84-1', '84-2', '84-3', '95-1', '95-2', '95-3', '95-4']\n",
    "\n",
    "##########\n",
    "## SC04 ##\n",
    "##########\n",
    "model_phases_SC04 = [[0, 1, 0, 0, 1, 0, 1, 0, 0, 1, 0, 0],\\\n",
    "                     [1, 0, 0, 1, 0, 0, 1, 0, 0, 1, 0, 0],\\\n",
    "                     [0, 0, 1, 0, 0, 1, 0, 1, 1, 0, 1, 1]]\n",
    "\n",
    "extra_phases_SC04 = [[1, 1, 0, 0, 0, 0, 1, 0, 0, 0, 1, 0],\n",
    "                     [0, 0, 0, 1, 1, 0, 0, 1, 0, 1, 0, 0]]\n",
    "\n",
    "link_list_SC04 =[87, 36, 10, 34]\n",
    "lane_list_SC04 = ['87-1', '87-2', '87-3', '36-1', '10-1', '10-2', '10-3', '34-1']\n",
    "\n",
    "##########\n",
    "## SC05 ##\n",
    "##########\n",
    "model_phases_SC05 = [[0, 1, 1, 0, 0],\\\n",
    "                     [1, 1, 0, 0, 0],\\\n",
    "                     [0, 0, 0, 1, 0]]\n",
    "\n",
    "extra_phases_SC05 = []\n",
    "\n",
    "link_list_SC05 = [8, 24, 13]\n",
    "lane_list_SC05 = ['8-1', '8-2', '24-1', '13-1', '13-2', '13-3']\n",
    "\n",
    "##########\n",
    "## SC06 ##\n",
    "##########\n",
    "model_phases_SC06 = [[1, 0, 1, 0, 1, 0],\\\n",
    "                     [0, 1, 0, 1, 0, 1]]\n",
    "\n",
    "extra_phases_SC06 = []\n",
    "\n",
    "link_list_SC06 = [26, 23, 35]\n",
    "lane_list_SC06 = ['26-1', '23-1', '35-1']\n",
    "\n",
    "##########\n",
    "## SC07 ##\n",
    "##########\n",
    "model_phases_SC07 = [[0, 1, 0, 1, 1, 1],\n",
    "                     [1, 0, 1, 0, 0, 0]]\n",
    "\n",
    "extra_phases_SC07 = []\n",
    "\n",
    "link_list_SC07 = [51, 92, 64, 19]\n",
    "lane_list_SC07 = ['51-1', '92-1', '92-2', '64-1', '19-1', '19-2']\n",
    "\n",
    "##########\n",
    "## SC08 ##\n",
    "##########\n",
    "model_phases_SC08 = [[0, 0, 1, 0, 1, 0, 0, 0, 0, 0, 0],\\\n",
    "                     [0, 1, 0, 1, 0, 0, 0, 0, 0, 0, 0],\\\n",
    "                     [1, 0, 0, 0, 0, 0, 0, 0, 0, 0, 0]]\n",
    "\n",
    "extra_phases_SC08 = [[0, 1, 1, 0, 0, 0, 0, 0, 0, 0, 0],\\\n",
    "                     [0, 0, 0, 1, 1, 0, 0, 0, 0, 0, 0]]\n",
    "\n",
    "link_list_SC08 =[18, 66, 16]\n",
    "lane_list_SC08 = ['18-1', '18-2', '18-3', '66-1', '16-1', '16-2', '16-3']\n",
    "\n",
    "##########\n",
    "## SC09 ##\n",
    "##########\n",
    "model_phases_SC09 = [[1, 0, 1, 0, 0, 0, 0],\\\n",
    "                     [0, 1, 0, 0, 0, 0, 0]]\n",
    "\n",
    "extra_phases_SC09 = []\n",
    "\n",
    "link_list_SC09 = [62, 45, 44]\n",
    "lane_list_SC09 = ['62-1', '45-1', '44-1']\n",
    "\n",
    "##########\n",
    "## SC10 ##\n",
    "##########\n",
    "model_phases_SC10 = [[0, 1, 0, 1, 1, 0, 1, 0],\\\n",
    "                     [1, 0, 1, 0, 0, 1, 0, 1]]\n",
    "\n",
    "extra_phases_SC10 = []\n",
    "\n",
    "link_list_SC10 = [60, 43, 55, 58]\n",
    "lane_list_SC10 = ['60-1', '43-1', '55-1', '58-1']\n",
    "\n",
    "##########\n",
    "## SC11 ##\n",
    "##########\n",
    "model_phases_SC11 = [[1, 0, 1, 0, 0, 1, 0, 1],\\\n",
    "                     [0, 1, 0, 1, 1, 0, 1, 0]]\n",
    "\n",
    "extra_phases_SC11 = []\n",
    "\n",
    "link_list_SC11 = [32, 42, 30, 39]\n",
    "lane_list_SC11 = ['32-1', '42-1', '30-1', '39-1']\n",
    "\n",
    "##########\n",
    "## SC12 ##\n",
    "##########\n",
    "model_phases_SC12 = [[1, 0, 1, 0, 0, 1, 0, 1],\\\n",
    "                     [0, 1, 0, 1, 1, 0, 1, 0]]\n",
    "\n",
    "extra_phases_SC12 = []\n",
    "\n",
    "link_list_SC12 = [29, 50, 28, 47]\n",
    "lane_list_SC12 = ['29-1', '50-1', '28-1', '47-1']\n",
    "\n",
    "##########\n",
    "## SC13 ##\n",
    "##########\n",
    "model_phases_SC13 = [[1, 0, 0, 0, 0, 0, 1, 1, 0, 1, 1],\\\n",
    "                     [0, 0, 1, 0, 0, 0, 1, 1, 0, 1, 1],\\\n",
    "                     [0, 1, 0, 0, 1, 1, 0, 0, 1, 0, 0],\\\n",
    "                     [0, 0, 0, 1, 1, 1, 0, 0, 1, 0, 0]]\n",
    "\n",
    "extra_phases_SC13 = []\n",
    "\n",
    "link_list_SC13 = [27, 22, 25, 77]\n",
    "lane_list_SC13 = ['27-1', '22-1', '22-2', '22-3', '25-1', '77-1', '77-2']\n",
    "\n",
    "##########\n",
    "## SC14 ##\n",
    "##########\n",
    "model_phases_SC14 = [[1, 0, 0, 1, 0, 0, 1, 0, 0],\\\n",
    "                     [0, 0, 1, 1, 0, 1, 0, 0, 0],\\\n",
    "                     [0, 1, 0, 0, 1, 1, 0, 1, 1]]\n",
    "\n",
    "extra_phases_SC14 = []\n",
    "\n",
    "link_list_SC14 = [68, 71, 75]\n",
    "lane_list_SC14 = ['68-1', '68-2', '68-3', '71-1', '71-2', '75-1']\n",
    "\n",
    "######################\n",
    "## FINAL CONTAINERS ##\n",
    "######################\n",
    "\n",
    "## LIST WITH ALL STANDARD PHASES PER INTERSECTION\n",
    "basic_phases = [model_phases_SC01, model_phases_SC02, model_phases_SC03, model_phases_SC04,\\\n",
    "               model_phases_SC05, model_phases_SC06, model_phases_SC07, model_phases_SC08, \\\n",
    "               model_phases_SC09, model_phases_SC10, model_phases_SC11, model_phases_SC12,\\\n",
    "               model_phases_SC13, model_phases_SC14]\n",
    "\n",
    "## LIST WITH ALL POSSIBLE PHASES PER INTERSECTION\n",
    "all_phases = [model_phases_SC01+extra_phases_SC01, model_phases_SC02+extra_phases_SC02,\\\n",
    "              model_phases_SC03+extra_phases_SC03, model_phases_SC04+extra_phases_SC04,\\\n",
    "              model_phases_SC05+extra_phases_SC05, model_phases_SC06+extra_phases_SC06,\\\n",
    "              model_phases_SC07+extra_phases_SC07, model_phases_SC08+extra_phases_SC08,\\\n",
    "              model_phases_SC09+extra_phases_SC09, model_phases_SC10+extra_phases_SC10,\\\n",
    "              model_phases_SC11+extra_phases_SC11, model_phases_SC12+extra_phases_SC12,\\\n",
    "              model_phases_SC13+extra_phases_SC13, model_phases_SC14+extra_phases_SC14]\n",
    "\n",
    "## LIST OF NAMES OF LINKS\n",
    "link_list = [link_list_SC01, link_list_SC02, link_list_SC03, link_list_SC04, link_list_SC05,\\\n",
    "             link_list_SC06, link_list_SC07, link_list_SC08, link_list_SC09, link_list_SC10,\\\n",
    "             link_list_SC11, link_list_SC12, link_list_SC13, link_list_SC14]\n",
    "\n",
    "## LIST OF NAMES OF LANES\n",
    "lane_list = [lane_list_SC01, lane_list_SC02, lane_list_SC03, lane_list_SC04, lane_list_SC05,\\\n",
    "             lane_list_SC06, lane_list_SC07, lane_list_SC08, lane_list_SC09, lane_list_SC10,\\\n",
    "             lane_list_SC11, lane_list_SC12, lane_list_SC13, lane_list_SC14]\n",
    "\n",
    "## LIST OF LINKS AS OBJECTS\n",
    "link_list_obj = [[] for _ in link_list]\n",
    "\n",
    "for index, link_names in enumerate(link_list):\n",
    "    for link in link_names:\n",
    "        link_list_obj[index].append(Network.Links.ItemByKey(link))\n",
    "\n",
    "## LIST OF LANES AS OBJECTS\n",
    "lane_list_obj = [[] for _ in link_list]\n",
    "\n",
    "for index, links_in_intersection in enumerate(link_list):\n",
    "    for link in links_in_intersection:\n",
    "        for lane in Network.Links.ItemByKey(link).Lanes:\n",
    "            lane_list_obj[index].append(lane)"
   ]
  },
  {
   "cell_type": "code",
   "execution_count": 546,
   "metadata": {},
   "outputs": [],
   "source": [
    "for i in range(300):\n",
    "    Vissim.Simulation.RunSingleStep()\n",
    "    \n",
    "    if i % 3 == 0:\n",
    "        for list_of_lanes in lane_list_obj:\n",
    "            state = get_state(list_of_lanes)\n"
   ]
  },
  {
   "cell_type": "code",
   "execution_count": 539,
   "metadata": {},
   "outputs": [],
   "source": [
    "for list_of_lanes in lane_list_obj:\n",
    "    get_state(list_of_lanes)"
   ]
  },
  {
   "cell_type": "code",
   "execution_count": 534,
   "metadata": {},
   "outputs": [],
   "source": [
    "def get_state(list_of_lanes):\n",
    "    state = [get_queue(lane) for lane in list_of_lanes]\n",
    "    return(state)\n",
    "\n",
    "def get_queue(lane):\n",
    "    vehicles_in_lane = lane.Vehs\n",
    "    queue_in_lane = 0\n",
    "    for vehicle in vehicles_in_lane:\n",
    "        if vehicle.AttValue('InQueue') == 1:\n",
    "            queue_in_lane +=1\n",
    "    return(queue_in_lane)"
   ]
  },
  {
   "cell_type": "code",
   "execution_count": 537,
   "metadata": {},
   "outputs": [
    {
     "data": {
      "text/plain": [
       "[0, 0, 0, 0, 0, 0, 1, 2]"
      ]
     },
     "execution_count": 537,
     "metadata": {},
     "output_type": "execute_result"
    }
   ],
   "source": [
    "get_state(lane_list_obj[0])"
   ]
  },
  {
   "cell_type": "code",
   "execution_count": 506,
   "metadata": {},
   "outputs": [],
   "source": [
    "SC_list = range(1,15)\n",
    "links = [[100, 73, 84, 95]\n",
    "number_lanes_SC03 = [4, 3, 3, 4]\n",
    "\n",
    "lanes_object = [[] for _ in range(1,15)]\n",
    "\n",
    "for SC in SC_list\n",
    "    for link in links[SC]:\n",
    "        for lane in range(1, number_lanes[SC][link]+1):\n",
    "            lanes[SC].append(Network.Links.ItemByKey(link).Lanes.ItemByKey(lane))\n",
    "\n",
    "lanes_in_3 = []\n",
    "for i in range(1,5):\n",
    "    lanes_in_3.append(Network.Links.ItemByKey(100).Lanes.ItemByKey(i))\n",
    "for i in range(1,4):\n",
    "    lanes_in_3.append(Network.Links.ItemByKey(73).Lanes.ItemByKey(i))\n",
    "for i in range(1,4):\n",
    "    lanes_in_3.append(Network.Links.ItemByKey(84).Lanes.ItemByKey(i))\n",
    "for i in range(1,5):\n",
    "    lanes_in_3.append(Network.Links.ItemByKey(95).Lanes.ItemByKey(i))"
   ]
  },
  {
   "cell_type": "code",
   "execution_count": 507,
   "metadata": {},
   "outputs": [],
   "source": []
  },
  {
   "cell_type": "code",
   "execution_count": 508,
   "metadata": {},
   "outputs": [],
   "source": []
  },
  {
   "cell_type": "code",
   "execution_count": 509,
   "metadata": {},
   "outputs": [
    {
     "name": "stdout",
     "output_type": "stream",
     "text": [
      "[4, 2, 1, 4, 4, 2, 4, 5, 5, 0, 7, 2, 0, 0]\n",
      "[4, 2, 1, 4, 4, 2, 4, 5, 5, 0, 7, 2, 0, 0]\n"
     ]
    }
   ],
   "source": [
    "print(get_state(lanes_in_3))"
   ]
  },
  {
   "cell_type": "code",
   "execution_count": 371,
   "metadata": {},
   "outputs": [],
   "source": [
    "signal_groups[2][19].SetAttValue(\"SigState\", \"RED\")"
   ]
  },
  {
   "cell_type": "code",
   "execution_count": null,
   "metadata": {},
   "outputs": [],
   "source": [
    "signal_controllers[13].SGs.ItemByKey(1).SetAttValue(\"SigState\", \"AMBER\")\n",
    "for i in range(10):\n",
    "    Vissim.Simulation.RunSingleStep()"
   ]
  },
  {
   "cell_type": "code",
   "execution_count": null,
   "metadata": {},
   "outputs": [],
   "source": [
    "for index, SC in enumerate(signal_controllers):\n",
    "    print(index)\n",
    "    for SG in range(1,SC.SGs.Count):\n",
    "        signal_groups[index].append(SC.SGs.ItemByKey(SG+1))"
   ]
  },
  {
   "cell_type": "code",
   "execution_count": null,
   "metadata": {},
   "outputs": [],
   "source": [
    "a = toList(signal_groups[0][0].SigHeads.GetAll())\n",
    "print(a)\n",
    "print(signal_controllers)"
   ]
  },
  {
   "cell_type": "code",
   "execution_count": 515,
   "metadata": {},
   "outputs": [
    {
     "name": "stdout",
     "output_type": "stream",
     "text": [
      "<COMObject <unknown>>\n",
      "<COMObject <unknown>>\n",
      "<COMObject <unknown>>\n",
      "<COMObject <unknown>>\n"
     ]
    }
   ],
   "source": [
    "a = Network.Links.ItemByKey(100).Lanes\n",
    "for i in a:\n",
    "    print(i)"
   ]
  },
  {
   "cell_type": "code",
   "execution_count": null,
   "metadata": {},
   "outputs": [],
   "source": [
    "## Create SignalHeadsCollection and unpack the SignalHeads into a list by SignalController\n",
    "signal_heads = [[] for _ in signal_controllers_ids]\n",
    "for SC in signal_controllers_ids:\n",
    "    print(\"Signal Controller {}\".format(SC))\n",
    "    print(\"Total of {} Signal Groups\".format(signal_controllers[SC].SGs.Count))\n",
    "    for SG in range(signal_controllers[SC].SGs.Count):\n",
    "        print(\"Processing Signal Group {}\".format(SG))\n",
    "        signal_heads[SC].append(toList(signal_groups[SC][SG].SigHeads.GetAll())[0])"
   ]
  },
  {
   "cell_type": "code",
   "execution_count": null,
   "metadata": {},
   "outputs": [],
   "source": [
    "toList(signal_groups[2][8].SigHeads.GetAll())"
   ]
  },
  {
   "cell_type": "code",
   "execution_count": null,
   "metadata": {},
   "outputs": [],
   "source": [
    "for SC in signal_controllers[0:15]:\n",
    "    for SG in range(1, SC.SGs.Count+1):\n",
    "        SC.SGs.ItemByKey(SG).SetAttValue(\"SigState\", \"GREEN\")\n",
    "for i in range(10):\n",
    "    Vissim.Simulation.RunSingleStep()"
   ]
  },
  {
   "cell_type": "code",
   "execution_count": null,
   "metadata": {},
   "outputs": [],
   "source": [
    "for SC in signal_controllers:\n",
    "    print(SC.SGs.Count)"
   ]
  },
  {
   "cell_type": "code",
   "execution_count": null,
   "metadata": {},
   "outputs": [],
   "source": [
    "signal_groups = [[] for _ in signal_controllers_ids]\n",
    "for SC in signal_controllers_ids:\n",
    "    for SG in range(1,signal_controllers[SC].SGs.Count+1):\n",
    "        signal_groups[SC].append(signal_controllers[SC].SGs.ItemByKey(SG))\n",
    "        \n",
    "for SC in signal_controllers_ids:\n",
    "    print(len(signal_groups[SC]))"
   ]
  },
  {
   "cell_type": "code",
   "execution_count": null,
   "metadata": {},
   "outputs": [],
   "source": [
    "signal_groups[2][8]"
   ]
  },
  {
   "cell_type": "code",
   "execution_count": null,
   "metadata": {},
   "outputs": [],
   "source": [
    "a = [[1],[2]]\n",
    "b = [[3], [4]]\n",
    "c = a+b\n",
    "c"
   ]
  }
 ],
 "metadata": {
  "kernelspec": {
   "display_name": "TensorFlow-GPU",
   "language": "python",
   "name": "vissimgpu"
  },
  "language_info": {
   "codemirror_mode": {
    "name": "ipython",
    "version": 3
   },
   "file_extension": ".py",
   "mimetype": "text/x-python",
   "name": "python",
   "nbconvert_exporter": "python",
   "pygments_lexer": "ipython3",
   "version": "3.6.8"
  }
 },
 "nbformat": 4,
 "nbformat_minor": 2
}
