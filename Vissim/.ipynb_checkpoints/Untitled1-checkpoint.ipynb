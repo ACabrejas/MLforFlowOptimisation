{
 "cells": [
  {
   "cell_type": "code",
   "execution_count": 15,
   "metadata": {},
   "outputs": [],
   "source": [
    "# COM-Server\n",
    "import win32com.client as com\n",
    "import os"
   ]
  },
  {
   "cell_type": "code",
   "execution_count": 16,
   "metadata": {},
   "outputs": [],
   "source": [
    "Vissim = com.gencache.EnsureDispatch(\"Vissim.Vissim\") #"
   ]
  },
  {
   "cell_type": "code",
   "execution_count": 17,
   "metadata": {},
   "outputs": [],
   "source": [
    "Path_of_COM_Basic_Commands_network = 'C:\\\\Users\\\\Public\\\\Documents\\\\PTV Vision\\\\PTV Vissim 11\\\\Examples Training\\\\COM\\\\Basic Commands\\\\'\n"
   ]
  },
  {
   "cell_type": "code",
   "execution_count": 18,
   "metadata": {},
   "outputs": [],
   "source": [
    "## Load a Vissim Network:\n",
    "Filename                = os.path.join(Path_of_COM_Basic_Commands_network, 'COM Basic Commands.inpx')\n",
    "flag_read_additionally  = False # you can read network(elements) additionally, in this case set \"flag_read_additionally\" to true\n",
    "Vissim.LoadNet(Filename, flag_read_additionally)"
   ]
  },
  {
   "cell_type": "code",
   "execution_count": 19,
   "metadata": {},
   "outputs": [],
   "source": [
    "## Load a Layout:\n",
    "Filename = os.path.join(Path_of_COM_Basic_Commands_network, 'COM Basic Commands.layx')\n",
    "Vissim.LoadLayout(Filename)"
   ]
  },
  {
   "cell_type": "code",
   "execution_count": 20,
   "metadata": {},
   "outputs": [
    {
     "name": "stdout",
     "output_type": "stream",
     "text": [
      "Name of Link( 1 ): Old Link Name\n"
     ]
    }
   ],
   "source": [
    "# Read Link Name:\n",
    "Link_number = 1\n",
    "Name_of_Link = Vissim.Net.Links.ItemByKey(Link_number).AttValue('Name')\n",
    "print 'Name of Link(',Link_number,'):',Name_of_Link"
   ]
  },
  {
   "cell_type": "code",
   "execution_count": 21,
   "metadata": {},
   "outputs": [
    {
     "name": "stdout",
     "output_type": "stream",
     "text": [
      "Name of Link( 1 ): New Link Name\n"
     ]
    }
   ],
   "source": [
    "# Set Link Name and print it:\n",
    "new_Name_of_Link = 'New Link Name'\n",
    "Vissim.Net.Links.ItemByKey(Link_number).SetAttValue('Name', new_Name_of_Link)\n",
    "Name_of_Link = Vissim.Net.Links.ItemByKey(Link_number).AttValue('Name')\n",
    "print 'Name of Link(',Link_number,'):',Name_of_Link"
   ]
  },
  {
   "cell_type": "code",
   "execution_count": 13,
   "metadata": {},
   "outputs": [],
   "source": []
  },
  {
   "cell_type": "code",
   "execution_count": 14,
   "metadata": {},
   "outputs": [
    {
     "ename": "com_error",
     "evalue": "(-2147023174, 'The RPC server is unavailable.', None, None)",
     "output_type": "error",
     "traceback": [
      "\u001b[1;31m---------------------------------------------------------------------------\u001b[0m",
      "\u001b[1;31mcom_error\u001b[0m                                 Traceback (most recent call last)",
      "\u001b[1;32m<ipython-input-14-2580724b78dc>\u001b[0m in \u001b[0;36m<module>\u001b[1;34m()\u001b[0m\n\u001b[0;32m      1\u001b[0m \u001b[1;31m# GetMultiAttValues         Read one attribute of all objects:\u001b[0m\u001b[1;33m\u001b[0m\u001b[1;33m\u001b[0m\u001b[0m\n\u001b[1;32m----> 2\u001b[1;33m \u001b[0mNameOfLinks\u001b[0m \u001b[1;33m=\u001b[0m \u001b[0mVissim\u001b[0m\u001b[1;33m.\u001b[0m\u001b[0mNet\u001b[0m\u001b[1;33m.\u001b[0m\u001b[0mLinks\u001b[0m\u001b[1;33m.\u001b[0m\u001b[0mGetMultiAttValues\u001b[0m\u001b[1;33m(\u001b[0m\u001b[1;34m'Name'\u001b[0m\u001b[1;33m)\u001b[0m\u001b[1;33m\u001b[0m\u001b[0m\n\u001b[0m\u001b[0;32m      3\u001b[0m \u001b[0mNameOfLinks\u001b[0m \u001b[1;33m=\u001b[0m \u001b[0mtoList\u001b[0m\u001b[1;33m(\u001b[0m\u001b[0mNameOfLinks\u001b[0m\u001b[1;33m)\u001b[0m \u001b[1;31m# convert to list\u001b[0m\u001b[1;33m\u001b[0m\u001b[0m\n\u001b[0;32m      4\u001b[0m \u001b[0mNameOfLinks\u001b[0m\u001b[1;33m\u001b[0m\u001b[0m\n",
      "\u001b[1;32mC:\\Users\\acabrejasegea\\AppData\\Local\\Continuum\\anaconda3\\envs\\vissim\\lib\\site-packages\\win32com\\client\\__init__.pyc\u001b[0m in \u001b[0;36m__getattr__\u001b[1;34m(self, attr)\u001b[0m\n\u001b[0;32m    472\u001b[0m                 \u001b[1;32mif\u001b[0m \u001b[0margs\u001b[0m \u001b[1;32mis\u001b[0m \u001b[0mNone\u001b[0m\u001b[1;33m:\u001b[0m\u001b[1;33m\u001b[0m\u001b[0m\n\u001b[0;32m    473\u001b[0m                         \u001b[1;32mraise\u001b[0m \u001b[0mAttributeError\u001b[0m\u001b[1;33m(\u001b[0m\u001b[1;34m\"'%s' object has no attribute '%s'\"\u001b[0m \u001b[1;33m%\u001b[0m \u001b[1;33m(\u001b[0m\u001b[0mrepr\u001b[0m\u001b[1;33m(\u001b[0m\u001b[0mself\u001b[0m\u001b[1;33m)\u001b[0m\u001b[1;33m,\u001b[0m \u001b[0mattr\u001b[0m\u001b[1;33m)\u001b[0m\u001b[1;33m)\u001b[0m\u001b[1;33m\u001b[0m\u001b[0m\n\u001b[1;32m--> 474\u001b[1;33m                 \u001b[1;32mreturn\u001b[0m \u001b[0mself\u001b[0m\u001b[1;33m.\u001b[0m\u001b[0m_ApplyTypes_\u001b[0m\u001b[1;33m(\u001b[0m\u001b[1;33m*\u001b[0m\u001b[0margs\u001b[0m\u001b[1;33m)\u001b[0m\u001b[1;33m\u001b[0m\u001b[0m\n\u001b[0m\u001b[0;32m    475\u001b[0m \u001b[1;33m\u001b[0m\u001b[0m\n\u001b[0;32m    476\u001b[0m         \u001b[1;32mdef\u001b[0m \u001b[0m__setattr__\u001b[0m\u001b[1;33m(\u001b[0m\u001b[0mself\u001b[0m\u001b[1;33m,\u001b[0m \u001b[0mattr\u001b[0m\u001b[1;33m,\u001b[0m \u001b[0mvalue\u001b[0m\u001b[1;33m)\u001b[0m\u001b[1;33m:\u001b[0m\u001b[1;33m\u001b[0m\u001b[0m\n",
      "\u001b[1;32mC:\\Users\\acabrejasegea\\AppData\\Local\\Continuum\\anaconda3\\envs\\vissim\\lib\\site-packages\\win32com\\client\\__init__.pyc\u001b[0m in \u001b[0;36m_ApplyTypes_\u001b[1;34m(self, dispid, wFlags, retType, argTypes, user, resultCLSID, *args)\u001b[0m\n\u001b[0;32m    465\u001b[0m         \u001b[1;32mdef\u001b[0m \u001b[0m_ApplyTypes_\u001b[0m\u001b[1;33m(\u001b[0m\u001b[0mself\u001b[0m\u001b[1;33m,\u001b[0m \u001b[0mdispid\u001b[0m\u001b[1;33m,\u001b[0m \u001b[0mwFlags\u001b[0m\u001b[1;33m,\u001b[0m \u001b[0mretType\u001b[0m\u001b[1;33m,\u001b[0m \u001b[0margTypes\u001b[0m\u001b[1;33m,\u001b[0m \u001b[0muser\u001b[0m\u001b[1;33m,\u001b[0m \u001b[0mresultCLSID\u001b[0m\u001b[1;33m,\u001b[0m \u001b[1;33m*\u001b[0m\u001b[0margs\u001b[0m\u001b[1;33m)\u001b[0m\u001b[1;33m:\u001b[0m\u001b[1;33m\u001b[0m\u001b[0m\n\u001b[0;32m    466\u001b[0m \t\treturn self._get_good_object_(\n\u001b[1;32m--> 467\u001b[1;33m                         \u001b[0mself\u001b[0m\u001b[1;33m.\u001b[0m\u001b[0m_oleobj_\u001b[0m\u001b[1;33m.\u001b[0m\u001b[0mInvokeTypes\u001b[0m\u001b[1;33m(\u001b[0m\u001b[0mdispid\u001b[0m\u001b[1;33m,\u001b[0m \u001b[1;36m0\u001b[0m\u001b[1;33m,\u001b[0m \u001b[0mwFlags\u001b[0m\u001b[1;33m,\u001b[0m \u001b[0mretType\u001b[0m\u001b[1;33m,\u001b[0m \u001b[0margTypes\u001b[0m\u001b[1;33m,\u001b[0m \u001b[1;33m*\u001b[0m\u001b[0margs\u001b[0m\u001b[1;33m)\u001b[0m\u001b[1;33m,\u001b[0m\u001b[1;33m\u001b[0m\u001b[0m\n\u001b[0m\u001b[0;32m    468\u001b[0m \t\t\tuser, resultCLSID)\n\u001b[0;32m    469\u001b[0m \u001b[1;33m\u001b[0m\u001b[0m\n",
      "\u001b[1;31mcom_error\u001b[0m: (-2147023174, 'The RPC server is unavailable.', None, None)"
     ]
    }
   ],
   "source": []
  }
 ],
 "metadata": {
  "kernelspec": {
   "display_name": "Python 2",
   "language": "python",
   "name": "python2"
  },
  "language_info": {
   "codemirror_mode": {
    "name": "ipython",
    "version": 2
   },
   "file_extension": ".py",
   "mimetype": "text/x-python",
   "name": "python",
   "nbconvert_exporter": "python",
   "pygments_lexer": "ipython2",
   "version": "2.7.15"
  }
 },
 "nbformat": 4,
 "nbformat_minor": 2
}
