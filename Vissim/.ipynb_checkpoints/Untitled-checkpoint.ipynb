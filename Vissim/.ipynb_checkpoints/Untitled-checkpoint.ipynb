{
 "cells": [
  {
   "cell_type": "code",
   "execution_count": 1,
   "metadata": {},
   "outputs": [],
   "source": [
    "## VISSIM Modules\n",
    "import win32com.client as com\n",
    "import os\n",
    "\n",
    "## Other Modules\n",
    "import numpy as np\n",
    "\n",
    "def toList(NestedTuple):\n",
    "    return list(map(toList, NestedTuple)) if isinstance(NestedTuple, (list, tuple)) else NestedTuple"
   ]
  },
  {
   "cell_type": "code",
   "execution_count": 2,
   "metadata": {},
   "outputs": [],
   "source": [
    "# Timesteps per simulation (1 timestep = 0.1 sec), length for random population is a multiple of episode\n",
    "timesteps_per_second = 1\n",
    "seconds_per_green = 7\n",
    "seconds_per_yellow = 3\n",
    "simulation_length = 3600*1 + 1"
   ]
  },
  {
   "cell_type": "code",
   "execution_count": 3,
   "metadata": {},
   "outputs": [],
   "source": [
    "## Network Model Parameters\n",
    "model_name  = 'Single_Cross_Straight'\n",
    "vissim_working_directory = 'C:\\\\Users\\\\acabrejasegea\\\\OneDrive - The Alan Turing Institute\\\\Desktop\\\\ATI\\\\0_TMF\\\\MLforFlowOptimisation\\\\Vissim\\\\'"
   ]
  },
  {
   "cell_type": "code",
   "execution_count": 4,
   "metadata": {},
   "outputs": [],
   "source": [
    "Vissim = com.dynamic.Dispatch(\"Vissim.Vissim\") \n",
    "Filename = os.path.join(vissim_working_directory, model_name, (model_name+'.inpx'))\n",
    "Vissim.LoadNet(Filename)\n",
    "#Vissim.Simulation.SetAttValue('SimPeriod', simulation_length*timesteps_per_second)\n",
    "Simulation = Vissim.Simulation\n",
    "Network = Vissim.Net"
   ]
  },
  {
   "cell_type": "code",
   "execution_count": 5,
   "metadata": {},
   "outputs": [],
   "source": [
    "# Deploy Network Parser (crawl network)\n",
    "signal_controllers = toList(Vissim.Net.SignalControllers.GetAll())\n",
    "signal_groups = [Network.SignalControllers[0].SGs.ItemByKey(i) for i in range(1,5)]"
   ]
  },
  {
   "cell_type": "code",
   "execution_count": 6,
   "metadata": {},
   "outputs": [
    {
     "data": {
      "text/plain": [
       "[<COMObject ItemByKey>,\n",
       " <COMObject ItemByKey>,\n",
       " <COMObject ItemByKey>,\n",
       " <COMObject ItemByKey>]"
      ]
     },
     "execution_count": 6,
     "metadata": {},
     "output_type": "execute_result"
    }
   ],
   "source": [
    "signal_groups"
   ]
  },
  {
   "cell_type": "code",
   "execution_count": 7,
   "metadata": {},
   "outputs": [],
   "source": [
    "# First half of the sample control cycle\n",
    "Vissim.Simulation.RunSingleStep()\n",
    "signal_groups[0].SetAttValue(\"SigState\", \"AMBER\")\n",
    "signal_groups[2].SetAttValue(\"SigState\", \"AMBER\")\n",
    "signal_groups[1].SetAttValue(\"SigState\", \"REDAMBER\")\n",
    "signal_groups[3].SetAttValue(\"SigState\", \"REDAMBER\")\n",
    "for _ in range(seconds_per_yellow):\n",
    "    Vissim.Simulation.RunSingleStep()\n",
    "signal_groups[0].SetAttValue(\"SigState\", \"RED\")\n",
    "signal_groups[2].SetAttValue(\"SigState\", \"RED\")\n",
    "signal_groups[1].SetAttValue(\"SigState\", \"GREEN\")\n",
    "signal_groups[3].SetAttValue(\"SigState\", \"GREEN\")\n",
    "for _ in range(seconds_per_green):\n",
    "    Vissim.Simulation.RunSingleStep()"
   ]
  },
  {
   "cell_type": "code",
   "execution_count": 8,
   "metadata": {},
   "outputs": [],
   "source": [
    "# Second half of the sample control cycle\n",
    "signal_groups[1].SetAttValue(\"SigState\", \"AMBER\")\n",
    "signal_groups[3].SetAttValue(\"SigState\", \"AMBER\")\n",
    "signal_groups[0].SetAttValue(\"SigState\", \"REDAMBER\")\n",
    "signal_groups[2].SetAttValue(\"SigState\", \"REDAMBER\")\n",
    "for _ in range(seconds_per_yellow):\n",
    "    Vissim.Simulation.RunSingleStep()\n",
    "signal_groups[1].SetAttValue(\"SigState\", \"RED\")\n",
    "signal_groups[3].SetAttValue(\"SigState\", \"RED\")\n",
    "signal_groups[0].SetAttValue(\"SigState\", \"GREEN\")\n",
    "signal_groups[2].SetAttValue(\"SigState\", \"GREEN\")\n",
    "for _ in range(seconds_per_green):\n",
    "    Vissim.Simulation.RunSingleStep()"
   ]
  },
  {
   "cell_type": "code",
   "execution_count": 9,
   "metadata": {},
   "outputs": [],
   "source": [
    "# Reload the network File\n",
    "Filename = os.path.join(vissim_working_directory, model_name, (model_name+'.inpx'))\n",
    "Vissim.LoadNet(Filename)\n",
    "Simulation = Vissim.Simulation\n",
    "Network = Vissim.Net"
   ]
  },
  {
   "cell_type": "code",
   "execution_count": null,
   "metadata": {},
   "outputs": [],
   "source": [
    "SignalGroup.SetAttValue(\"ContrByCOM\", False)"
   ]
  },
  {
   "cell_type": "code",
   "execution_count": 10,
   "metadata": {},
   "outputs": [],
   "source": [
    "# Initialize simulation\n",
    "Vissim.Simulation.RunSingleStep()"
   ]
  },
  {
   "cell_type": "code",
   "execution_count": 11,
   "metadata": {},
   "outputs": [
    {
     "ename": "com_error",
     "evalue": "(-2147417851, 'The server threw an exception.', None, None)",
     "output_type": "error",
     "traceback": [
      "\u001b[1;31m---------------------------------------------------------------------------\u001b[0m",
      "\u001b[1;31mcom_error\u001b[0m                                 Traceback (most recent call last)",
      "\u001b[1;32m<ipython-input-11-ef244e54db74>\u001b[0m in \u001b[0;36m<module>\u001b[1;34m\u001b[0m\n\u001b[0;32m      1\u001b[0m \u001b[1;31m# Try half of the cycle. Error should appear on reaching line 2.\u001b[0m\u001b[1;33m\u001b[0m\u001b[1;33m\u001b[0m\u001b[1;33m\u001b[0m\u001b[0m\n\u001b[1;32m----> 2\u001b[1;33m \u001b[0msignal_groups\u001b[0m\u001b[1;33m[\u001b[0m\u001b[1;36m0\u001b[0m\u001b[1;33m]\u001b[0m\u001b[1;33m.\u001b[0m\u001b[0mSetAttValue\u001b[0m\u001b[1;33m(\u001b[0m\u001b[1;34m\"SigState\"\u001b[0m\u001b[1;33m,\u001b[0m \u001b[1;34m\"AMBER\"\u001b[0m\u001b[1;33m)\u001b[0m\u001b[1;33m\u001b[0m\u001b[1;33m\u001b[0m\u001b[0m\n\u001b[0m\u001b[0;32m      3\u001b[0m \u001b[0msignal_groups\u001b[0m\u001b[1;33m[\u001b[0m\u001b[1;36m2\u001b[0m\u001b[1;33m]\u001b[0m\u001b[1;33m.\u001b[0m\u001b[0mSetAttValue\u001b[0m\u001b[1;33m(\u001b[0m\u001b[1;34m\"SigState\"\u001b[0m\u001b[1;33m,\u001b[0m \u001b[1;34m\"AMBER\"\u001b[0m\u001b[1;33m)\u001b[0m\u001b[1;33m\u001b[0m\u001b[1;33m\u001b[0m\u001b[0m\n\u001b[0;32m      4\u001b[0m \u001b[0msignal_groups\u001b[0m\u001b[1;33m[\u001b[0m\u001b[1;36m1\u001b[0m\u001b[1;33m]\u001b[0m\u001b[1;33m.\u001b[0m\u001b[0mSetAttValue\u001b[0m\u001b[1;33m(\u001b[0m\u001b[1;34m\"SigState\"\u001b[0m\u001b[1;33m,\u001b[0m \u001b[1;34m\"REDAMBER\"\u001b[0m\u001b[1;33m)\u001b[0m\u001b[1;33m\u001b[0m\u001b[1;33m\u001b[0m\u001b[0m\n\u001b[0;32m      5\u001b[0m \u001b[0msignal_groups\u001b[0m\u001b[1;33m[\u001b[0m\u001b[1;36m3\u001b[0m\u001b[1;33m]\u001b[0m\u001b[1;33m.\u001b[0m\u001b[0mSetAttValue\u001b[0m\u001b[1;33m(\u001b[0m\u001b[1;34m\"SigState\"\u001b[0m\u001b[1;33m,\u001b[0m \u001b[1;34m\"REDAMBER\"\u001b[0m\u001b[1;33m)\u001b[0m\u001b[1;33m\u001b[0m\u001b[1;33m\u001b[0m\u001b[0m\n",
      "\u001b[1;32m~\\AppData\\Local\\Continuum\\anaconda3\\envs\\vissimgpu\\lib\\site-packages\\win32com\\client\\dynamic.py\u001b[0m in \u001b[0;36mSetAttValue\u001b[1;34m(self, Attribut, arg1)\u001b[0m\n",
      "\u001b[1;31mcom_error\u001b[0m: (-2147417851, 'The server threw an exception.', None, None)"
     ]
    }
   ],
   "source": [
    "# Try half of the cycle. Error should appear on reaching line 2.\n",
    "signal_groups[0].SetAttValue(\"SigState\", \"AMBER\")\n",
    "signal_groups[2].SetAttValue(\"SigState\", \"AMBER\")\n",
    "signal_groups[1].SetAttValue(\"SigState\", \"REDAMBER\")\n",
    "signal_groups[3].SetAttValue(\"SigState\", \"REDAMBER\")\n",
    "for _ in range(3):\n",
    "    Vissim.Simulation.RunSingleStep()\n",
    "signal_groups[0].SetAttValue(\"SigState\", \"RED\")\n",
    "signal_groups[2].SetAttValue(\"SigState\", \"RED\")\n",
    "signal_groups[1].SetAttValue(\"SigState\", \"GREEN\")\n",
    "signal_groups[3].SetAttValue(\"SigState\", \"GREEN\")\n",
    "for _ in range(5):\n",
    "    Vissim.Simulation.RunSingleStep()"
   ]
  },
  {
   "cell_type": "markdown",
   "metadata": {},
   "source": [
    "I get exactly the same issues if I try to interface directly with the control method by setting:\n",
    "SignalGroup.SetAttValue(\"ContrByCOM\", False)\n",
    "or\n",
    "SignalGroup.SetAttValue(\"ContrByCOM\", True)\n",
    "\n",
    "It feels like the system is rejecting any engagement with the Signal Control directly by COM.\n",
    "The error normally given in the VISSIM error screen (does not happen always) is:\n",
    "\n",
    "The error occurred in line 182 of file c:\\build\\vissim\\vissim110\\src\\network\\generated\\signalgroupbase.cpp in function const class CSignalController *__cdecl CSignalGroupBase::GetOwner(void) const.Information:not availableStack:0x00007FFF13C60BA5Simulation: Run 0 1.00 sec,\n"
   ]
  }
 ],
 "metadata": {
  "kernelspec": {
   "display_name": "TensorFlow-GPU",
   "language": "python",
   "name": "vissimgpu"
  },
  "language_info": {
   "codemirror_mode": {
    "name": "ipython",
    "version": 3
   },
   "file_extension": ".py",
   "mimetype": "text/x-python",
   "name": "python",
   "nbconvert_exporter": "python",
   "pygments_lexer": "ipython3",
   "version": "3.6.8"
  }
 },
 "nbformat": 4,
 "nbformat_minor": 2
}
