{
 "cells": [
  {
   "cell_type": "code",
   "execution_count": 21,
   "metadata": {},
   "outputs": [],
   "source": [
    "from Vissim_env_class import env\n",
    "\n",
    "%matplotlib inline"
   ]
  },
  {
   "cell_type": "code",
   "execution_count": 22,
   "metadata": {},
   "outputs": [],
   "source": [
    "model_name  = 'Balance'\n",
    "vissim_working_directory =  'C:\\\\Users\\\\Rzhang\\\\Desktop\\\\MLforFlowOptimisationOrigine\\\\Vissim\\\\'\n",
    "sim_length = 3601\n",
    "\n",
    "# all controller actions\n",
    "Controllers_Actions =\\\n",
    "{\\\n",
    "    # Controller Number 2 \n",
    "    0 : {   0 : [ 1, 0, 0, 1, 0, 0,],\n",
    "            1 : [ 0, 1, 0, 0, 1, 0,],\n",
    "            2 : [ 0, 0, 1, 0, 0, 1,]\n",
    "        },\n",
    "    # Controller Number 3\n",
    "    1 : {   0 : [ 1, 0, 0, 1, 0, 0,],\n",
    "            1 : [ 0, 1, 0, 0, 1, 0,],\n",
    "            2 : [ 0, 0, 1, 0, 0, 1,]\n",
    "        },\n",
    "    # Controller Number 4\n",
    "    2 : {\n",
    "            0 : [1,0,0,0,1,0,0,0],\n",
    "            1 : [0,1,0,0,0,1,0,0],\n",
    "            2 : [0,0,1,0,0,0,1,0],\n",
    "            3 : [0,0,0,1,0,0,0,1]\n",
    "        },\n",
    "    # Controller Number 5\n",
    "    3 : {\n",
    "            0 : [1,0,0,1,0,0],\n",
    "            1 : [0,1,0,0,1,0],\n",
    "            2 : [0,0,1,0,0,1],\n",
    "        },\n",
    "    # Controller Number 6 \n",
    "    4 : {\n",
    "            0 : [1,1,0,0],\n",
    "            1 : [0,1,1,0],\n",
    "            2 : [1,0,0,1]\n",
    "        },\n",
    "    # Controller Number 8\n",
    "    5 : {\n",
    "            0 : [1,0,1],\n",
    "            1 : [0,1,0]\n",
    "        },\n",
    "    # Controller Number 9\n",
    "    6 : {\n",
    "            0 : [1,0,1,0],\n",
    "            1 : [0,1,0,1]\n",
    "        },\n",
    "    # Contoller Number 10\n",
    "    7 : {\n",
    "            0 : [1,0,0,0,0],\n",
    "            1 : [0,1,0,1,0],\n",
    "            2 : [0,0,1,0,1]\n",
    "        },\n",
    "    # Controller Number 12\n",
    "    8 : {\n",
    "            0 : [1,0,1],\n",
    "            1 : [0,1,0],\n",
    "        },\n",
    "    # Controller Number 13\n",
    "    9 : {\n",
    "            0 : [1,0,0,0],\n",
    "            1 : [0,1,0,1],\n",
    "            1 : [0,0,1,0],\n",
    "        },\n",
    "    # Controller 15\n",
    "     10 : {   \n",
    "            0 : [1,0,1,0],\\\n",
    "            1 : [0,1,0,1]\\\n",
    "        },\n",
    "    # Controller 16\n",
    "    11 : {   \n",
    "            0 : [1,0,1,0],\\\n",
    "            1 : [0,1,0,1]\\\n",
    "        },\n",
    "    # Controller 17\n",
    "    12 : {\n",
    "            0 : [1,0,0,0,0],\n",
    "            1 : [0,1,0,0,1],\n",
    "            2 : [0,0,1,0,0],\n",
    "            3 : [0,0,0,1,1],\n",
    "            4 : [0,1,0,0,1]\n",
    "        },\n",
    "    # Controller 33 \n",
    "    13 : {\n",
    "            0 : [1,0,0,1],\n",
    "            1 : [1,0,1,0],\n",
    "            2 : [0,1,0,0]\n",
    "        }\n",
    "}"
   ]
  },
  {
   "cell_type": "code",
   "execution_count": 23,
   "metadata": {},
   "outputs": [
    {
     "name": "stdout",
     "output_type": "stream",
     "text": [
      "Working Directory set to: C:\\Users\\Rzhang\\Desktop\\MLforFlowOptimisationOrigine\\Vissim\\\n",
      "Generating Cache...\n",
      "Cache generated.\n",
      "\n",
      "****************************\n",
      "*   COM Server dispatched  *\n",
      "****************************\n",
      "\n",
      "Attempting to load Model File: Balance.inpx ...\n",
      "Load process successful\n",
      "Simulation length set to 3601 seconds.\n",
      "Results from Previous Simulations: Deleted. Fresh Start Available.\n",
      "Fetched and containerized Simulation Object\n",
      "Fetched and containerized Network Object \n",
      "\n",
      "*******************************************************\n",
      "*                                                     *\n",
      "*                 SETUP COMPLETE                      *\n",
      "*                                                     *\n",
      "*******************************************************\n",
      "\n"
     ]
    }
   ],
   "source": [
    "env = env(model_name, vissim_working_directory, sim_length, Controllers_Actions,\\\n",
    "            timesteps_per_second = 1, mode = 'training', delete_results = True, verbose = True)"
   ]
  },
  {
   "cell_type": "code",
   "execution_count": 24,
   "metadata": {},
   "outputs": [
    {
     "data": {
      "text/plain": [
       "[<Vissim_SCU_class.Signal_Control_Unit at 0x18a025a5c50>,\n",
       " <Vissim_SCU_class.Signal_Control_Unit at 0x18a025a5c88>,\n",
       " <Vissim_SCU_class.Signal_Control_Unit at 0x18a02602278>,\n",
       " <Vissim_SCU_class.Signal_Control_Unit at 0x18a026029e8>,\n",
       " <Vissim_SCU_class.Signal_Control_Unit at 0x18a026021d0>,\n",
       " <Vissim_SCU_class.Signal_Control_Unit at 0x18a026026d8>,\n",
       " <Vissim_SCU_class.Signal_Control_Unit at 0x18a02602748>,\n",
       " <Vissim_SCU_class.Signal_Control_Unit at 0x18a02602a20>,\n",
       " <Vissim_SCU_class.Signal_Control_Unit at 0x18a02602358>,\n",
       " <Vissim_SCU_class.Signal_Control_Unit at 0x18a02602390>,\n",
       " <Vissim_SCU_class.Signal_Control_Unit at 0x18a02602198>,\n",
       " <Vissim_SCU_class.Signal_Control_Unit at 0x18a026026a0>,\n",
       " <Vissim_SCU_class.Signal_Control_Unit at 0x18a02602898>,\n",
       " <Vissim_SCU_class.Signal_Control_Unit at 0x18a02602710>]"
      ]
     },
     "execution_count": 24,
     "metadata": {},
     "output_type": "execute_result"
    }
   ],
   "source": [
    "env.SCUs"
   ]
  },
  {
   "cell_type": "code",
   "execution_count": 25,
   "metadata": {},
   "outputs": [
    {
     "data": {
      "text/plain": [
       "array([[0, 0, 0, 0, 0, 0, 0, 0, 0, 0, 0, 0]])"
      ]
     },
     "execution_count": 25,
     "metadata": {},
     "output_type": "execute_result"
    }
   ],
   "source": [
    "env.SCUs[0].state"
   ]
  },
  {
   "cell_type": "code",
   "execution_count": 26,
   "metadata": {},
   "outputs": [
    {
     "ename": "com_error",
     "evalue": "(-2147417851, 'Le serveur a généré une exception.', None, None)",
     "output_type": "error",
     "traceback": [
      "\u001b[1;31m---------------------------------------------------------------------------\u001b[0m",
      "\u001b[1;31mcom_error\u001b[0m                                 Traceback (most recent call last)",
      "\u001b[1;32m<ipython-input-26-c5672cf456ee>\u001b[0m in \u001b[0;36m<module>\u001b[1;34m\u001b[0m\n\u001b[1;32m----> 1\u001b[1;33m \u001b[0menv\u001b[0m\u001b[1;33m.\u001b[0m\u001b[0mreset\u001b[0m\u001b[1;33m(\u001b[0m\u001b[1;33m)\u001b[0m\u001b[1;33m\u001b[0m\u001b[1;33m\u001b[0m\u001b[0m\n\u001b[0m",
      "\u001b[1;32m~\\Desktop\\MLforFlowOptimisationOrigine\\Vissim\\Vissim_env_class.py\u001b[0m in \u001b[0;36mreset\u001b[1;34m(self)\u001b[0m\n\u001b[0;32m     98\u001b[0m                 \u001b[1;32mfor\u001b[0m \u001b[0mSC\u001b[0m \u001b[1;32min\u001b[0m \u001b[0mself\u001b[0m\u001b[1;33m.\u001b[0m\u001b[0mnpa\u001b[0m\u001b[1;33m.\u001b[0m\u001b[0msignal_controllers_ids\u001b[0m\u001b[1;33m:\u001b[0m\u001b[1;33m\u001b[0m\u001b[1;33m\u001b[0m\u001b[0m\n\u001b[0;32m     99\u001b[0m                         \u001b[1;32mfor\u001b[0m \u001b[0mgroup\u001b[0m \u001b[1;32min\u001b[0m \u001b[0mself\u001b[0m\u001b[1;33m.\u001b[0m\u001b[0mnpa\u001b[0m\u001b[1;33m.\u001b[0m\u001b[0msignal_groups\u001b[0m\u001b[1;33m[\u001b[0m\u001b[0mSC\u001b[0m\u001b[1;33m]\u001b[0m\u001b[1;33m:\u001b[0m\u001b[1;33m\u001b[0m\u001b[1;33m\u001b[0m\u001b[0m\n\u001b[1;32m--> 100\u001b[1;33m                                 \u001b[0mgroup\u001b[0m\u001b[1;33m.\u001b[0m\u001b[0mSetAttValue\u001b[0m\u001b[1;33m(\u001b[0m\u001b[1;34m'ContrByCOM'\u001b[0m\u001b[1;33m,\u001b[0m \u001b[1;36m1\u001b[0m\u001b[1;33m)\u001b[0m\u001b[1;33m\u001b[0m\u001b[1;33m\u001b[0m\u001b[0m\n\u001b[0m\u001b[0;32m    101\u001b[0m \u001b[1;33m\u001b[0m\u001b[0m\n\u001b[0;32m    102\u001b[0m \u001b[1;33m\u001b[0m\u001b[0m\n",
      "\u001b[1;32m~\\Anaconda3\\envs\\tf2\\lib\\site-packages\\win32com\\client\\dynamic.py\u001b[0m in \u001b[0;36mSetAttValue\u001b[1;34m(self, Attribut, arg1)\u001b[0m\n",
      "\u001b[1;31mcom_error\u001b[0m: (-2147417851, 'Le serveur a généré une exception.', None, None)"
     ]
    }
   ],
   "source": [
    "env.reset()"
   ]
  },
  {
   "cell_type": "code",
   "execution_count": null,
   "metadata": {},
   "outputs": [],
   "source": []
  }
 ],
 "metadata": {
  "kernelspec": {
   "display_name": "TensorFlow2",
   "language": "python",
   "name": "tf2"
  },
  "language_info": {
   "codemirror_mode": {
    "name": "ipython",
    "version": 3
   },
   "file_extension": ".py",
   "mimetype": "text/x-python",
   "name": "python",
   "nbconvert_exporter": "python",
   "pygments_lexer": "ipython3",
   "version": "3.7.3"
  }
 },
 "nbformat": 4,
 "nbformat_minor": 2
}
