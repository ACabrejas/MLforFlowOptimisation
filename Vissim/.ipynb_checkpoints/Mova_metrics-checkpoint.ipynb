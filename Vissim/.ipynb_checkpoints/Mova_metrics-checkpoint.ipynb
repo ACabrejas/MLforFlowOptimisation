{
 "cells": [
  {
   "cell_type": "markdown",
   "metadata": {},
   "source": [
    "# Collection of metrics for the MOVA system\n",
    "\n",
    "## Requirement \n",
    "-Have the PC MOVA link open and configured\n",
    "\n"
   ]
  },
  {
   "cell_type": "code",
   "execution_count": 3,
   "metadata": {},
   "outputs": [],
   "source": [
    "## VISSIM Modules\n",
    "import win32com.client as com\n",
    "import os\n",
    "\n",
    "\n",
    "## Data Management Modules\n",
    "import pickle\n",
    "\n",
    "## User Defined Modules\n",
    "import math\n",
    "import Simulator_Functions as SF\n",
    "from RLAgents import DQNAgent\n",
    "from NParser import NetworkParser\n",
    "from COMServer import COMServerDispatch, COMServerReload\n",
    "from TupleToList import toList\n",
    "from Utilities import log_progress, pltlive\n",
    "## Other Modules\n",
    "import numpy as np\n",
    "import random\n",
    "import matplotlib.pyplot as plt\n",
    "import PER\n",
    "\n",
    "%matplotlib inline"
   ]
  },
  {
   "cell_type": "code",
   "execution_count": null,
   "metadata": {},
   "outputs": [
    {
     "name": "stdout",
     "output_type": "stream",
     "text": [
      "Working Directory set to: C:\\Users\\Rzhang\\Desktop\\MLforFlowOptimisation\\Vissim\\\n",
      "Generating Cache...\n"
     ]
    }
   ],
   "source": [
    "## Network Model Parameters\n",
    "\n",
    "model_name  = 'Single_Cross_MOVA'\n",
    "vissim_working_directory =  'C:\\\\Users\\\\Rzhang\\\\Desktop\\\\MLforFlowOptimisationOrigine\\\\Vissim\\\\'\n",
    "\n",
    "\n",
    "mode = 'demo' # Demo, test\n",
    "\n",
    "#Parameters of the simulation and demmand table.\n",
    "if mode == 'test' : \n",
    "    simulation_length = 3600\n",
    "    demand_change_timesteps = 450\n",
    "    demand = {\"h\":800, 'm':400, 'l':200}\n",
    "    demand_list = [[demand['l'], demand['l']], [demand['m'], demand['l']],\\\n",
    "                  [demand['h'], demand['l']], [demand['h'], demand['m']],\\\n",
    "                  [demand['h'], demand['h']], [demand['m'], demand['h']],\n",
    "                  [demand['l'], demand['h']], [demand['l'], demand['m']]]\n",
    "    delete_results = False\n",
    "    \n",
    "if mode == 'demo' :\n",
    "    simulation_length = 3600\n",
    "    demand_change_timesteps = simulation_length\n",
    "    demand = {\"h\":800, 'm':400, 'l':200}\n",
    "    demand_list = [[demand['l'], demand['l']]]\n",
    "    delete_results = False\n",
    "\n",
    "\n",
    "\n",
    "    \n",
    "# Initialize simulation\n",
    "timesteps_per_second = 10\n",
    "Random_Seed = 42\n",
    "\n",
    "\n",
    "\n",
    "# Load and set the simulation property of Vissim\n",
    "Vissim, Simulation, Network, cache_flag = COMServerDispatch(model_name, vissim_working_directory,\\\n",
    "                                                            simulation_length , timesteps_per_second,\\\n",
    "                                                            delete_results = delete_results, verbose = True)\n",
    "SF.Select_Vissim_Mode(Vissim, mode)\n",
    "if mode == 'test' :\n",
    "    SF.Set_Quickmode(Vissim, timesteps_per_second)\n",
    "Vissim.Simulation.SetAttValue('RandSeed', Random_Seed)\n",
    "\n",
    "\n",
    "\n",
    "\n",
    "\n"
   ]
  },
  {
   "cell_type": "code",
   "execution_count": 23,
   "metadata": {},
   "outputs": [
    {
     "name": "stdout",
     "output_type": "stream",
     "text": [
      "RED 11.632801472808396 None 11.754457987862661\n"
     ]
    },
    {
     "data": {
      "text/plain": [
       "True"
      ]
     },
     "execution_count": 23,
     "metadata": {},
     "output_type": "execute_result"
    }
   ],
   "source": [
    "# Testing some com commande\n",
    "a = Vissim.Net.SignalHeads.ItemByKey(1).AttValue('SigState') \n",
    "b = Vissim.Net.DataCollectionMeasurements.ItemByKey(2).AttValue('SpeedAvgArith(Current,Last,All)') \n",
    "c = Vissim.Net.DataCollectionMeasurements.ItemByKey(3).AttValue('SpeedAvgArith(Current,Last,All)') \n",
    "d = Vissim.Net.DataCollectionMeasurements.ItemByKey(4).AttValue('SpeedAvgArith(Current,Last,All)') \n",
    "\n",
    "print(a,b,c,d)\n",
    "a == 'RED'"
   ]
  },
  {
   "cell_type": "code",
   "execution_count": null,
   "metadata": {},
   "outputs": [],
   "source": []
  },
  {
   "cell_type": "code",
   "execution_count": null,
   "metadata": {},
   "outputs": [],
   "source": []
  },
  {
   "cell_type": "markdown",
   "metadata": {},
   "source": [
    "Before executing the next cell make sure that PC Mova is open"
   ]
  },
  {
   "cell_type": "code",
   "execution_count": 3,
   "metadata": {},
   "outputs": [
    {
     "ename": "com_error",
     "evalue": "(-2147023170, 'Échec de l’appel de procédure distante.', None, None)",
     "output_type": "error",
     "traceback": [
      "\u001b[1;31m---------------------------------------------------------------------------\u001b[0m",
      "\u001b[1;31mcom_error\u001b[0m                                 Traceback (most recent call last)",
      "\u001b[1;32m<ipython-input-3-a8bb80fd735d>\u001b[0m in \u001b[0;36m<module>\u001b[1;34m\u001b[0m\n\u001b[0;32m      9\u001b[0m         \u001b[1;31m# Advance the game to the next second (proportionally to the simulator resolution).\u001b[0m\u001b[1;33m\u001b[0m\u001b[1;33m\u001b[0m\u001b[1;33m\u001b[0m\u001b[0m\n\u001b[0;32m     10\u001b[0m     \u001b[1;32mfor\u001b[0m \u001b[0m_\u001b[0m \u001b[1;32min\u001b[0m \u001b[0mrange\u001b[0m\u001b[1;33m(\u001b[0m\u001b[1;36m0\u001b[0m\u001b[1;33m,\u001b[0m \u001b[0mtimesteps_per_second\u001b[0m\u001b[1;33m)\u001b[0m\u001b[1;33m:\u001b[0m\u001b[1;33m\u001b[0m\u001b[1;33m\u001b[0m\u001b[0m\n\u001b[1;32m---> 11\u001b[1;33m         \u001b[0mVissim\u001b[0m\u001b[1;33m.\u001b[0m\u001b[0mSimulation\u001b[0m\u001b[1;33m.\u001b[0m\u001b[0mRunSingleStep\u001b[0m\u001b[1;33m(\u001b[0m\u001b[1;33m)\u001b[0m\u001b[1;33m\u001b[0m\u001b[1;33m\u001b[0m\u001b[0m\n\u001b[0m\u001b[0;32m     12\u001b[0m \u001b[1;33m\u001b[0m\u001b[0m\n\u001b[0;32m     13\u001b[0m     \u001b[1;31m# Stop the simulation\u001b[0m\u001b[1;33m\u001b[0m\u001b[1;33m\u001b[0m\u001b[1;33m\u001b[0m\u001b[0m\n",
      "\u001b[1;32m~\\Anaconda3\\lib\\site-packages\\win32com\\client\\dynamic.py\u001b[0m in \u001b[0;36mRunSingleStep\u001b[1;34m(self)\u001b[0m\n",
      "\u001b[1;31mcom_error\u001b[0m: (-2147023170, 'Échec de l’appel de procédure distante.', None, None)"
     ]
    }
   ],
   "source": [
    "# Simulation loop\n",
    "\n",
    "for time_t in range(simulation_length):\n",
    "\n",
    "    # Change demand every 450 seconds.\n",
    "    if time_t % demand_change_timesteps == 0:\n",
    "        SF.change_demand(Vissim, demand_list, demand_change_timesteps, time_t)\n",
    "\n",
    "        # Advance the game to the next second (proportionally to the simulator resolution).\n",
    "    for _ in range(0, timesteps_per_second):\n",
    "        Vissim.Simulation.RunSingleStep()\n",
    "    \n",
    "    # Stop the simulation    \n",
    "Vissim.Simulation.Stop()\n",
    "\n",
    "\n"
   ]
  },
  {
   "cell_type": "code",
   "execution_count": null,
   "metadata": {},
   "outputs": [],
   "source": []
  },
  {
   "cell_type": "code",
   "execution_count": null,
   "metadata": {},
   "outputs": [],
   "source": []
  }
 ],
 "metadata": {
  "kernelspec": {
   "display_name": "Python 3",
   "language": "python",
   "name": "python3"
  },
  "language_info": {
   "codemirror_mode": {
    "name": "ipython",
    "version": 3
   },
   "file_extension": ".py",
   "mimetype": "text/x-python",
   "name": "python",
   "nbconvert_exporter": "python",
   "pygments_lexer": "ipython3",
   "version": "3.7.3"
  }
 },
 "nbformat": 4,
 "nbformat_minor": 2
}
