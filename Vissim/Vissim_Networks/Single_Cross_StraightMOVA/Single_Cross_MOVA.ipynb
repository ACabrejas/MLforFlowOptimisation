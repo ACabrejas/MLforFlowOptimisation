{
 "cells": [
  {
   "cell_type": "code",
   "execution_count": 2,
   "metadata": {},
   "outputs": [
    {
     "name": "stdout",
     "output_type": "stream",
     "text": [
      "Success\n"
     ]
    }
   ],
   "source": [
    "# Load Vissim\n",
    "# Documents here\n",
    "# C:\\Users\\Public\\Documents\\PTV Vision\\PTV Vissim 11\\Examples Training\n",
    "# Signal Control files here\n",
    "# C:\\Program Files\\PTV Vision\\PTV Vissim 11\\API\\SignalControl_DLLs\n",
    "\n",
    "# for loading client\n",
    "import win32com.client as com\n",
    "import os\n",
    "# standard libraries \n",
    "import numpy as np\n",
    "import math\n",
    "import time\n",
    "from IPython import display\n",
    "# For Q-function\n",
    "from collections import defaultdict\n",
    "# For saving\n",
    "import datetime\n",
    "import dill\n",
    "import pickle\n",
    "\n",
    "'''\n",
    "This loads up a Vissim instance \n",
    "    -- Required: inpx file , layx file\n",
    "    -- warning: quite flakey loading but once loaded okay\n",
    "'''\n",
    "def Load_Vissim(End_of_simulation = 10000,\\\n",
    "                Quick_Mode=1,\\\n",
    "                Path_to_network = 'C:\\\\Users\\\\nwalton\\\\Dropbox (The University of Manchester)\\\\ACTIVE\\\\TMF\\\\TMF_Raymond\\\\Raymond_Turing_RL\\\\Single_Cross',\\\n",
    "                inpx_Filename = 'Single_Cross_StraightMOVA.inpx',\\\n",
    "                #layx_Filename = 'Sin.layx'\\\n",
    "               ):\n",
    "    Vissim = None\n",
    "    # Load Vissim\n",
    "    Vissim = com.gencache.EnsureDispatch(\"Vissim.Vissim\")\n",
    "    # Load file\n",
    "    inpx_Filename                = os.path.join(Path_to_network, inpx_Filename)\n",
    "    flag_read_additionally  = False # you can read network(elements) additionally, in this case set \"flag_read_additionally\" to true\n",
    "    Vissim.LoadNet(inpx_Filename, flag_read_additionally)\n",
    "    # Load a Layout:\n",
    "    #layx_Filename = os.path.join(Path_to_network, layx_Filename)\n",
    "   # Vissim.LoadLayout(layx_Filename)\n",
    "    # Configure non-GUI for training\n",
    "    Vissim.Simulation.SetAttValue('UseMaxSimSpeed', True)\n",
    "    Vissim.Simulation.AttValue('UseAllCores')\n",
    "    Vissim.Graphics.CurrentNetworkWindow.SetAttValue(\"QuickMode\",Quick_Mode)\n",
    "    # Set a long simulation time\n",
    "    Vissim.Simulation.SetAttValue('SimPeriod', End_of_simulation)\n",
    "    return Vissim\n",
    "\n",
    "# '''\n",
    "# Set up Vissim and the parameters for optimizing\n",
    "# (Worth commenting out after set up)\n",
    "# if ERROR like ''has no attribute 'CLSIDToClassMap' ''\n",
    "# DELETE folders:\n",
    "# C:\\Users\\nwalton\\AppData\\Local\\Temp\\gen_py\n",
    "# C:\\Users\\nwalton\\AppData\\Local\\Temp\\VISSIM\n",
    "# Then Restart PC...\n",
    "# '''\n",
    "\n",
    "# We attempt 5 times to load vissim\n",
    "\n",
    "Attempts = 5 \n",
    "for _ in range(Attempts):\n",
    "    try:\n",
    "        Vissim \\\n",
    "        = \\\n",
    "        Load_Vissim()\n",
    "        #Path_to_network = 'C:\\\\Users\\\\nwalton\\\\OneDrive - The Alan Turing Institute\\\\Documents\\\\MLforFlowOptimisation\\\\Vissim\\\\Single_Cross_Straight',\\\n",
    "        #inpx_Filename = 'Single_Cross_Straight.inpx',\\\n",
    "        #layx_Filename = 'Single_Cross_Straight.layx'\\\n",
    "        #)\n",
    "        print(\"Success\")\n",
    "        break\n",
    "    except:\n",
    "        print(\"Fail\")"
   ]
  },
  {
   "cell_type": "code",
   "execution_count": 7,
   "metadata": {},
   "outputs": [],
   "source": [
    "# Get simulation parameters\n",
    "'''\n",
    "Set up the parameters of the optimization\n",
    "'''\n",
    "\n",
    "'''\n",
    "makes a dictionary for all signals and thier positions\n",
    "'''\n",
    "def Get_Signal_Positions(Signal_Groups):\n",
    "    Signal_Positions = dict()\n",
    "    for SG in Signal_Groups:\n",
    "        for SH in SG.SigHeads:\n",
    "            Lane = SH.AttValue('Lane')\n",
    "            Position = SH.AttValue('Pos')\n",
    "            Signal_Positions[Lane] = Position\n",
    "    return Signal_Positions\n",
    "\n",
    "# Lanes for detection\n",
    "Lane_List = ['3-1','1-1','7-1','5-1']\n",
    "\n",
    "# which lane signals can be green at the same time\n",
    "actions = [(1,0,1,0),\\\n",
    "            (0,1,0,1)]\n",
    "# Define the Q-function\n",
    "# Q_fn = Q_function(actions)\n",
    "\n",
    "# round the state space\n",
    "rounding = 1.\n",
    "sim_steps = 100 # number of simulation steps before update\n",
    "# set the load to be light\n",
    "number_of_inputs = len(Vissim.Net.VehicleInputs)\n",
    "new_volume = 400\n",
    "for key in range(1,number_of_inputs+1):\n",
    "    Vissim.Net.VehicleInputs.ItemByKey(key).SetAttValue('Volume(1)', new_volume)\n",
    "    \n",
    "# get the list of signal controllers\n",
    "Signal_Controller = Vissim.Net.SignalControllers.GetAll()[0]\n",
    "Signal_Groups = Signal_Controller.SGs.GetAll()\n",
    "Signal_Positions = Get_Signal_Positions(Signal_Groups)\n",
    "\n",
    "# These are states and rewards which are global variables \n",
    "# Assigned None for now\n",
    "\n",
    "Q_Size = None # Queue sizes at junctions\n",
    "delays = dict() # Total delay and change in delay for each vehicle"
   ]
  },
  {
   "cell_type": "code",
   "execution_count": 8,
   "metadata": {},
   "outputs": [],
   "source": [
    "def Get_Q_Size(Lane_List=None, rounding=None):\n",
    "    # Loads globals if variables not specfied\n",
    "    if Lane_List is None :\n",
    "        Lane_List = globals()['Lane_List']\n",
    "    if rounding is None :\n",
    "        rounding = globals()['rounding']\n",
    "        \n",
    "    # initialize with zero queues\n",
    "    Qsum = 0\n",
    "    Q_sizes = dict.fromkeys(Lane_List)\n",
    "    for key in Q_sizes.keys():\n",
    "        Q_sizes[key]=0\n",
    "\n",
    "    # initialize with zero numbers of non-waiting cars\n",
    "    nonQsum = 0\n",
    "    nonQ_sizes = dict.fromkeys(Lane_List)\n",
    "    for key in nonQ_sizes.keys():\n",
    "        nonQ_sizes[key]=0\n",
    "\n",
    "    # get all Q lengths    \n",
    "    All_Vehicles = Vissim.Net.Vehicles.GetAll() \n",
    "    for Veh in All_Vehicles:\n",
    "        lane = Veh.AttValue('Lane')\n",
    "        if lane in Lane_List : \n",
    "            if Veh.AttValue('InQueue') == 1 :\n",
    "                Q_sizes[lane] += 1\n",
    "            else : \n",
    "                nonQ_sizes[lane] += 1\n",
    "\n",
    "    state = []\n",
    "\n",
    "    for lane in Lane_List :\n",
    "        state.append(math.ceil(Q_sizes[lane] / rounding))\n",
    "        \n",
    "    return tuple(state)\n",
    "\n",
    "def Get_Total_Queue(Q_Size=None):\n",
    "    # Use global as default\n",
    "    if Q_Size is None:\n",
    "        Q_Size = Get_Q_Size()\n",
    "        \n",
    "    return -sum(Q_Size)"
   ]
  },
  {
   "cell_type": "code",
   "execution_count": 14,
   "metadata": {},
   "outputs": [],
   "source": [
    "Vissim.Net.VehicleInputs.ItemByKey(1).SetAttValue('Volume(1)', 800)\n",
    "Vissim.Net.VehicleInputs.ItemByKey(2).SetAttValue('Volume(1)', 150)\n",
    "Vissim.Net.VehicleInputs.ItemByKey(3).SetAttValue('Volume(1)', 800)\n",
    "Vissim.Net.VehicleInputs.ItemByKey(4).SetAttValue('Volume(1)', 150)"
   ]
  },
  {
   "cell_type": "code",
   "execution_count": 17,
   "metadata": {},
   "outputs": [
    {
     "data": {
      "text/plain": [
       "-1.224"
      ]
     },
     "execution_count": 17,
     "metadata": {},
     "output_type": "execute_result"
    }
   ],
   "source": [
    "Vissim.Graphics.CurrentNetworkWindow.SetAttValue(\"QuickMode\",True)\n",
    "\n",
    "Qs = []\n",
    "for t in range(10000):\n",
    "    Vissim.Simulation.RunSingleStep()\n",
    "    if t % 20 == 0:\n",
    "        Qs.append( Get_Total_Queue())\n",
    "\n",
    "np.mean(Qs)\n"
   ]
  },
  {
   "cell_type": "code",
   "execution_count": 20,
   "metadata": {},
   "outputs": [
    {
     "data": {
      "text/plain": [
       "-1.2"
      ]
     },
     "execution_count": 20,
     "metadata": {},
     "output_type": "execute_result"
    }
   ],
   "source": [
    "Vissim.Graphics.CurrentNetworkWindow.SetAttValue(\"QuickMode\",False)\n",
    "\n",
    "Qs = []\n",
    "for t in range(1000):\n",
    "    Vissim.Simulation.RunSingleStep()\n",
    "    if t % 20 == 0:\n",
    "        Qs.append( Get_Total_Queue())\n",
    "\n",
    "np.mean(Qs)"
   ]
  },
  {
   "cell_type": "code",
   "execution_count": 22,
   "metadata": {},
   "outputs": [],
   "source": [
    "Vissim.Graphics.CurrentNetworkWindow.SetAttValue(\"QuickMode\",False)\n",
    "for t in range(4000):\n",
    "    Vissim.Simulation.RunSingleStep()"
   ]
  }
 ],
 "metadata": {
  "kernelspec": {
   "display_name": "Python 3",
   "language": "python",
   "name": "python3"
  },
  "language_info": {
   "codemirror_mode": {
    "name": "ipython",
    "version": 3
   },
   "file_extension": ".py",
   "mimetype": "text/x-python",
   "name": "python",
   "nbconvert_exporter": "python",
   "pygments_lexer": "ipython3",
   "version": "3.6.8"
  }
 },
 "nbformat": 4,
 "nbformat_minor": 2
}
