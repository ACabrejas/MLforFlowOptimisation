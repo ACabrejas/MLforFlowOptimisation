{
 "cells": [
  {
   "cell_type": "code",
   "execution_count": 4,
   "metadata": {},
   "outputs": [],
   "source": [
    "from Vissim_env_class import env\n",
    "\n",
    "%matplotlib inline"
   ]
  },
  {
   "cell_type": "code",
   "execution_count": 5,
   "metadata": {},
   "outputs": [],
   "source": [
    "model_name  = 'Balance'\n",
    "vissim_working_directory =  'C:\\\\Users\\\\Rzhang\\\\Desktop\\\\MLforFlowOptimisationOrigine\\\\Vissim\\\\'\n",
    "sim_length = 3601\n",
    "\n",
    "# all controller actions\n",
    "Controllers_Actions =\\\n",
    "{\\\n",
    "    # Controller Number 2 \n",
    "    0 : {   0 : [ 1, 0, 0, 1, 0, 0,],\n",
    "            1 : [ 0, 1, 0, 0, 1, 0,],\n",
    "            2 : [ 0, 0, 1, 0, 0, 1,]\n",
    "        },\n",
    "    # Controller Number 3\n",
    "    1 : {   0 : [ 1, 0, 0, 1, 0, 0,],\n",
    "            1 : [ 0, 1, 0, 0, 1, 0,],\n",
    "            2 : [ 0, 0, 1, 0, 0, 1,]\n",
    "        },\n",
    "    # Controller Number 4\n",
    "    2 : {\n",
    "            0 : [1,0,0,0,1,0,0,0],\n",
    "            1 : [0,1,0,0,0,1,0,0],\n",
    "            2 : [0,0,1,0,0,0,1,0],\n",
    "            3 : [0,0,0,1,0,0,0,1]\n",
    "        },\n",
    "    # Controller Number 5\n",
    "    3 : {\n",
    "            0 : [1,0,0,1,0,0],\n",
    "            1 : [0,1,0,0,1,0],\n",
    "            2 : [0,0,1,0,0,1],\n",
    "        },\n",
    "    # Controller Number 6 \n",
    "    4 : {\n",
    "            0 : [1,1,0,0],\n",
    "            1 : [0,1,1,0],\n",
    "            2 : [1,0,0,1]\n",
    "        },\n",
    "    # Controller Number 8\n",
    "    5 : {\n",
    "            0 : [1,0,1],\n",
    "            1 : [0,1,0]\n",
    "        },\n",
    "    # Controller Number 9\n",
    "    6 : {\n",
    "            0 : [1,0,1,0],\n",
    "            1 : [0,1,0,1]\n",
    "        },\n",
    "    # Contoller Number 10\n",
    "    7 : {\n",
    "            0 : [1,0,0,0,0],\n",
    "            1 : [0,1,0,1,0],\n",
    "            2 : [0,0,1,0,1]\n",
    "        },\n",
    "    # Controller Number 12\n",
    "    8 : {\n",
    "            0 : [1,0,1],\n",
    "            1 : [0,1,0],\n",
    "        },\n",
    "    # Controller Number 13\n",
    "    9 : {\n",
    "            0 : [1,0,0,0],\n",
    "            1 : [0,1,0,1],\n",
    "            1 : [0,0,1,0],\n",
    "        },\n",
    "    # Controller 15\n",
    "     10 : {   \n",
    "            0 : [1,0,1,0],\\\n",
    "            1 : [0,1,0,1]\\\n",
    "        },\n",
    "    # Controller 16\n",
    "    11 : {   \n",
    "            0 : [1,0,1,0],\\\n",
    "            1 : [0,1,0,1]\\\n",
    "        },\n",
    "    # Controller 17\n",
    "    12 : {\n",
    "            0 : [1,0,0,0,0],\n",
    "            1 : [0,1,0,0,1],\n",
    "            2 : [0,0,1,0,0],\n",
    "            3 : [0,0,0,1,1],\n",
    "            4 : [0,1,0,0,1]\n",
    "        },\n",
    "    # Controller 33 \n",
    "    13 : {\n",
    "            0 : [1,0,0,1],\n",
    "            1 : [1,0,1,0],\n",
    "            2 : [0,1,0,0]\n",
    "        }\n",
    "}"
   ]
  },
  {
   "cell_type": "code",
   "execution_count": 6,
   "metadata": {},
   "outputs": [
    {
     "name": "stdout",
     "output_type": "stream",
     "text": [
      "Working Directory set to: C:\\Users\\Rzhang\\Desktop\\MLforFlowOptimisationOrigine\\Vissim\\\n",
      "Generating Cache...\n",
      "Cache generated.\n",
      "\n",
      "****************************\n",
      "*   COM Server dispatched  *\n",
      "****************************\n",
      "\n",
      "Attempting to load Model File: Balance.inpx ...\n",
      "Load process successful\n",
      "Simulation length set to 3601 seconds.\n",
      "Results from Previous Simulations: Deleted. Fresh Start Available.\n",
      "Fetched and containerized Simulation Object\n",
      "Fetched and containerized Network Object \n",
      "\n",
      "*******************************************************\n",
      "*                                                     *\n",
      "*                 SETUP COMPLETE                      *\n",
      "*                                                     *\n",
      "*******************************************************\n",
      "\n",
      "0.30044126510620117\n",
      "0.2999255657196045\n",
      "0.1878526210784912\n",
      "0.2214345932006836\n",
      "0.37449002265930176\n",
      "0.39487743377685547\n",
      "0.28858137130737305\n",
      "0.30349206924438477\n",
      "0.1109013557434082\n",
      "0.12419819831848145\n",
      "0.12379813194274902\n",
      "0.14329814910888672\n",
      "0.1557471752166748\n",
      "0.1659083366394043\n",
      "0.2656979560852051\n",
      "0.2544858455657959\n",
      "0.1712474822998047\n",
      "0.18412494659423828\n",
      "0.19945502281188965\n",
      "0.18032360076904297\n",
      "0.21956348419189453\n",
      "0.22311615943908691\n",
      "0.21110057830810547\n",
      "0.20942926406860352\n",
      "0.32286953926086426\n",
      "0.30870985984802246\n",
      "0.1999344825744629\n",
      "0.22142505645751953\n",
      "6.390686750411987\n"
     ]
    }
   ],
   "source": [
    "env = env(model_name, vissim_working_directory, sim_length, Controllers_Actions,\\\n",
    "            timesteps_per_second = 1, mode = 'training', delete_results = True, verbose = True)"
   ]
  },
  {
   "cell_type": "code",
   "execution_count": 42,
   "metadata": {},
   "outputs": [
    {
     "data": {
      "text/plain": [
       "[<Vissim_SCU_class.Signal_Control_Unit at 0x18a02406a90>,\n",
       " <Vissim_SCU_class.Signal_Control_Unit at 0x18a02406ac8>,\n",
       " <Vissim_SCU_class.Signal_Control_Unit at 0x18a0257bfd0>,\n",
       " <Vissim_SCU_class.Signal_Control_Unit at 0x18a0257bf98>,\n",
       " <Vissim_SCU_class.Signal_Control_Unit at 0x18a0257bf60>,\n",
       " <Vissim_SCU_class.Signal_Control_Unit at 0x18a02590828>,\n",
       " <Vissim_SCU_class.Signal_Control_Unit at 0x18a02590198>,\n",
       " <Vissim_SCU_class.Signal_Control_Unit at 0x18a02590518>,\n",
       " <Vissim_SCU_class.Signal_Control_Unit at 0x18a025902e8>,\n",
       " <Vissim_SCU_class.Signal_Control_Unit at 0x18a025907b8>,\n",
       " <Vissim_SCU_class.Signal_Control_Unit at 0x18a02590898>,\n",
       " <Vissim_SCU_class.Signal_Control_Unit at 0x18a025902b0>,\n",
       " <Vissim_SCU_class.Signal_Control_Unit at 0x18a025900b8>,\n",
       " <Vissim_SCU_class.Signal_Control_Unit at 0x18a025908d0>]"
      ]
     },
     "execution_count": 42,
     "metadata": {},
     "output_type": "execute_result"
    }
   ],
   "source": [
    "env.SCUs"
   ]
  },
  {
   "cell_type": "code",
   "execution_count": 43,
   "metadata": {},
   "outputs": [
    {
     "data": {
      "text/plain": [
       "array([[0, 0, 0, 0, 0, 0, 0, 0, 0, 0, 0, 0]])"
      ]
     },
     "execution_count": 43,
     "metadata": {},
     "output_type": "execute_result"
    }
   ],
   "source": [
    "env.SCUs[0].state"
   ]
  },
  {
   "cell_type": "code",
   "execution_count": 44,
   "metadata": {},
   "outputs": [],
   "source": [
    "env.reset()"
   ]
  },
  {
   "cell_type": "code",
   "execution_count": null,
   "metadata": {},
   "outputs": [],
   "source": []
  }
 ],
 "metadata": {
  "kernelspec": {
   "display_name": "TensorFlow2",
   "language": "python",
   "name": "tf2"
  },
  "language_info": {
   "codemirror_mode": {
    "name": "ipython",
    "version": 3
   },
   "file_extension": ".py",
   "mimetype": "text/x-python",
   "name": "python",
   "nbconvert_exporter": "python",
   "pygments_lexer": "ipython3",
   "version": "3.7.3"
  }
 },
 "nbformat": 4,
 "nbformat_minor": 2
}
