{
 "cells": [
  {
   "cell_type": "code",
   "execution_count": 3,
   "metadata": {},
   "outputs": [],
   "source": [
    "from Vissim_env_class import env\n",
    "\n",
    "%matplotlib inline"
   ]
  },
  {
   "cell_type": "code",
   "execution_count": 4,
   "metadata": {},
   "outputs": [],
   "source": [
    "model_name  = 'Balance'\n",
    "vissim_working_directory =  'C:\\\\Users\\\\Rzhang\\\\Desktop\\\\MLforFlowOptimisationOrigine\\\\Vissim\\\\'\n",
    "sim_length = 3601\n",
    "\n",
    "# all controller actions\n",
    "Controllers_Actions =\\\n",
    "{\\\n",
    "    # Controller Number 2 \n",
    "    0 : {   0 : [ 1, 0, 0, 1, 0, 0,],\n",
    "            1 : [ 0, 1, 0, 0, 1, 0,],\n",
    "            2 : [ 0, 0, 1, 0, 0, 1,]\n",
    "        },\n",
    "    # Controller Number 3\n",
    "    1 : {   0 : [ 1, 0, 0, 1, 0, 0,],\n",
    "            1 : [ 0, 1, 0, 0, 1, 0,],\n",
    "            2 : [ 0, 0, 1, 0, 0, 1,]\n",
    "        },\n",
    "    # Controller Number 4\n",
    "    2 : {\n",
    "            0 : [1,0,0,0,1,0,0,0],\n",
    "            1 : [0,1,0,0,0,1,0,0],\n",
    "            2 : [0,0,1,0,0,0,1,0],\n",
    "            3 : [0,0,0,1,0,0,0,1]\n",
    "        },\n",
    "    # Controller Number 5\n",
    "    3 : {\n",
    "            0 : [1,0,0,1,0,0],\n",
    "            1 : [0,1,0,0,1,0],\n",
    "            2 : [0,0,1,0,0,1],\n",
    "        },\n",
    "    # Controller Number 6 \n",
    "    4 : {\n",
    "            0 : [1,1,0,0],\n",
    "            1 : [0,1,1,0],\n",
    "            2 : [1,0,0,1]\n",
    "        },\n",
    "    # Controller Number 8\n",
    "    5 : {\n",
    "            0 : [1,0,1],\n",
    "            1 : [0,1,0]\n",
    "        },\n",
    "    # Controller Number 9\n",
    "    6 : {\n",
    "            0 : [1,0,1,0],\n",
    "            1 : [0,1,0,1]\n",
    "        },\n",
    "    # Contoller Number 10\n",
    "    7 : {\n",
    "            0 : [1,0,0,0,0],\n",
    "            1 : [0,1,0,1,0],\n",
    "            2 : [0,0,1,0,1]\n",
    "        },\n",
    "    # Controller Number 12\n",
    "    8 : {\n",
    "            0 : [1,0,1],\n",
    "            1 : [0,1,0],\n",
    "        },\n",
    "    # Controller Number 13\n",
    "    9 : {\n",
    "            0 : [1,0,0,0],\n",
    "            1 : [0,1,0,1],\n",
    "            1 : [0,0,1,0],\n",
    "        },\n",
    "    # Controller 15\n",
    "     10 : {   \n",
    "            0 : [1,0,1,0],\\\n",
    "            1 : [0,1,0,1]\\\n",
    "        },\n",
    "    # Controller 16\n",
    "    11 : {   \n",
    "            0 : [1,0,1,0],\\\n",
    "            1 : [0,1,0,1]\\\n",
    "        },\n",
    "    # Controller 17\n",
    "    12 : {\n",
    "            0 : [1,0,0,0,0],\n",
    "            1 : [0,1,0,0,1],\n",
    "            2 : [0,0,1,0,0],\n",
    "            3 : [0,0,0,1,1],\n",
    "            4 : [0,1,0,0,1]\n",
    "        },\n",
    "    # Controller 33 \n",
    "    13 : {\n",
    "            0 : [1,0,0,1],\n",
    "            1 : [1,0,1,0],\n",
    "            2 : [0,1,0,0]\n",
    "        }\n",
    "}"
   ]
  },
  {
   "cell_type": "code",
   "execution_count": 5,
   "metadata": {},
   "outputs": [
    {
     "name": "stdout",
     "output_type": "stream",
     "text": [
      "Working Directory set to: C:\\Users\\Rzhang\\Desktop\\MLforFlowOptimisationOrigine\\Vissim\\\n",
      "Generating Cache...\n",
      "Cache generated.\n",
      "\n",
      "****************************\n",
      "*   COM Server dispatched  *\n",
      "****************************\n",
      "\n",
      "Attempting to load Model File: Balance.inpx ...\n",
      "Load process successful\n",
      "Simulation length set to 3601 seconds.\n",
      "Results from Previous Simulations: Deleted. Fresh Start Available.\n",
      "Fetched and containerized Simulation Object\n",
      "Fetched and containerized Network Object \n",
      "\n",
      "*******************************************************\n",
      "*                                                     *\n",
      "*                 SETUP COMPLETE                      *\n",
      "*                                                     *\n",
      "*******************************************************\n",
      "\n",
      "0.4326171875\n",
      "0.40071964263916016\n",
      "0.2868194580078125\n",
      "0.2955207824707031\n",
      "0.5391364097595215\n",
      "0.5479106903076172\n",
      "0.39926934242248535\n",
      "0.4269390106201172\n",
      "0.16583585739135742\n",
      "0.14960741996765137\n",
      "0.18452858924865723\n",
      "0.17149686813354492\n",
      "0.21844053268432617\n",
      "0.20334291458129883\n",
      "0.38959479331970215\n",
      "0.341796875\n",
      "0.25127267837524414\n",
      "0.24866843223571777\n",
      "0.2658662796020508\n",
      "0.29770708084106445\n",
      "0.3166525363922119\n",
      "0.2844884395599365\n",
      "0.29990363121032715\n",
      "0.3166031837463379\n",
      "0.48920369148254395\n",
      "0.44907712936401367\n",
      "0.27162981033325195\n",
      "0.29868340492248535\n",
      "9.063935041427612\n"
     ]
    }
   ],
   "source": [
    "env = env(model_name, vissim_working_directory, sim_length, Controllers_Actions,\\\n",
    "            timesteps_per_second = 1, mode = 'training', delete_results = True, verbose = True)"
   ]
  },
  {
   "cell_type": "code",
   "execution_count": 6,
   "metadata": {},
   "outputs": [
    {
     "data": {
      "text/plain": [
       "{0: <Vissim_SCU_class.Signal_Control_Unit at 0x176900e54a8>,\n",
       " 1: <Vissim_SCU_class.Signal_Control_Unit at 0x17690137f98>,\n",
       " 2: <Vissim_SCU_class.Signal_Control_Unit at 0x17690137d68>,\n",
       " 3: <Vissim_SCU_class.Signal_Control_Unit at 0x17690137cf8>,\n",
       " 4: <Vissim_SCU_class.Signal_Control_Unit at 0x17690137f28>,\n",
       " 5: <Vissim_SCU_class.Signal_Control_Unit at 0x176901379b0>,\n",
       " 6: <Vissim_SCU_class.Signal_Control_Unit at 0x17690137e48>,\n",
       " 7: <Vissim_SCU_class.Signal_Control_Unit at 0x1769014a2b0>,\n",
       " 8: <Vissim_SCU_class.Signal_Control_Unit at 0x1769014a208>,\n",
       " 9: <Vissim_SCU_class.Signal_Control_Unit at 0x1769014a1d0>,\n",
       " 10: <Vissim_SCU_class.Signal_Control_Unit at 0x1769014a6a0>,\n",
       " 11: <Vissim_SCU_class.Signal_Control_Unit at 0x1769014a198>,\n",
       " 12: <Vissim_SCU_class.Signal_Control_Unit at 0x1769014a6d8>,\n",
       " 13: <Vissim_SCU_class.Signal_Control_Unit at 0x1769014a4a8>}"
      ]
     },
     "execution_count": 6,
     "metadata": {},
     "output_type": "execute_result"
    }
   ],
   "source": [
    "env.SCUs"
   ]
  },
  {
   "cell_type": "code",
   "execution_count": 7,
   "metadata": {},
   "outputs": [
    {
     "data": {
      "text/plain": [
       "array([[0, 0, 0, 0, 0, 0, 0, 0, 0, 0, 0, 0]])"
      ]
     },
     "execution_count": 7,
     "metadata": {},
     "output_type": "execute_result"
    }
   ],
   "source": [
    "env.SCUs[0].state"
   ]
  },
  {
   "cell_type": "code",
   "execution_count": 8,
   "metadata": {},
   "outputs": [
    {
     "name": "stdout",
     "output_type": "stream",
     "text": [
      "0.3998994827270508\n",
      "0.39499473571777344\n",
      "0.3038668632507324\n",
      "0.30283665657043457\n",
      "0.5345809459686279\n",
      "0.528083324432373\n",
      "0.41228699684143066\n",
      "0.4001505374908447\n",
      "0.16585588455200195\n",
      "0.16936564445495605\n",
      "0.18842625617980957\n",
      "0.1889793872833252\n",
      "0.2074742317199707\n",
      "0.22158050537109375\n",
      "0.36039280891418457\n",
      "0.37743687629699707\n",
      "0.25957632064819336\n",
      "0.2541522979736328\n",
      "0.28036069869995117\n",
      "0.45362019538879395\n",
      "0.43219780921936035\n",
      "0.45748186111450195\n",
      "0.38405656814575195\n",
      "0.30368852615356445\n",
      "0.4236757755279541\n",
      "0.43534278869628906\n",
      "0.29247403144836426\n",
      "0.2820117473602295\n"
     ]
    }
   ],
   "source": [
    "env.reset()"
   ]
  },
  {
   "cell_type": "code",
   "execution_count": null,
   "metadata": {},
   "outputs": [],
   "source": []
  }
 ],
 "metadata": {
  "kernelspec": {
   "display_name": "TensorFlow2",
   "language": "python",
   "name": "tf2"
  },
  "language_info": {
   "codemirror_mode": {
    "name": "ipython",
    "version": 3
   },
   "file_extension": ".py",
   "mimetype": "text/x-python",
   "name": "python",
   "nbconvert_exporter": "python",
   "pygments_lexer": "ipython3",
   "version": "3.7.3"
  }
 },
 "nbformat": 4,
 "nbformat_minor": 2
}
