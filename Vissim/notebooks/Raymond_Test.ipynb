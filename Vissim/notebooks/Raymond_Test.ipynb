{
 "cells": [
  {
   "cell_type": "code",
   "execution_count": 2,
   "metadata": {},
   "outputs": [
    {
     "name": "stdout",
     "output_type": "stream",
     "text": [
      "success!\n"
     ]
    }
   ],
   "source": [
    "# MANUAL LOAD (part 1)\n",
    "import win32com.client as com\n",
    "import os\n",
    "\n",
    "\n",
    "# MANUAL LOAD (part 1)\n",
    "for _ in range(5):\n",
    "    try:\n",
    "        Vissim = com.Dispatch(\"Vissim.Vissim\")\n",
    "        print('success!')\n",
    "        break\n",
    "    except:\n",
    "        print('fail')\n",
    "        \n",
    "# MANUAL LOAD (part 2)\n",
    "input_file = 'C:\\\\Users\\\\nwalton\\\\OneDrive - The Alan Turing Institute\\\\Documents\\\\MLforFlowOptimisation\\\\Vissim\\\\Vissim_Networks\\\\Single_Cross_Straight\\\\Single_Cross_Straight.inpx'\n",
    "Vissim.LoadNet(input_file)"
   ]
  },
  {
   "cell_type": "code",
   "execution_count": 4,
   "metadata": {},
   "outputs": [
    {
     "name": "stdout",
     "output_type": "stream",
     "text": [
      "Deploying instance of Actor_Critic Agent(s) !!! TENSORFLOW 2 IS NEEDED !!! \n",
      "-71.79699248120295\n",
      "-8.592500000000003\n",
      "-65.61249999999998\n",
      "-68.64999999999995\n",
      "-68.7675\n",
      "-69.24\n",
      "-69.24\n",
      "-68.7675\n",
      "-68.7675\n",
      "-68.7675\n",
      "-68.7675\n",
      "-68.7675\n",
      "-68.7675\n",
      "-68.7675\n",
      "-68.7675\n",
      "-68.7675\n",
      "-68.7675\n",
      "-68.7675\n",
      "-68.7675\n",
      "-68.7675\n",
      "-68.7675\n",
      "-68.7675\n",
      "-68.7675\n",
      "-68.7675\n",
      "-68.7675\n",
      "-68.7675\n",
      "-68.7675\n"
     ]
    }
   ],
   "source": [
    "%run -i Raymond_Test.py"
   ]
  },
  {
   "cell_type": "code",
   "execution_count": null,
   "metadata": {},
   "outputs": [],
   "source": []
  }
 ],
 "metadata": {
  "kernelspec": {
   "display_name": "Python 3",
   "language": "python",
   "name": "python3"
  },
  "language_info": {
   "codemirror_mode": {
    "name": "ipython",
    "version": 3
   },
   "file_extension": ".py",
   "mimetype": "text/x-python",
   "name": "python",
   "nbconvert_exporter": "python",
   "pygments_lexer": "ipython3",
   "version": "3.6.8"
  }
 },
 "nbformat": 4,
 "nbformat_minor": 2
}
