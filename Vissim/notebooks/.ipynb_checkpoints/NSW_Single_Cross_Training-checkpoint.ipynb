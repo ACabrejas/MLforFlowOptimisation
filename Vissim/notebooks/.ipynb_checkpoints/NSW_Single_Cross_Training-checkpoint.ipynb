{
 "cells": [
  {
   "cell_type": "markdown",
   "metadata": {},
   "source": [
    "We attempt to train a single cross junction with multiple agents\n",
    "\n",
    "\n",
    "We use our new enviroment class"
   ]
  },
  {
   "cell_type": "code",
   "execution_count": 1,
   "metadata": {},
   "outputs": [],
   "source": [
    "# add folder up to gain enviroments above\n",
    "import sys\n",
    "sys.path.append('../')"
   ]
  },
  {
   "cell_type": "code",
   "execution_count": 5,
   "metadata": {},
   "outputs": [],
   "source": [
    "import Vissim_env_class as Env"
   ]
  },
  {
   "cell_type": "code",
   "execution_count": 3,
   "metadata": {},
   "outputs": [],
   "source": [
    "# Allow for reload of key modules\n",
    "# for debugging purposes\n",
    "from imp import reload"
   ]
  },
  {
   "cell_type": "code",
   "execution_count": 6,
   "metadata": {},
   "outputs": [
    {
     "data": {
      "text/plain": [
       "<module 'Vissim_env_class' from '..\\\\Vissim_env_class.py'>"
      ]
     },
     "execution_count": 6,
     "metadata": {},
     "output_type": "execute_result"
    }
   ],
   "source": [
    "reload(Vissim_env_class)"
   ]
  },
  {
   "cell_type": "code",
   "execution_count": 22,
   "metadata": {
    "code_folding": [
     0
    ]
   },
   "outputs": [
    {
     "name": "stdout",
     "output_type": "stream",
     "text": [
      "success!\n"
     ]
    }
   ],
   "source": [
    "# MANUAL LOAD (part 1)\n",
    "import win32com.client as com\n",
    "import os\n",
    "\n",
    "# Dispatch works better than dynamoc dispatch\n",
    "#Vissim = com.Dispatch(\"Vissim.Vissim\")\n",
    "\n",
    "for _ in range(5):\n",
    "    try:\n",
    "        Vissim = com.Dispatch(\"Vissim.Vissim\")\n",
    "        print('success!')\n",
    "        break\n",
    "    except:\n",
    "        print('fail')"
   ]
  },
  {
   "cell_type": "code",
   "execution_count": 23,
   "metadata": {
    "code_folding": [
     0
    ]
   },
   "outputs": [],
   "source": [
    "# MANUAL LOAD (part 2)\n",
    "input_file = 'C:\\\\Users\\\\nwalton\\\\OneDrive - The Alan Turing Institute\\\\Documents\\\\MLforFlowOptimisation\\\\Vissim\\\\Vissim_Networks\\\\Single_Cross_Straight\\\\Single_Cross_Straight.inpx'\n",
    "Vissim.LoadNet(input_file)"
   ]
  },
  {
   "cell_type": "markdown",
   "metadata": {},
   "source": [
    "## Environment Class"
   ]
  },
  {
   "cell_type": "code",
   "execution_count": 171,
   "metadata": {
    "code_folding": []
   },
   "outputs": [],
   "source": [
    "# vissim env class\n",
    "import numpy as np\n",
    "from NParser import NetworkParser\n",
    "from Vissim_SCU_class import Signal_Control_Unit\n",
    "import win32com.client\n",
    "import os\n",
    "\n",
    "from time import time\n",
    "\n",
    "\n",
    "# The environment class , \n",
    "class vissim_env():\n",
    "\n",
    "    \"\"\"\n",
    "    -Load the model\n",
    "        - it need the controller actions to be defined by hand\n",
    "    -Deploy the SCU\n",
    "    -\n",
    "    \"\"\"\n",
    "\n",
    "    def __init__(self, controllers_actions, model_name=None, vissim_working_directory=None, sim_length=3601, \\\n",
    "                     Vissim = None, timesteps_per_second = 1, mode = 'training', delete_results = True, verbose = True):\n",
    "\n",
    "        # Model parameters\n",
    "        self.model_name = model_name\n",
    "        self.vissim_working_directory = vissim_working_directory\n",
    "        self.controllers_actions = controllers_actions\n",
    "\n",
    "\n",
    "        # Simulation parameters\n",
    "        self.sim_length = sim_length\n",
    "        self.global_counter = 0\n",
    "\n",
    "        self.mode = mode\n",
    "        self.timesteps_per_second = timesteps_per_second\n",
    "        print(self.timesteps_per_second)\n",
    "\n",
    "        # Evaluation parameters\n",
    "        self.delete_results = delete_results\n",
    "        self.verbose = verbose\n",
    "\n",
    "        # ComServerDisp\n",
    "        if Vissim is None:\n",
    "            self.Vissim, _, _, _ = COMServerDispatch(model_name, vissim_working_directory, self.sim_length,\\\n",
    "            self.timesteps_per_second, delete_results = self.delete_results, verbose = self.verbose)\n",
    "        else:\n",
    "            self.Vissim = Vissim\n",
    "\n",
    "        self.done = False\n",
    "\n",
    "        # The parser can be a methode of the environment\n",
    "        self.npa = NetworkParser(self.Vissim) \n",
    "\n",
    "        self.select_mode()\n",
    "\n",
    "        # Simulate one step and give the control to COM\n",
    "        for _ in range(self.timesteps_per_second):\n",
    "            self.Vissim.Simulation.RunSingleStep()\n",
    "            self.global_counter += 1\n",
    "\n",
    "\n",
    "        for SC in self.npa.signal_controllers_ids:\n",
    "            for group in self.npa.signal_groups[SC]:\n",
    "                group.SetAttValue('ContrByCOM',1)\n",
    "\n",
    "\n",
    "        # Create a dictionnary of SCUs each scu control a signal controller\n",
    "\n",
    "\n",
    "        tic = time()\n",
    "        self._Load_SCUs()\n",
    "        tac = time()\n",
    "        #print(tac-tic)\n",
    "\n",
    "    '''\n",
    "    _Load_SCUs :\n",
    "        provides a dictionary with at the SCUs\n",
    "        # Need to find later a way to give different green / yellow time to each SCUs\n",
    "    '''\n",
    "    def _Load_SCUs(self):\n",
    "\n",
    "        self.SCUs = dict()\n",
    "\n",
    "        for idx, sc in enumerate(self.npa.signal_controllers):\n",
    "            self.SCUs[idx] = Signal_Control_Unit(\\\n",
    "                         self.Vissim,\\\n",
    "                         sc,\\\n",
    "                         self.controllers_actions[idx],\\\n",
    "                         Signal_Groups = None,\\\n",
    "                         green_time = 50,\\\n",
    "                         redamber_time = 1,\\\n",
    "                         amber_time = 3, \\\n",
    "                         red_time = 1\\\n",
    "                        )\n",
    "\n",
    "\n",
    "\n",
    "    # -Function to get the SCUs to later deploy agent on them\n",
    "    def get_SCU(self):\n",
    "        return(self.SCUs)\n",
    "\n",
    "    # does a step in the simulator\n",
    "    # INPUT a dictionary of action\n",
    "    # return a dictionnary of (state, action, reward, next_state , done) the key will be the SCU's key\n",
    "    def step(self, actions):\n",
    "        self.Vissim.Simulation.RunSingleStep()\n",
    "        self.global_counter += 1\n",
    "        if self.global_counter > (self.sim_length-1) * self.timesteps_per_second:\n",
    "            self.done = True\n",
    "\n",
    "        Sarsd = dict()\n",
    "\n",
    "        for idx, scu in self.SCUs.items():\n",
    "            if scu.action_required :\n",
    "                tic = time()\n",
    "                scu.action_update(actions[idx])\n",
    "                tac = time()\n",
    "                #print('action_update')\n",
    "                #print(tac-tic)\n",
    "\n",
    "            tic = time()\n",
    "            scu.update()\n",
    "            tac = time()\n",
    "            #print('update')\n",
    "            #print(tac-tic)\n",
    "\n",
    "            if scu.action_required :\n",
    "                Sarsd[idx] = scu.sars()+[self.done]\n",
    "\n",
    "\n",
    "        if len(Sarsd) > 0 :\n",
    "            return True, Sarsd\n",
    "        else:\n",
    "            return False, None\n",
    "\n",
    "\n",
    "    # reset the environnement\n",
    "    def reset(self):\n",
    "        ## Connecting the COM Server => Open a new Vissim Window:\n",
    "        # Server should only be dispatched in first run. Otherwise reload model.\n",
    "        # Setting Working Directory\n",
    "\n",
    "\n",
    "        COMServerReload(self.Vissim, self.model_name, self.vissim_working_directory, self.sim_length, self.timesteps_per_second, self.delete_results)\n",
    "        self.npa = NetworkParser(self.Vissim) \n",
    "        self.select_mode()\n",
    "\n",
    "        # Simulate one step and give the control to COM\n",
    "        for _ in range(self.timesteps_per_second):\n",
    "            self.Vissim.Simulation.RunSingleStep()\n",
    "\n",
    "        for SC in self.npa.signal_controllers_ids:\n",
    "            for group in self.npa.signal_groups[SC]:\n",
    "                group.SetAttValue('ContrByCOM', 1)\n",
    "\n",
    "        self._Load_SCUs()\n",
    "        self.done = False\n",
    "\n",
    "\n",
    "\n",
    "    # Set mode to training, demo, debugging\n",
    "    def select_mode(self):\n",
    "        \n",
    "        self.Vissim.Simulation.Stop()\n",
    "        # Select the mode for the metric collection \n",
    "\n",
    "        # In test mode all the data is stored (The simulation will be slow)\n",
    "        if self.mode == 'test' :\n",
    "            #This select quickmode and simulation resolution\n",
    "            #self.timesteps_per_second = 10\n",
    "            self.Vissim.Simulation.SetAttValue('UseMaxSimSpeed', True)\n",
    "            Vissim.ResumeUpdateGUI(False)\n",
    "            self.Vissim.Graphics.CurrentNetworkWindow.SetAttValue(\"QuickMode\", 1)\n",
    "            self.Vissim.Simulation.SetAttValue('SimRes', self.timesteps_per_second)\n",
    "            self.Vissim.SuspendUpdateGUI()  \n",
    "\n",
    "            # set the data mesurement\n",
    "            self.Vissim.Evaluation.SetAttValue('DataCollCollectData', True)\n",
    "            self.Vissim.Evaluation.SetAttValue('DataCollInterval', 1)\n",
    "\n",
    "            # set the delay mesurement\n",
    "            self.Vissim.Evaluation.SetAttValue('DelaysCollectData', True)\n",
    "            self.Vissim.Evaluation.SetAttValue('DelaysInterval', 1)\n",
    "\n",
    "            # set the data mesurement for each link\n",
    "            self.Vissim.Evaluation.SetAttValue('LinkResCollectData', True)\n",
    "            self.Vissim.Evaluation.SetAttValue('LinkResInterval', 1)\n",
    "\n",
    "            # set the data mesurement for each node\n",
    "            self.Vissim.Evaluation.SetAttValue('NodeResCollectData', True)\n",
    "            self.Vissim.Evaluation.SetAttValue('NodeResInterval', 1)\n",
    "\n",
    "            # set the queues mesurement \n",
    "            self.Vissim.Evaluation.SetAttValue('QueuesCollectData', True)\n",
    "            self.Vissim.Evaluation.SetAttValue('QueuesInterval', 1)\n",
    "\n",
    "            # set the vehicles perf mesurement \n",
    "            self.Vissim.Evaluation.SetAttValue('VehNetPerfCollectData', True)\n",
    "            self.Vissim.Evaluation.SetAttValue('VehNetPerfInterval', 1)\n",
    "\n",
    "            # set the vehicles travel time mesurement \n",
    "            self.Vissim.Evaluation.SetAttValue('VehTravTmsCollectData', True)\n",
    "            self.Vissim.Evaluation.SetAttValue('VehTravTmsInterval', 1)\n",
    "\n",
    "        # In demo mode we only use the queue counter for the moment\n",
    "        elif self.mode == 'demo' :\n",
    "            \n",
    "            Vissim.ResumeUpdateGUI(True)\n",
    "            Vissim.Graphics.CurrentNetworkWindow.SetAttValue(\"QuickMode\",0)\n",
    "            \n",
    "            #This select the simulation resolution\n",
    "            #self.timesteps_per_second = 10\n",
    "            self.Vissim.Simulation.SetAttValue('SimRes', self.timesteps_per_second)\n",
    "\n",
    "\n",
    "            # set the data mesurement\n",
    "            self.Vissim.Evaluation.SetAttValue('DataCollCollectData', False)\n",
    "            self.Vissim.Evaluation.SetAttValue('DataCollInterval', 99999)\n",
    "\n",
    "            # set the delay mesurement\n",
    "            self.Vissim.Evaluation.SetAttValue('DelaysCollectData', False)\n",
    "            self.Vissim.Evaluation.SetAttValue('DelaysInterval', 99999)\n",
    "\n",
    "            # set the data mesurement for each link\n",
    "            self.Vissim.Evaluation.SetAttValue('LinkResCollectData', False)\n",
    "            self.Vissim.Evaluation.SetAttValue('LinkResInterval', 99999)\n",
    "\n",
    "            # set the data mesurement for each node\n",
    "            self.Vissim.Evaluation.SetAttValue('NodeResCollectData', False)\n",
    "            self.Vissim.Evaluation.SetAttValue('NodeResInterval', 99999)\n",
    "\n",
    "\n",
    "            # set the queues mesurement \n",
    "            self.Vissim.Evaluation.SetAttValue('QueuesCollectData', True)\n",
    "            self.Vissim.Evaluation.SetAttValue('QueuesInterval', 3)\n",
    "\n",
    "            # set the vehicles perf mesurement \n",
    "            self.Vissim.Evaluation.SetAttValue('VehNetPerfCollectData', False)\n",
    "            self.Vissim.Evaluation.SetAttValue('VehNetPerfInterval', 99999)\n",
    "\n",
    "            # set the vehicles travel time mesurement \n",
    "            self.Vissim.Evaluation.SetAttValue('VehTravTmsCollectData', False)\n",
    "            self.Vissim.Evaluation.SetAttValue('VehTravTmsInterval', 99999)\n",
    "\n",
    "        # In demo mode we only use the queue counter and the delay counter for the moment    \n",
    "        elif self.mode == 'training' :\n",
    "\n",
    "            #This select quickmode and simulation resolution\n",
    "            #self.timesteps_per_second = 1\n",
    "            self.Vissim.Simulation.SetAttValue('UseMaxSimSpeed', True)\n",
    "            Vissim.ResumeUpdateGUI(False)\n",
    "            self.Vissim.Graphics.CurrentNetworkWindow.SetAttValue(\"QuickMode\",1)\n",
    "            self.Vissim.Simulation.SetAttValue('SimRes', self.timesteps_per_second)\n",
    "            self.Vissim.SuspendUpdateGUI()  \n",
    "\n",
    "\n",
    "            # set the data mesurement\n",
    "            self.Vissim.Evaluation.SetAttValue('DataCollCollectData', False)\n",
    "            self.Vissim.Evaluation.SetAttValue('DataCollInterval', 3)\n",
    "\n",
    "            # set the delay mesurement\n",
    "            self.Vissim.Evaluation.SetAttValue('DelaysCollectData', False)\n",
    "            self.Vissim.Evaluation.SetAttValue('DelaysInterval', 99999)\n",
    "\n",
    "            # set the data mesurement for each link\n",
    "            self.Vissim.Evaluation.SetAttValue('LinkResCollectData', False)\n",
    "            self.Vissim.Evaluation.SetAttValue('LinkResInterval', 99999)\n",
    "\n",
    "            # set the data mesurement for each node\n",
    "            self.Vissim.Evaluation.SetAttValue('NodeResCollectData', False)\n",
    "            self.Vissim.Evaluation.SetAttValue('NodeResInterval', 99999)\n",
    "\n",
    "\n",
    "            # set the queues mesurement \n",
    "            self.Vissim.Evaluation.SetAttValue('QueuesCollectData', True)\n",
    "            self.Vissim.Evaluation.SetAttValue('QueuesInterval', 3)\n",
    "\n",
    "            # set the vehicles perf mesurement \n",
    "            self.Vissim.Evaluation.SetAttValue('VehNetPerfCollectData', False)\n",
    "            self.Vissim.Evaluation.SetAttValue('VehNetPerfInterval', 99999)\n",
    "\n",
    "            # set the vehicles travel time mesurement \n",
    "            self.Vissim.Evaluation.SetAttValue('VehTravTmsCollectData', False)\n",
    "            self.Vissim.Evaluation.SetAttValue('VehTravTmsInterval', 99999)\n",
    "\n",
    "\n",
    "\n",
    "\n",
    "\n",
    "\n",
    "\n",
    "\n",
    "def COMServerDispatch(model_name, vissim_working_directory, sim_length, timesteps_per_second, delete_results = True, verbose = True):\n",
    "    for _ in range(5):\n",
    "        try:\n",
    "            ## Connecting the COM Server => Open a new Vissim Window:\n",
    "            # Server should only be dispatched in first run. Otherwise reload model.\n",
    "            # Setting Working Directory\n",
    "            if verbose:\n",
    "                print ('Working Directory set to: ' + vissim_working_directory)\n",
    "                # Check Chache\n",
    "                print ('Generating Cache...')\n",
    "\n",
    "            # Vissim = win32com.client.gencache.EnsureDispatch(\"Vissim.Vissim\") \n",
    "            #Vissim = win32com.client.dynamic.Dispatch(\"Vissim.Vissim\") \n",
    "            Vissim = win32com.client.Dispatch(\"Vissim.Vissim\")\n",
    "\n",
    "            if verbose:\n",
    "                print ('Cache generated.\\n')\n",
    "                print ('****************************')\n",
    "                print ('*   COM Server dispatched  *')\n",
    "                print ('****************************\\n')\n",
    "            cache_flag = True\n",
    "\n",
    "            ## Load the Network:\n",
    "            Filename = os.path.join(vissim_working_directory, model_name, (model_name+'.inpx'))\n",
    "\n",
    "            if verbose:\n",
    "                print ('Attempting to load Model File: ' + model_name+'.inpx ...')\n",
    "\n",
    "            if os.path.exists(Filename):\n",
    "                Vissim.LoadNet(Filename)\n",
    "            else:\n",
    "                raise Exception(\"ERROR: Could not find Model file: {}\".format(Filename))\n",
    "\n",
    "            if verbose:\n",
    "                print ('Load process successful')\n",
    "\n",
    "            ## Setting Simulation End\n",
    "            Vissim.Simulation.SetAttValue('SimPeriod', sim_length)\n",
    "\n",
    "            if verbose:\n",
    "                print ('Simulation length set to '+str(sim_length) + ' seconds.')\n",
    "\n",
    "            ## If a fresh start is needed\n",
    "            if delete_results == True:\n",
    "                # Delete all previous simulation runs first:\n",
    "                for simRun in Vissim.Net.SimulationRuns:\n",
    "                    Vissim.Net.SimulationRuns.RemoveSimulationRun(simRun)\n",
    "                if verbose:\n",
    "                    print ('Results from Previous Simulations: Deleted. Fresh Start Available.')\n",
    "\n",
    "            #Pre-fetch objects for stability\n",
    "            Simulation = Vissim.Simulation\n",
    "            if verbose:\n",
    "                print ('Fetched and containerized Simulation Object')\n",
    "            Network = Vissim.Net\n",
    "\n",
    "            if verbose:\n",
    "                print ('Fetched and containerized Network Object \\n')\n",
    "                print ('*******************************************************')\n",
    "                print ('*                                                     *')\n",
    "                print ('*                 SETUP COMPLETE                      *')\n",
    "                print ('*                                                     *')\n",
    "                print ('*******************************************************\\n')\n",
    "            else:\n",
    "                print('Server Dispatched.')\n",
    "            return(Vissim, Simulation, Network, cache_flag)\n",
    "        # If loading fails\n",
    "        except:\n",
    "            if _ != 4:\n",
    "                print(\"Failed load attempt \" +str(_+1)+ \"/5. Re-attempting.\")\n",
    "            elif _ == 4:\n",
    "                raise Exception(\"Failed 5th loading attempt. Please restart program. TERMINATING NOW.\")\n",
    "\n",
    "\n",
    "def COMServerReload(Vissim, model_name, vissim_working_directory, simulation_length, timesteps_per_second, delete_results):\n",
    "    ## Connecting the COM Server => Open a new Vissim Window:\n",
    "    # Server should only be dispatched in first run. Otherwise reload model.\n",
    "    # Setting Working Directory\n",
    "    for _ in range(5):\n",
    "        try:\n",
    "            ## Load the Network:\n",
    "            Filename = os.path.join(vissim_working_directory, model_name, (model_name+'.inpx'))\n",
    "\n",
    "            Vissim.LoadNet(Filename)\n",
    "\n",
    "            ## Setting Simulation End\n",
    "            Vissim.Simulation.SetAttValue('SimPeriod', simulation_length)\n",
    "            ## If a fresh start is needed\n",
    "            if delete_results == True:\n",
    "                # Delete all previous simulation runs first:\n",
    "                for simRun in Vissim.Net.SimulationRuns:\n",
    "                    Vissim.Net.SimulationRuns.RemoveSimulationRun(simRun)\n",
    "                #print ('Results from Previous Simulations: Deleted. Fresh Start Available.')\n",
    "\n",
    "            #Pre-fetch objects for stability\n",
    "\n",
    "            #print('Reloading complete. Executing new episode...')\n",
    "            return()\n",
    "        # If loading fails\n",
    "        except:\n",
    "            if _ != 4:\n",
    "                print(\"Failed load attempt \" +str(_+1)+ \"/5. Re-attempting.\")\n",
    "            elif _ == 4:\n",
    "                raise Exception(\"Failed 5th loading attempt. Please restart program. TERMINATING NOW.\")\n",
    "                quit()\n"
   ]
  },
  {
   "cell_type": "markdown",
   "metadata": {},
   "source": [
    "## SPU Class"
   ]
  },
  {
   "cell_type": "code",
   "execution_count": 179,
   "metadata": {
    "code_folding": []
   },
   "outputs": [],
   "source": [
    "# SPU Class\n",
    "import numpy as np\n",
    "import time as t\n",
    "\n",
    "\n",
    "'''\n",
    "Signal_Control_Unit :\n",
    "\n",
    "    interfaces between a signal controller (at a junction) and actions (provided by an agent)\n",
    "\n",
    "    inputs:\n",
    "    -- Vissim\n",
    "    -- Signal_Controller - a Vissim, signal controller\n",
    "    -- compatible_actions - a dictionary taking IDs to vectors non-conflicting signal groups\n",
    "    -- green_time = 10   (times are in seconds but converted to simulation steps)\n",
    "    -- redamber_time = 1\n",
    "    -- amber_time = 3\n",
    "    -- red_time = 1\n",
    "\n",
    "    methods :\n",
    "    -- action_update():\n",
    "            initiates the change to a new action\n",
    "\n",
    "            inputs:\n",
    "            -- action_key \n",
    "            -- green_time \n",
    "    -- update():\n",
    "            ensures each signal is correct at each simulation step\n",
    "'''\n",
    "class Signal_Control_Unit:\n",
    "\n",
    "    def __init__(self,\\\n",
    "                 Vissim,\\\n",
    "                 Signal_Controller,\\\n",
    "                 compatible_actions,\\\n",
    "                 Signal_Groups = None,\\\n",
    "                 green_time = 40,\\\n",
    "                 redamber_time = 1,\\\n",
    "                 amber_time = 3, \\\n",
    "                 red_time = 1\\\n",
    "                ):\n",
    "\n",
    "        # get Vissim, signal controller and its signal groups\n",
    "        self.Vissim = Vissim\n",
    "        self.signal_controller = Signal_Controller\n",
    "\n",
    "        if Signal_Groups is None :\n",
    "            self.signal_groups = self.signal_controller.SGs\n",
    "        else :\n",
    "            self.signal_groups = Signal_Groups\n",
    "\n",
    "        # get stae and reward parameters\n",
    "        self.state = self.calculate_state()\n",
    "        self.next_state = None\n",
    "        self.reward = self.calculate_reward()  \n",
    "\n",
    "        self.compatible_actions = compatible_actions\n",
    "\n",
    "        self.time_steps_per_second = self.Vissim.Simulation.AttValue('SimRes')\n",
    "\n",
    "        self.green_time = green_time * self.time_steps_per_second # the green time is in step\n",
    "        self.redamber_time = redamber_time * self.time_steps_per_second\n",
    "        self.amber_time = amber_time * self.time_steps_per_second\n",
    "        self.red_time = red_time * self.time_steps_per_second\n",
    "\n",
    "        # implement 1st action to start\n",
    "        self.action_key = 0   # dict key of current action (we start with 0) \n",
    "        self.next_action_key = 0\n",
    "\n",
    "        self.action_required = False # used to requests an action from agent\n",
    "        self.update_counter = 1\n",
    "        self.intermediate_phase = True # tracks when initiating a new action\n",
    "        self.action_update(self.action_key)    \n",
    "\n",
    "\n",
    "        self.stage = \"Green\" # tracks the stage particularly when in intermediate phase.\n",
    "                             # Stages appear in order: \"Amber\" -> \"Red\" -> \"RedAmber\" -> \"Green\"\n",
    "\n",
    "\n",
    "    '''\n",
    "    sars :\n",
    "    returns state, id of action, reward, next state\n",
    "    '''     \n",
    "    def sars(self):\n",
    "\n",
    "        sars =  [self.state, self.action_key, self.reward, self.next_state]\n",
    "\n",
    "        self.state = self.next_state\n",
    "        self.action = self.next_action_key\n",
    "\n",
    "        return(sars)\n",
    "\n",
    "\n",
    "    '''\n",
    "    calculate_state:\n",
    "    Alvaro's reward function needs to be more general\n",
    "    '''\n",
    "    def calculate_state(self, length = None, verbose = False):\n",
    "\n",
    "        # mesure the time taken to do this action\n",
    "        tic = t.time()\n",
    "\n",
    "        Queues = []\n",
    "        Lanes = []\n",
    "        for sg in self.signal_groups :\n",
    "            q = 0 \n",
    "            for sh in sg.SigHeads:\n",
    "                if (sh.Lane.AttValue('Link'),sh.Lane.AttValue('Index')) not in Lanes :\n",
    "                    Lanes.append((sh.Lane.AttValue('Link'),sh.Lane.AttValue('Index')))\n",
    "                    for veh in sh.Lane.Vehs:\n",
    "                        q += veh.AttValue('InQueue')\n",
    "            Queues.append(q)\n",
    "            # Summarize queue size in each lane\n",
    "            if verbose :\n",
    "                print(self.signal_controller.AttValue('No'),sg.AttValue('No'),q)\n",
    "\n",
    "        # now reshape\n",
    "        if length is not None :\n",
    "            state = np.reshape(Queues,[1,length])\n",
    "        else :\n",
    "            state = np.reshape(Queues,[1,len(Queues)])\n",
    "\n",
    "        tac = t.time()\n",
    "        #print(tac-tic)\n",
    "\n",
    "        return (state)\n",
    "\n",
    "\n",
    "    '''\n",
    "    calculate_reward:\n",
    "    Alvaro's reward function needs to be more general\n",
    "    '''\n",
    "    def calculate_reward(self):\n",
    "        state = self.calculate_state()\n",
    "        reward = -np.sum(state)\n",
    "\n",
    "        return reward\n",
    "\n",
    "\n",
    "    '''\n",
    "    action_update :\n",
    "    initiates a new action\n",
    "        inputs:\n",
    "        -- id of action\n",
    "        -- green_time, if specified by agent (in seconds)\n",
    "    '''    \n",
    "    def action_update(self, next_action_key, green_time=None):\n",
    "        self.intermediate_phase = True # initate intermediate_phase\n",
    "        self.update_counter = 1 # set update counter zero (will get reset at self.update() )\n",
    "        self.next_action_key = next_action_key\n",
    "        self.current_action = self.compatible_actions[next_action_key] \n",
    "        self.new_colors = [ 2*val for val in self.current_action] # converts action to 0,1,2 range\n",
    "\n",
    "        if green_time is not None:\n",
    "            self.green_time = green_time * self.time_steps_per_second\n",
    "\n",
    "        self.action_required = False\n",
    "\n",
    "\n",
    "    # internal helper function\n",
    "    # red = 0, amber/redamber = 1 and green = 2\n",
    "    def _color_convert(self,color):\n",
    "        if color == \"RED\" :\n",
    "            return 0\n",
    "        elif color == \"GREEN\" :\n",
    "            return 2\n",
    "        else :\n",
    "            return 1\n",
    "\n",
    "\n",
    "    '''\n",
    "    _color_changer :\n",
    "    Internal function\n",
    "    Changes color of a signal group\n",
    "        inputs:\n",
    "        -- signal group\n",
    "        -- new_color : 2 = green / 0 = red\n",
    "        -- stage : what stage all lights in the controller are.\n",
    "    '''          \n",
    "    def _color_changer(self,signal_group,new_color,stage):\n",
    "        #Get the current color\n",
    "\n",
    "        #print('current_color')\n",
    "        tic = t.time()\n",
    "        current_color = self._color_convert(signal_group.AttValue(\"SigState\"))\n",
    "        tac = t.time()\n",
    "        #print(tac-tic)\n",
    "        change = new_color-current_color\n",
    "\n",
    "        # want green but currently red\n",
    "        if change == -2 and stage == \"Green\" :\n",
    "            signal_group.SetAttValue(\"SigState\", \"AMBER\")\n",
    "\n",
    "        # want red but currently amber\n",
    "        # if just gone red need on second before green change\n",
    "        elif change == -1 and stage == \"Amber\" :\n",
    "            signal_group.SetAttValue(\"SigState\", \"RED\")\n",
    "\n",
    "        # want green but currently red \n",
    "        elif change == 2 and stage == \"Red\" :\n",
    "            signal_group.SetAttValue(\"SigState\", \"REDAMBER\")\n",
    "\n",
    "        # want green but currently redamber\n",
    "        elif change == 1 and stage == \"RedAmber\":\n",
    "            signal_group.SetAttValue(\"SigState\", \"GREEN\")\n",
    "\n",
    "        # if both red or green pass (i.e. no change keep green)\n",
    "        elif change == 0 :\n",
    "            pass\n",
    "\n",
    "\n",
    "    '''\n",
    "    _stage_changer :\n",
    "    Internal function\n",
    "\n",
    "    Track controllers stage (in the stages of Amber->Red->RedAmber-Green) \n",
    "    and time for each transtion\n",
    "\n",
    "        inputs:\n",
    "        -- stage\n",
    "\n",
    "    Nb. stage is a controller method while color is a sg property\n",
    "    '''\n",
    "    def _stage_changer(self,stage):\n",
    "\n",
    "        if stage == \"Green\" :\n",
    "            time = self.amber_time\n",
    "            self.stage = \"Amber\" \n",
    "\n",
    "        elif stage == \"Amber\" :\n",
    "            time = self.red_time\n",
    "            self.stage = \"Red\"\n",
    "\n",
    "\n",
    "        # what is this red stage ? a stage where all the light are red ?\n",
    "        elif stage == \"Red\" :\n",
    "            time = self.redamber_time\n",
    "            self.stage = \"RedAmber\"\n",
    "\n",
    "        # want green but currently redamber\n",
    "        elif stage == \"RedAmber\" :\n",
    "            time = self.green_time\n",
    "            self.stage = \"Green\"\n",
    "\n",
    "        return time\n",
    "\n",
    "\n",
    "    '''\n",
    "    update :\n",
    "\n",
    "    returns True if action required (otherwise is None)\n",
    "\n",
    "    implements cycle at each signal group\n",
    "    and updates the stage of the controllers.\n",
    "\n",
    "    (writen so multiple controllers can be updated in parallel)\n",
    "    (Computational Overhead should be lower than before)\n",
    "\n",
    "    '''   \n",
    "    def update(self):\n",
    "\n",
    "        self.update_counter -= 1\n",
    "\n",
    "        # These 'if' clauses mean update computation only happens if needed\n",
    "        if self.update_counter == 0. :\n",
    "            # if update counter just went zero \n",
    "            # then ask for an action \n",
    "            if self.intermediate_phase is False :\n",
    "                self.action_required = True \n",
    "\n",
    "                # Comment this out because it slow they are not implemented yet and are very slow\n",
    "\n",
    "                #self.next_state = self.calculate_state()\n",
    "                #self.reward = self.calculate_reward()\n",
    "\n",
    "            # if during a change\n",
    "            # then make the change\n",
    "            if self.intermediate_phase is True : \n",
    "                self.action_required = False\n",
    "\n",
    "                # Get light color right for each signal group\n",
    "                for sg in self.signal_groups :\n",
    "\n",
    "                    ID = sg.AttValue('No')-1\n",
    "                    tic = t.time()\n",
    "                    self._color_changer(sg, self.new_colors[ID], self.stage)\n",
    "                    tac = t.time()\n",
    "                    #print('_color_changer')\n",
    "                    #print(tac-tic)\n",
    "\n",
    "                # change the current stage and get time the stage last for\n",
    "                time = self._stage_changer(self.stage)\n",
    "                self.update_counter = time\n",
    "\n",
    "                # if full transition (Amber->Red->RedAmber-Green) to green done  \n",
    "                if self.stage == \"Green\" :\n",
    "                    self.intermediate_phase = False # record current action is implemented"
   ]
  },
  {
   "cell_type": "markdown",
   "metadata": {},
   "source": [
    "## Agent Class"
   ]
  },
  {
   "cell_type": "code",
   "execution_count": 134,
   "metadata": {
    "code_folding": []
   },
   "outputs": [],
   "source": [
    "# Cyclic Controllers\n",
    "class Cyclic_Control():\n",
    "    def __init__(self,size):\n",
    "        self.action = 0\n",
    "        self.size = size\n",
    "        \n",
    "    def choose_action(self,state=None):\n",
    "        self.action = (self.action + 1) % self.size\n",
    "        return self.action"
   ]
  },
  {
   "cell_type": "markdown",
   "metadata": {},
   "source": [
    "## Main bits and pieces"
   ]
  },
  {
   "cell_type": "markdown",
   "metadata": {},
   "source": [
    "### Load environment"
   ]
  },
  {
   "cell_type": "code",
   "execution_count": 112,
   "metadata": {},
   "outputs": [],
   "source": [
    "Controllers_Actions =\\\n",
    "{\\\n",
    "    0 : {   0 : [1, 0, 1, 0],\n",
    "            1 : [0, 1, 0, 1],\n",
    "        },\n",
    "}"
   ]
  },
  {
   "cell_type": "code",
   "execution_count": 199,
   "metadata": {},
   "outputs": [
    {
     "name": "stdout",
     "output_type": "stream",
     "text": [
      "10\n"
     ]
    }
   ],
   "source": [
    "env = vissim_env(controllers_actions=Controllers_Actions,\\\n",
    "                 Vissim=Vissim,\\\n",
    "                 timesteps_per_second=10)"
   ]
  },
  {
   "cell_type": "code",
   "execution_count": 173,
   "metadata": {},
   "outputs": [
    {
     "data": {
      "text/plain": [
       "10"
      ]
     },
     "execution_count": 173,
     "metadata": {},
     "output_type": "execute_result"
    }
   ],
   "source": [
    "env.timesteps_per_second"
   ]
  },
  {
   "cell_type": "code",
   "execution_count": 201,
   "metadata": {},
   "outputs": [],
   "source": [
    "env.mode = 'demo'\n",
    "env.select_mode()"
   ]
  },
  {
   "cell_type": "markdown",
   "metadata": {},
   "source": [
    "# Cyclic Controller"
   ]
  },
  {
   "cell_type": "markdown",
   "metadata": {},
   "source": [
    "### Load Agents"
   ]
  },
  {
   "cell_type": "code",
   "execution_count": 145,
   "metadata": {},
   "outputs": [],
   "source": [
    "CC = []    \n",
    "for i, acts in enumerate(Controllers_Actions):\n",
    "    cycle_size = len(Controllers_Actions[i])\n",
    "    CC.append(Cyclic_Control(cycle_size))"
   ]
  },
  {
   "cell_type": "markdown",
   "metadata": {},
   "source": [
    "### Main loop"
   ]
  },
  {
   "cell_type": "code",
   "execution_count": 205,
   "metadata": {},
   "outputs": [],
   "source": [
    "for _ in range(1000):\n",
    "    action_required, SARSDs = env.step(actions)\n",
    "    if action_required : \n",
    "        break\n",
    "        actions = dict()\n",
    "        for idx , sarsd in SARSDs.items():\n",
    "            s,a,r,ns,d = sarsd\n",
    "\n",
    "            # in order to find the next action you need to evaluate the next state because it is the current state of the simulator\n",
    "            actions[idx] = CC[idx].choose_action(ns)"
   ]
  },
  {
   "cell_type": "code",
   "execution_count": 207,
   "metadata": {},
   "outputs": [
    {
     "data": {
      "text/plain": [
       "{0: [None, 0, 0, None, False]}"
      ]
     },
     "execution_count": 207,
     "metadata": {},
     "output_type": "execute_result"
    }
   ],
   "source": [
    "SARSDs"
   ]
  },
  {
   "cell_type": "markdown",
   "metadata": {},
   "source": [
    "# Max Weight"
   ]
  },
  {
   "cell_type": "code",
   "execution_count": 204,
   "metadata": {},
   "outputs": [
    {
     "data": {
      "text/plain": [
       "False"
      ]
     },
     "execution_count": 204,
     "metadata": {},
     "output_type": "execute_result"
    }
   ],
   "source": [
    "action_required"
   ]
  },
  {
   "cell_type": "code",
   "execution_count": 191,
   "metadata": {},
   "outputs": [
    {
     "data": {
      "text/plain": [
       "[1, 0, 1, 0]"
      ]
     },
     "execution_count": 191,
     "metadata": {},
     "output_type": "execute_result"
    }
   ],
   "source": [
    "env.SCUs[0].compatible_actions[env.SCUs[0].action_key]"
   ]
  },
  {
   "cell_type": "code",
   "execution_count": 193,
   "metadata": {},
   "outputs": [
    {
     "data": {
      "text/plain": [
       "[0, 1, 0, 1]"
      ]
     },
     "execution_count": 193,
     "metadata": {},
     "output_type": "execute_result"
    }
   ],
   "source": [
    "env.SCUs[0].current_action"
   ]
  },
  {
   "cell_type": "code",
   "execution_count": 194,
   "metadata": {},
   "outputs": [
    {
     "data": {
      "text/plain": [
       "[0, 2, 0, 2]"
      ]
     },
     "execution_count": 194,
     "metadata": {},
     "output_type": "execute_result"
    }
   ],
   "source": [
    "env.SCUs[0].new_colors"
   ]
  },
  {
   "cell_type": "code",
   "execution_count": 195,
   "metadata": {},
   "outputs": [
    {
     "data": {
      "text/plain": [
       "415"
      ]
     },
     "execution_count": 195,
     "metadata": {},
     "output_type": "execute_result"
    }
   ],
   "source": [
    "env.SCUs[0].update_counter"
   ]
  },
  {
   "cell_type": "code",
   "execution_count": 139,
   "metadata": {},
   "outputs": [
    {
     "data": {
      "text/plain": [
       "50"
      ]
     },
     "execution_count": 139,
     "metadata": {},
     "output_type": "execute_result"
    }
   ],
   "source": [
    "env.SCUs[0].green_time"
   ]
  },
  {
   "cell_type": "code",
   "execution_count": 78,
   "metadata": {},
   "outputs": [],
   "source": [
    "for _ in range(100):\n",
    "    env.Vissim.Simulation.RunSingleStep()"
   ]
  },
  {
   "cell_type": "code",
   "execution_count": 74,
   "metadata": {},
   "outputs": [],
   "source": [
    "env.Vissim.Graphics.CurrentNetworkWindow.AttValue(\"QuickMode\")"
   ]
  },
  {
   "cell_type": "code",
   "execution_count": 168,
   "metadata": {},
   "outputs": [
    {
     "data": {
      "text/plain": [
       "10"
      ]
     },
     "execution_count": 168,
     "metadata": {},
     "output_type": "execute_result"
    }
   ],
   "source": [
    "env.timesteps_per_second"
   ]
  },
  {
   "cell_type": "code",
   "execution_count": 174,
   "metadata": {},
   "outputs": [
    {
     "data": {
      "text/plain": [
       "10"
      ]
     },
     "execution_count": 174,
     "metadata": {},
     "output_type": "execute_result"
    }
   ],
   "source": [
    "env.SCUs[0].time_steps_per_second"
   ]
  },
  {
   "cell_type": "code",
   "execution_count": 175,
   "metadata": {},
   "outputs": [
    {
     "name": "stdout",
     "output_type": "stream",
     "text": [
      "current_color\n",
      "0.0\n",
      "_color_changer\n",
      "0.0\n",
      "current_color\n",
      "0.0\n",
      "_color_changer\n",
      "0.0029921531677246094\n",
      "current_color\n",
      "0.0\n",
      "_color_changer\n",
      "0.0009970664978027344\n",
      "current_color\n",
      "0.0\n",
      "_color_changer\n",
      "0.0029926300048828125\n",
      "current_color\n",
      "0.0\n",
      "_color_changer\n",
      "0.0\n",
      "current_color\n",
      "0.0\n",
      "_color_changer\n",
      "0.0019948482513427734\n",
      "current_color\n",
      "0.0\n",
      "_color_changer\n",
      "0.0\n",
      "current_color\n",
      "0.0\n",
      "_color_changer\n",
      "0.0019948482513427734\n",
      "current_color\n",
      "0.0\n",
      "_color_changer\n",
      "0.001994609832763672\n",
      "current_color\n",
      "0.0\n",
      "_color_changer\n",
      "0.0\n",
      "current_color\n",
      "0.0\n",
      "_color_changer\n",
      "0.0029921531677246094\n",
      "current_color\n",
      "0.0\n",
      "_color_changer\n",
      "0.0\n",
      "current_color\n",
      "0.0\n",
      "_color_changer\n",
      "0.0029916763305664062\n",
      "current_color\n",
      "0.0\n",
      "_color_changer\n",
      "0.0\n",
      "current_color\n",
      "0.0\n",
      "_color_changer\n",
      "0.001994609832763672\n",
      "current_color\n",
      "0.0\n",
      "_color_changer\n",
      "0.0\n"
     ]
    }
   ],
   "source": [
    "for _ in range(400):\n",
    "    env.step(actions)"
   ]
  },
  {
   "cell_type": "code",
   "execution_count": 169,
   "metadata": {},
   "outputs": [
    {
     "data": {
      "text/plain": [
       "10"
      ]
     },
     "execution_count": 169,
     "metadata": {},
     "output_type": "execute_result"
    }
   ],
   "source": [
    "Vissim.Simulation.AttValue('SimRes')"
   ]
  }
 ],
 "metadata": {
  "kernelspec": {
   "display_name": "Python 3",
   "language": "python",
   "name": "python3"
  },
  "language_info": {
   "codemirror_mode": {
    "name": "ipython",
    "version": 3
   },
   "file_extension": ".py",
   "mimetype": "text/x-python",
   "name": "python",
   "nbconvert_exporter": "python",
   "pygments_lexer": "ipython3",
   "version": "3.6.8"
  }
 },
 "nbformat": 4,
 "nbformat_minor": 2
}
