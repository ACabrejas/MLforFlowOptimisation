{
 "cells": [
  {
   "cell_type": "code",
   "execution_count": 1,
   "metadata": {
    "code_folding": []
   },
   "outputs": [
    {
     "name": "stdout",
     "output_type": "stream",
     "text": [
      "Success\n"
     ]
    }
   ],
   "source": [
    "# Load Vissim\n",
    "# Documents here\n",
    "# C:\\Users\\Public\\Documents\\PTV Vision\\PTV Vissim 11\\Examples Training\n",
    "# Signal Control files here\n",
    "# C:\\Program Files\\PTV Vision\\PTV Vissim 11\\API\\SignalControl_DLLs\n",
    "\n",
    "# for loading client\n",
    "import win32com.client as com\n",
    "import os\n",
    "# standard libraries \n",
    "import numpy as np\n",
    "import math\n",
    "import time\n",
    "from IPython import display\n",
    "# For Q-function\n",
    "from collections import defaultdict\n",
    "# For saving\n",
    "import datetime\n",
    "import dill\n",
    "import pickle\n",
    "\n",
    "'''\n",
    "This loads up a Vissim instance \n",
    "    -- Required: inpx file , layx file\n",
    "    -- warning: quite flakey loading but once loaded okay\n",
    "'''\n",
    "def Load_Vissim(End_of_simulation = 10000,\\\n",
    "                Quick_Mode=1,\\\n",
    "                Path_to_network = 'C:\\\\Users\\\\Public\\\\Documents\\\\PTV Vision\\\\PTV Vissim 11\\\\Examples Training\\\\COM\\\\Basic Commands\\\\',\\\n",
    "                inpx_Filename = 'COM Basic Commands.inpx',\\\n",
    "                layx_Filename = 'COM Basic Commands.layx'\\\n",
    "               ):\n",
    "    Vissim = None\n",
    "    # Load Vissim\n",
    "    Vissim = com.gencache.EnsureDispatch(\"Vissim.Vissim\")\n",
    "    # Load file\n",
    "    inpx_Filename                = os.path.join(Path_to_network, inpx_Filename)\n",
    "    flag_read_additionally  = False # you can read network(elements) additionally, in this case set \"flag_read_additionally\" to true\n",
    "    Vissim.LoadNet(inpx_Filename, flag_read_additionally)\n",
    "    # Load a Layout:\n",
    "    layx_Filename = os.path.join(Path_to_network, layx_Filename)\n",
    "    Vissim.LoadLayout(layx_Filename)\n",
    "    # Configure non-GUI for training\n",
    "    Vissim.Simulation.SetAttValue('UseMaxSimSpeed', True)\n",
    "    Vissim.Simulation.AttValue('UseAllCores')\n",
    "    Vissim.Graphics.CurrentNetworkWindow.SetAttValue(\"QuickMode\",Quick_Mode)\n",
    "    # Set a long simulation time\n",
    "    Vissim.Simulation.SetAttValue('SimPeriod', End_of_simulation)\n",
    "    return Vissim\n",
    "\n",
    "# '''\n",
    "# Set up Vissim and the parameters for optimizing\n",
    "# (Worth commenting out after set up)\n",
    "# if ERROR like ''has no attribute 'CLSIDToClassMap' ''\n",
    "# DELETE folders:\n",
    "# C:\\Users\\nwalton\\AppData\\Local\\Temp\\gen_py\n",
    "# C:\\Users\\nwalton\\AppData\\Local\\Temp\\VISSIM\n",
    "# Then Restart PC...\n",
    "# '''\n",
    "\n",
    "# We attempt 5 times to load vissim\n",
    "\n",
    "Attempts = 5 \n",
    "for _ in range(Attempts):\n",
    "    try:\n",
    "        Vissim \\\n",
    "        = \\\n",
    "        Load_Vissim(\n",
    "        Path_to_network = 'C:\\\\Users\\\\nwalton\\\\OneDrive - The Alan Turing Institute\\\\Documents\\\\MLforFlowOptimisation\\\\Vissim\\\\Single_Cross_Straight',\\\n",
    "        inpx_Filename = 'Single_Cross_Straight.inpx',\\\n",
    "        layx_Filename = 'Single_Cross_Straight.layx'\\\n",
    "        )\n",
    "        print(\"Success\")\n",
    "        break\n",
    "    except:\n",
    "        print(\"Fail\")"
   ]
  },
  {
   "cell_type": "code",
   "execution_count": 2,
   "metadata": {
    "code_folding": []
   },
   "outputs": [],
   "source": [
    "# Get simulation parameters\n",
    "'''\n",
    "Set up the parameters of the optimization\n",
    "'''\n",
    "\n",
    "'''\n",
    "makes a dictionary for all signals and thier positions\n",
    "'''\n",
    "def Get_Signal_Positions(Signal_Groups):\n",
    "    Signal_Positions = dict()\n",
    "    for SG in Signal_Groups:\n",
    "        for SH in SG.SigHeads:\n",
    "            Lane = SH.AttValue('Lane')\n",
    "            Position = SH.AttValue('Pos')\n",
    "            Signal_Positions[Lane] = Position\n",
    "    return Signal_Positions\n",
    "\n",
    "# Lanes for detection\n",
    "Lane_List = ['3-1','1-1','7-1','5-1']\n",
    "\n",
    "# which lane signals can be green at the same time\n",
    "actions = [(1,0,1,0),\\\n",
    "            (0,1,0,1)]\n",
    "# Define the Q-function\n",
    "# Q_fn = Q_function(actions)\n",
    "\n",
    "# round the state space\n",
    "rounding = 1.\n",
    "sim_steps = 100 # number of simulation steps before update\n",
    "# set the load to be light\n",
    "number_of_inputs = len(Vissim.Net.VehicleInputs)\n",
    "new_volume = 400\n",
    "for key in range(1,number_of_inputs+1):\n",
    "    Vissim.Net.VehicleInputs.ItemByKey(key).SetAttValue('Volume(1)', new_volume)\n",
    "    \n",
    "# get the list of signal controllers\n",
    "Signal_Controller = Vissim.Net.SignalControllers.GetAll()[0]\n",
    "Signal_Groups = Signal_Controller.SGs.GetAll()\n",
    "Signal_Positions = Get_Signal_Positions(Signal_Groups)\n",
    "\n",
    "# These are states and rewards which are global variables \n",
    "# Assigned None for now\n",
    "\n",
    "Q_Size = None # Queue sizes at junctions\n",
    "delays = dict() # Total delay and change in delay for each vehicle"
   ]
  },
  {
   "cell_type": "code",
   "execution_count": 3,
   "metadata": {
    "code_folding": [
     0
    ]
   },
   "outputs": [],
   "source": [
    "# Get state and reward info\n",
    "'''\n",
    "This code gets the average delay from 1000 steps under MaxWeight\n",
    "'''\n",
    "def Get_Q_Size(Lane_List=None, rounding=None):\n",
    "    # Loads globals if variables not specfied\n",
    "    if Lane_List is None :\n",
    "        Lane_List = globals()['Lane_List']\n",
    "    if rounding is None :\n",
    "        rounding = globals()['rounding']\n",
    "        \n",
    "    # initialize with zero queues\n",
    "    Qsum = 0\n",
    "    Q_sizes = dict.fromkeys(Lane_List)\n",
    "    for key in Q_sizes.keys():\n",
    "        Q_sizes[key]=0\n",
    "\n",
    "    # initialize with zero numbers of non-waiting cars\n",
    "    nonQsum = 0\n",
    "    nonQ_sizes = dict.fromkeys(Lane_List)\n",
    "    for key in nonQ_sizes.keys():\n",
    "        nonQ_sizes[key]=0\n",
    "\n",
    "    # get all Q lengths    \n",
    "    All_Vehicles = Vissim.Net.Vehicles.GetAll() \n",
    "    for Veh in All_Vehicles:\n",
    "        lane = Veh.AttValue('Lane')\n",
    "        if lane in Lane_List : \n",
    "            if Veh.AttValue('InQueue') == 1 :\n",
    "                Q_sizes[lane] += 1\n",
    "            else : \n",
    "                nonQ_sizes[lane] += 1\n",
    "\n",
    "    state = []\n",
    "\n",
    "    for lane in Lane_List :\n",
    "        state.append(math.ceil(Q_sizes[lane] / rounding))\n",
    "        \n",
    "    return tuple(state)\n",
    "\n",
    "'''\n",
    "state is now the closest vehicle to the junction\n",
    "reward is now the total delay\n",
    "'''\n",
    "\n",
    "\n",
    "def Get_First_Vehicle(Lane_List=None, rounding=None):\n",
    "    # Loads globals if variables not specfied\n",
    "    if Lane_List is None :\n",
    "        Lane_List = globals()['Lane_List']\n",
    "    if rounding is None :\n",
    "        rounding = globals()['rounding']\n",
    "    \n",
    "    All_Vehicles = Vissim.Net.Vehicles.GetAll()\n",
    "    \n",
    "    lane_state = dict()\n",
    "\n",
    "    for cnt_Veh in range(len(All_Vehicles)):\n",
    "        veh_position = All_Vehicles[cnt_Veh].AttValue('Pos')\n",
    "        veh_lane = All_Vehicles[cnt_Veh].AttValue('Lane')\n",
    "\n",
    "        if veh_lane in Signal_Positions.keys():\n",
    "\n",
    "            rel_position = rounding * math.ceil((Signal_Positions[veh_lane] - veh_position) / rounding) \n",
    "\n",
    "            if  rel_position >= 0 :\n",
    "\n",
    "                if veh_lane in lane_state.keys():    \n",
    "                    if rel_position < lane_state[veh_lane]:\n",
    "                        lane_state[veh_lane] = rel_position\n",
    "                else :\n",
    "                    lane_state[veh_lane] = rel_position\n",
    "    \n",
    "    state = []\n",
    "    for lane in Lane_List:    \n",
    "        if lane in lane_state.keys():\n",
    "            state.append(lane_state[lane])\n",
    "        else:\n",
    "            state.append(np.nan)\n",
    "    return tuple(state)\n",
    "\n",
    "\n",
    "'''\n",
    "Gets the delays of all vehicles in the network:\n",
    "    -- dictionary keys are vehicle numbers\n",
    "    -- 1st entry is delay\n",
    "    -- 2nd entry is change in delay\n",
    "'''\n",
    "state = None\n",
    "\n",
    "def Delay_Dictionary(Current_Dict=None):\n",
    "    # make sure current state is defined\n",
    "    if Current_Dict is None:\n",
    "        try :\n",
    "            Current_Dict = globals()['delays']\n",
    "        except NameError:\n",
    "            Current_Dict = dict()\n",
    "\n",
    "    Delay_Dict= dict()\n",
    "    All_Vehicles = Vissim.Net.Vehicles.GetAll() # get all vehicles in the network at the actual simulation second\n",
    "    for cnt_Veh in range(len(All_Vehicles)):\n",
    "        veh_number      = All_Vehicles[cnt_Veh].AttValue('No')\n",
    "        delay           = All_Vehicles[cnt_Veh].AttValue('DelayTm')  \n",
    "\n",
    "        if veh_number in Current_Dict.keys():\n",
    "            old_delay = Current_Dict[veh_number][0]\n",
    "            Delay_Dict[veh_number] = [delay,delay-old_delay]\n",
    "        else :\n",
    "            Delay_Dict[veh_number] = [delay,0.]\n",
    "    return Delay_Dict\n",
    "\n",
    "'''\n",
    "state is now the closest vehicle to the junction\n",
    "reward is now the total delay\n",
    "'''\n",
    "\n",
    "def Get_Delay(delays=None):\n",
    "    # Use global as default\n",
    "    if delays is None:\n",
    "        delays = globals()['delays']\n",
    "        \n",
    "    total_delay = 0\n",
    "    for key, val in delays.items():\n",
    "        total_delay += val[1]\n",
    "    return -total_delay\n",
    "\n",
    "def Get_Total_Queue(Q_Size=None):\n",
    "    # Use global as default\n",
    "    if Q_Size is None:\n",
    "        Q_Size = globals()['Q_Size']\n",
    "        \n",
    "    return -sum(Q_Size)"
   ]
  },
  {
   "cell_type": "code",
   "execution_count": 4,
   "metadata": {
    "code_folding": [
     0
    ]
   },
   "outputs": [],
   "source": [
    "# Actions\n",
    "\n",
    "# Simple RED and GREEN Actions\n",
    "def Do_Action_Easy(action=None,Signal_Groups=None):\n",
    "    # Set global as default\n",
    "    if action is None:\n",
    "        action = globals()['action']\n",
    "    if Signal_Groups is None:\n",
    "        Signal_Groups = globals()['Signal_Groups']\n",
    "    \n",
    "    for i, sg in enumerate(Signal_Groups):\n",
    "        if action[i] == 1:\n",
    "            new_state = \"GREEN\"\n",
    "        else :\n",
    "            new_state = \"RED\"\n",
    "        sg.SetAttValue(\"SigState\", new_state)\n",
    "\n",
    "# GREEN/AMBER/RED/REDAMBER Actions\n",
    "def Do_Action_RGA(action=None,Signal_Groups=None):\n",
    "# Consist of 4 steps: \n",
    "# Greens go Amber\n",
    "# Ambers go Red\n",
    "# Reds go RedAmber\n",
    "# RedAmbers go Green\n",
    "\n",
    "    # Set global as default\n",
    "    if action is None:\n",
    "        action = globals()['action']\n",
    "    if Signal_Groups is None:\n",
    "        Signal_Groups = globals()['Signal_Groups']\n",
    "\n",
    "    # Initial Parameters\n",
    "    Sim_Period = Vissim.Simulation.AttValue('SimPeriod') #End of Simulation\n",
    "    Amber_Time = 4. #One second of Amber\n",
    "    Red_Time = 1.\n",
    "    RedAmber_Time = 1.\n",
    "\n",
    "    # If current_state = 'GREEN' and next_state = 'RED'\n",
    "    # Then go AMBER\n",
    "    for i, sg in enumerate(Signal_Groups):\n",
    "        current_state = sg.AttValue(\"SigState\")\n",
    "        if current_state == \"GREEN\" and action[i] == 0 :\n",
    "            sg.SetAttValue(\"SigState\", \"AMBER\")\n",
    "\n",
    "    # Simulate 4 seconds for Amber\n",
    "    Sim_Time = Vissim.Simulation.AttValue('SimSec')\n",
    "    Amber_Break = min(Sim_Time+Amber_Time,Sim_Period)\n",
    "    Vissim.Simulation.SetAttValue('SimBreakAt', Amber_Break)\n",
    "    Vissim.Simulation.RunContinuous()\n",
    "\n",
    "    # Set the AMBER lights red\n",
    "    for i, sg in enumerate(Signal_Groups):\n",
    "        current_state = sg.AttValue(\"SigState\")\n",
    "        if current_state == \"AMBER\":\n",
    "            sg.SetAttValue(\"SigState\", \"RED\")\n",
    "\n",
    "    # Simulate 1 second for Red\n",
    "    Sim_Time = Vissim.Simulation.AttValue('SimSec')\n",
    "    Red_Break = min(Sim_Time+Red_Time,Sim_Period)\n",
    "    Vissim.Simulation.SetAttValue('SimBreakAt', Red_Break)\n",
    "    Vissim.Simulation.RunContinuous()\n",
    "\n",
    "    # If current state \"RED\" and next_state = \"GREEN\"\n",
    "    # Then go RedAmber\n",
    "    for i, sg in enumerate(Signal_Groups):\n",
    "        current_state = sg.AttValue(\"SigState\")\n",
    "        if current_state == \"RED\" and action[i] == 1 :\n",
    "            sg.SetAttValue(\"SigState\", \"REDAMBER\")\n",
    "\n",
    "    # Simulate 1 second for RedAmber\n",
    "    Sim_Time = Vissim.Simulation.AttValue('SimSec')\n",
    "    RedAmber_Break = min(Sim_Time+RedAmber_Time,Sim_Period)\n",
    "    Vissim.Simulation.SetAttValue('SimBreakAt', RedAmber_Break)\n",
    "    Vissim.Simulation.RunContinuous()\n",
    "    \n",
    "    # Finally set all RedAmbers to Green\n",
    "    for i, sg in enumerate(Signal_Groups):\n",
    "        current_state = sg.AttValue(\"SigState\")\n",
    "        if current_state == \"REDAMBER\":\n",
    "            sg.SetAttValue(\"SigState\", \"GREEN\")"
   ]
  },
  {
   "cell_type": "code",
   "execution_count": null,
   "metadata": {
    "code_folding": []
   },
   "outputs": [],
   "source": []
  },
  {
   "cell_type": "code",
   "execution_count": 5,
   "metadata": {},
   "outputs": [],
   "source": [
    "def Weighted_MaxWeight(state,actions,weights):\n",
    "    opt_val = 0\n",
    "    for action in actions : \n",
    "        val = np.dot(action,np.multiply(state,weights))\n",
    "        if val >= opt_val :\n",
    "            opt_val = val\n",
    "            opt_act = action\n",
    "    return opt_act, opt_val\n",
    "\n",
    "def Weight_Update(weights, state, action, reward, next_state, lr=0.001, discount_factor = 0.8):\n",
    "    Gradient = np.multiply(state,action)\n",
    "    _, state_value = Weighted_MaxWeight(state,actions,weights)\n",
    "    _, next_state_value = Weighted_MaxWeight(next_state,actions,weights)\n",
    "    Temporal_Difference = reward + discount_factor * next_state_value\n",
    "    new_weights = weights + lr * ( state_value - Temporal_Difference ) *  Gradient\n",
    "    # apply Relu\n",
    "    new_weights = new_weights * (new_weights > 0)    \n",
    "    # rescale/project weights (couple be softmax instead of this and relu)\n",
    "    new_weights = ( new_weights * len(new_weights) ) / sum(new_weights)\n",
    "    return new_weights\n",
    "    "
   ]
  },
  {
   "cell_type": "code",
   "execution_count": 13,
   "metadata": {},
   "outputs": [
    {
     "ename": "KeyboardInterrupt",
     "evalue": "",
     "output_type": "error",
     "traceback": [
      "\u001b[1;31m---------------------------------------------------------------------------\u001b[0m",
      "\u001b[1;31mKeyboardInterrupt\u001b[0m                         Traceback (most recent call last)",
      "\u001b[1;32m<ipython-input-13-feabd7d900d0>\u001b[0m in \u001b[0;36m<module>\u001b[1;34m\u001b[0m\n\u001b[0;32m     28\u001b[0m         \u001b[0mVissim\u001b[0m\u001b[1;33m.\u001b[0m\u001b[0mSimulation\u001b[0m\u001b[1;33m.\u001b[0m\u001b[0mRunSingleStep\u001b[0m\u001b[1;33m(\u001b[0m\u001b[1;33m)\u001b[0m\u001b[1;33m\u001b[0m\u001b[1;33m\u001b[0m\u001b[0m\n\u001b[0;32m     29\u001b[0m     \u001b[0mreward\u001b[0m \u001b[1;33m=\u001b[0m \u001b[0mGet_Reward\u001b[0m\u001b[1;33m(\u001b[0m\u001b[1;33m)\u001b[0m              \u001b[1;31m# Get the reward\u001b[0m\u001b[1;33m\u001b[0m\u001b[1;33m\u001b[0m\u001b[0m\n\u001b[1;32m---> 30\u001b[1;33m     \u001b[0mnext_state\u001b[0m \u001b[1;33m=\u001b[0m \u001b[0mGet_State\u001b[0m\u001b[1;33m(\u001b[0m\u001b[1;33m)\u001b[0m\u001b[1;33m\u001b[0m\u001b[1;33m\u001b[0m\u001b[0m\n\u001b[0m\u001b[0;32m     31\u001b[0m \u001b[1;33m\u001b[0m\u001b[0m\n\u001b[0;32m     32\u001b[0m     \u001b[0mweights\u001b[0m \u001b[1;33m=\u001b[0m \u001b[0mWeight_Update\u001b[0m\u001b[1;33m(\u001b[0m\u001b[0mweights\u001b[0m\u001b[1;33m,\u001b[0m \u001b[0mstate\u001b[0m\u001b[1;33m,\u001b[0m \u001b[0maction\u001b[0m\u001b[1;33m,\u001b[0m \u001b[0mreward\u001b[0m\u001b[1;33m,\u001b[0m \u001b[0mnext_state\u001b[0m\u001b[1;33m)\u001b[0m\u001b[1;33m\u001b[0m\u001b[1;33m\u001b[0m\u001b[0m\n",
      "\u001b[1;32m<ipython-input-9-26482275f7b5>\u001b[0m in \u001b[0;36mGet_Q_Size\u001b[1;34m(Lane_List, rounding)\u001b[0m\n\u001b[0;32m     23\u001b[0m \u001b[1;33m\u001b[0m\u001b[0m\n\u001b[0;32m     24\u001b[0m     \u001b[1;31m# get all Q lengths\u001b[0m\u001b[1;33m\u001b[0m\u001b[1;33m\u001b[0m\u001b[1;33m\u001b[0m\u001b[0m\n\u001b[1;32m---> 25\u001b[1;33m     \u001b[0mAll_Vehicles\u001b[0m \u001b[1;33m=\u001b[0m \u001b[0mVissim\u001b[0m\u001b[1;33m.\u001b[0m\u001b[0mNet\u001b[0m\u001b[1;33m.\u001b[0m\u001b[0mVehicles\u001b[0m\u001b[1;33m.\u001b[0m\u001b[0mGetAll\u001b[0m\u001b[1;33m(\u001b[0m\u001b[1;33m)\u001b[0m\u001b[1;33m\u001b[0m\u001b[1;33m\u001b[0m\u001b[0m\n\u001b[0m\u001b[0;32m     26\u001b[0m     \u001b[1;32mfor\u001b[0m \u001b[0mVeh\u001b[0m \u001b[1;32min\u001b[0m \u001b[0mAll_Vehicles\u001b[0m\u001b[1;33m:\u001b[0m\u001b[1;33m\u001b[0m\u001b[1;33m\u001b[0m\u001b[0m\n\u001b[0;32m     27\u001b[0m         \u001b[0mlane\u001b[0m \u001b[1;33m=\u001b[0m \u001b[0mVeh\u001b[0m\u001b[1;33m.\u001b[0m\u001b[0mAttValue\u001b[0m\u001b[1;33m(\u001b[0m\u001b[1;34m'Lane'\u001b[0m\u001b[1;33m)\u001b[0m\u001b[1;33m\u001b[0m\u001b[1;33m\u001b[0m\u001b[0m\n",
      "\u001b[1;31mKeyboardInterrupt\u001b[0m: "
     ]
    }
   ],
   "source": [
    "# weight training\n",
    "Get_State = Get_Q_Size\n",
    "Get_Reward = Get_Delay\n",
    "Do_Action = Do_Action_RGA\n",
    "sim_steps = 1\n",
    "sim_length = 1000\n",
    "\n",
    "# initialize weights\n",
    "weights = np.ones(len(Lane_List))\n",
    "\n",
    "Vissim.Graphics.CurrentNetworkWindow.SetAttValue(\"QuickMode\",True)\n",
    "Vissim.Simulation.SetAttValue('UseMaxSimSpeed', True)\n",
    "Vissim.Simulation.AttValue('UseAllCores')\n",
    "delays = dict()\n",
    "rewards = []\n",
    "Queues = []\n",
    "\n",
    "for _ in range(sim_length):\n",
    "    if Vissim.Simulation.AttValue('SimSec') == 0.0 :\n",
    "        for _ in range(sim_steps):\n",
    "            Vissim.Simulation.RunSingleStep()\n",
    "    Q_Size = Get_Q_Size()\n",
    "    delays = Delay_Dictionary()\n",
    "    state = Get_State()\n",
    "    action, _ = Weighted_MaxWeight(state,actions,weights)\n",
    "    Do_Action()\n",
    "    for _ in range(sim_steps):              # Take a few simulation steps\n",
    "        Vissim.Simulation.RunSingleStep()\n",
    "    reward = Get_Reward()              # Get the reward\n",
    "    next_state = Get_State()\n",
    "    \n",
    "    weights = Weight_Update(weights, state, action, reward, next_state)\n",
    "    \n",
    "    rewards.append(reward)\n",
    "    Queues.append(Get_Total_Queue())\n",
    "    print(state, next_state, reward)\n",
    "    print(weights)\n",
    "    print(np.mean(rewards))\n",
    "    display.clear_output(wait=True)"
   ]
  },
  {
   "cell_type": "code",
   "execution_count": null,
   "metadata": {},
   "outputs": [],
   "source": [
    "weights"
   ]
  },
  {
   "cell_type": "code",
   "execution_count": 14,
   "metadata": {},
   "outputs": [],
   "source": [
    "# Controllers / Learners\n",
    "'''\n",
    "MaxWeight\n",
    "'''\n",
    "def MaxWeight(state,actions):\n",
    "    opt_val = 0\n",
    "    for action in actions : \n",
    "        val = np.dot(action,state)\n",
    "        if val >= opt_val :\n",
    "            opt_val = val\n",
    "            opt_act = action\n",
    "    return opt_act"
   ]
  },
  {
   "cell_type": "code",
   "execution_count": 15,
   "metadata": {},
   "outputs": [
    {
     "name": "stdout",
     "output_type": "stream",
     "text": [
      "-34.09761402085531 -2.98\n"
     ]
    }
   ],
   "source": [
    "# Evaluate MaxWeight implementation\n",
    "# Defined above: MaxWeight(state=Q_Size,actions=actions) \n",
    "\n",
    "Get_State = Get_Q_Size\n",
    "Get_Reward = Get_Delay\n",
    "Do_Action = Do_Action_RGA\n",
    "sim_steps = 1\n",
    "sim_length = 100\n",
    "\n",
    "Vissim.Graphics.CurrentNetworkWindow.SetAttValue(\"QuickMode\",True)\n",
    "Vissim.Simulation.SetAttValue('UseMaxSimSpeed', True)\n",
    "Vissim.Simulation.AttValue('UseAllCores')\n",
    "delays = dict()\n",
    "rewards = []\n",
    "Queues = []\n",
    "\n",
    "for _ in range(sim_length):\n",
    "    if Vissim.Simulation.AttValue('SimSec') == 0.0 :\n",
    "        for _ in range(sim_steps):\n",
    "            Vissim.Simulation.RunSingleStep()\n",
    "    Q_Size = Get_Q_Size()\n",
    "    delays = Delay_Dictionary()\n",
    "    state = Get_State()\n",
    "    action = MaxWeight(Q_Size,actions)\n",
    "    Do_Action()\n",
    "    for _ in range(sim_steps):              # Take a few simulation steps\n",
    "        Vissim.Simulation.RunSingleStep()\n",
    "    reward = Get_Reward()              # Get the reward\n",
    "    rewards.append(reward)\n",
    "    Queues.append(Get_Total_Queue())\n",
    "    print(np.mean(rewards),np.mean(Queues))\n",
    "    display.clear_output(wait=True)"
   ]
  },
  {
   "cell_type": "code",
   "execution_count": 6,
   "metadata": {},
   "outputs": [
    {
     "name": "stdout",
     "output_type": "stream",
     "text": [
      "-41.41584738664899 -4.11\n"
     ]
    }
   ],
   "source": [
    "# weighted_MaxWeight implementation\n",
    "# Defined above: MaxWeight(state=Q_Size,actions=actions) \n",
    "\n",
    "Get_State = Get_Q_Size\n",
    "Get_Reward = Get_Delay\n",
    "Do_Action = Do_Action_RGA\n",
    "sim_steps = 1\n",
    "sim_length = 100\n",
    "weights = [0.35571327, 1.53468494, 0.22172345, 1.88787834]\n",
    "\n",
    "Vissim.Graphics.CurrentNetworkWindow.SetAttValue(\"QuickMode\",True)\n",
    "Vissim.Simulation.SetAttValue('UseMaxSimSpeed', True)\n",
    "Vissim.Simulation.AttValue('UseAllCores')\n",
    "delays = dict()\n",
    "rewards = []\n",
    "Queues = []\n",
    "\n",
    "for _ in range(sim_length):\n",
    "    if Vissim.Simulation.AttValue('SimSec') == 0.0 :\n",
    "        for _ in range(sim_steps):\n",
    "            Vissim.Simulation.RunSingleStep()\n",
    "    Q_Size = Get_Q_Size()\n",
    "    delays = Delay_Dictionary()\n",
    "    state = Get_State()\n",
    "    action, _ = Weighted_MaxWeight(state,actions,weights)\n",
    "    Do_Action()\n",
    "    for _ in range(sim_steps):              # Take a few simulation steps\n",
    "        Vissim.Simulation.RunSingleStep()\n",
    "    reward = Get_Reward()              # Get the reward\n",
    "    rewards.append(reward)\n",
    "    Queues.append(Get_Total_Queue())\n",
    "    print(np.mean(rewards),np.mean(Queues))\n",
    "    display.clear_output(wait=True)"
   ]
  },
  {
   "cell_type": "markdown",
   "metadata": {},
   "source": [
    "# Debugging"
   ]
  },
  {
   "cell_type": "code",
   "execution_count": 61,
   "metadata": {},
   "outputs": [
    {
     "data": {
      "text/plain": [
       "(array([1., 1., 1., 1., 1.]),\n",
       " (1, 0, 0, 0, 0),\n",
       " (1, 1, 0, 0, 1),\n",
       " -12.724097979719463,\n",
       " (1, 0, 0, 0, 0))"
      ]
     },
     "execution_count": 61,
     "metadata": {},
     "output_type": "execute_result"
    }
   ],
   "source": [
    "weights, state, action, reward, next_state"
   ]
  },
  {
   "cell_type": "code",
   "execution_count": 72,
   "metadata": {},
   "outputs": [],
   "source": [
    "lr=0.01\n",
    "discount_factor = 0.8\n",
    "Gradient = np.multiply(state,action)\n",
    "_, state_value = Weighted_MaxWeight(state,actions,weights)\n",
    "_, next_state_value = Weighted_MaxWeight(next_state,actions,weights)\n",
    "Temporal_Difference = reward + discount_factor * next_state_value\n",
    "new_weights = weights + lr * ( state_value - Temporal_Difference ) *  Gradient\n",
    "# apply Relu\n",
    "new_weights = new_weights * (new_weights > 0)   "
   ]
  },
  {
   "cell_type": "code",
   "execution_count": 74,
   "metadata": {},
   "outputs": [
    {
     "data": {
      "text/plain": [
       "(1.0,\n",
       " 1.0,\n",
       " -12.724097979719463,\n",
       " array([1.12924098, 1.        , 1.        , 1.        , 1.        ]))"
      ]
     },
     "execution_count": 74,
     "metadata": {},
     "output_type": "execute_result"
    }
   ],
   "source": [
    "state_value, next_state_value, reward, new_weights"
   ]
  },
  {
   "cell_type": "code",
   "execution_count": 70,
   "metadata": {},
   "outputs": [
    {
     "data": {
      "text/plain": [
       "array([0, 0, 0, 0, 0])"
      ]
     },
     "execution_count": 70,
     "metadata": {},
     "output_type": "execute_result"
    }
   ],
   "source": [
    "Gradient"
   ]
  },
  {
   "cell_type": "code",
   "execution_count": 69,
   "metadata": {},
   "outputs": [
    {
     "data": {
      "text/plain": [
       "12.924097979719463"
      ]
     },
     "execution_count": 69,
     "metadata": {},
     "output_type": "execute_result"
    }
   ],
   "source": [
    " ( state_value - Temporal_Difference )"
   ]
  },
  {
   "cell_type": "code",
   "execution_count": 60,
   "metadata": {},
   "outputs": [
    {
     "data": {
      "text/plain": [
       "array([1., 1., 1., 1., 1.])"
      ]
     },
     "execution_count": 60,
     "metadata": {},
     "output_type": "execute_result"
    }
   ],
   "source": [
    "Weight_Update(weights, state, action, reward, next_state)"
   ]
  },
  {
   "cell_type": "code",
   "execution_count": null,
   "metadata": {},
   "outputs": [],
   "source": []
  },
  {
   "cell_type": "code",
   "execution_count": null,
   "metadata": {},
   "outputs": [],
   "source": []
  }
 ],
 "metadata": {
  "kernelspec": {
   "display_name": "Python 3",
   "language": "python",
   "name": "python3"
  },
  "language_info": {
   "codemirror_mode": {
    "name": "ipython",
    "version": 3
   },
   "file_extension": ".py",
   "mimetype": "text/x-python",
   "name": "python",
   "nbconvert_exporter": "python",
   "pygments_lexer": "ipython3",
   "version": "3.5.6"
  }
 },
 "nbformat": 4,
 "nbformat_minor": 2
}
