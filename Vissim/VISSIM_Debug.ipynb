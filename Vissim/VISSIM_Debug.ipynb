{
 "cells": [
  {
   "cell_type": "code",
   "execution_count": 1,
   "metadata": {},
   "outputs": [
    {
     "name": "stdout",
     "output_type": "stream",
     "text": [
      "Default GPU Device: /device:GPU:0\n"
     ]
    },
    {
     "name": "stderr",
     "output_type": "stream",
     "text": [
      "Using TensorFlow backend.\n"
     ]
    }
   ],
   "source": [
    "## VISSIM Modules\n",
    "import win32com.client as com\n",
    "import os\n",
    "\n",
    "## RL Modules\n",
    "import tensorflow as tf\n",
    "if tf.test.gpu_device_name():\n",
    "    print('Default GPU Device: {}'.format(tf.test.gpu_device_name()))\n",
    "else:\n",
    "    print(\"ERROR: GPU DEVICE NOT FOUND.\")\n",
    "\n",
    "from keras.models import load_model\n",
    "    \n",
    "## Data Management Modules\n",
    "import pickle\n",
    "\n",
    "## User Defined Modules\n",
    "import Simulator_Functions as SF\n",
    "from RLAgents import DQNAgent\n",
    "from NParser import NetworkParser\n",
    "from COMServer import COMServerDispatch, COMServerReload\n",
    "from TupleToList import toList\n",
    "from Utilities import log_progress, pltlive\n",
    "## Other Modules\n",
    "import numpy as np\n",
    "import random\n",
    "import matplotlib.pyplot as plt\n",
    "%matplotlib inline"
   ]
  },
  {
   "cell_type": "code",
   "execution_count": 2,
   "metadata": {},
   "outputs": [],
   "source": [
    "## RL Hyperparamenters\n",
    "# Number of simulations, save every \"n\" episodes and copy weights with frequency \"f\"\n",
    "episodes = 500\n",
    "partial_save_at = 100\n",
    "copy_weights_frequency = 5\n",
    "\n",
    "# Timesteps per simulation (1 timestep = 0.1 sec), length for random population is a multiple of episode\n",
    "timesteps_per_second = 1\n",
    "seconds_per_green = 6\n",
    "seconds_per_yellow = 3\n",
    "simulation_length = 3600*1 + 1\n",
    "\n",
    "## State-Action Parameters\n",
    "action_type = \"phases\"        # options are \"phases\" and \"programs\"\n",
    "state_size = 4\n",
    "action_size = 8\n",
    "\n",
    "# Hyperparameters\n",
    "PER_activated = True\n",
    "batch_size = 256\n",
    "memory_size = 1000\n",
    "alpha   = 0.001\n",
    "gamma   = 0.95\n",
    "memory_population_length = 10*memory_size\n",
    "\n",
    "# Exploration Schedule (\"linear\" or \"geometric\")\n",
    "exploration_schedule = \"geometric\"\n",
    "epsilon_start = 1\n",
    "epsilon_end   = 0.001\n",
    "if exploration_schedule == \"linear\":\n",
    "    epsilon_decay = 1.2*(epsilon_end - epsilon_start)/(episodes-1)\n",
    "    epsilon_sequence = [1 + epsilon_decay * entry for entry in range(episodes+1)]\n",
    "    epsilon_sequence = [0 if entry < 0 else entry for entry in epsilon_sequence]\n",
    "elif exploration_schedule == \"geometric\":\n",
    "    epsilon_decay = np.power(epsilon_end/epsilon_start, 1./(episodes-1)) # Geometric decay\n",
    "    epsilon_sequence = [epsilon_start * epsilon_decay ** entry for entry in range(episodes+1)]\n",
    "else:\n",
    "    print(\"ERROR: Unrecognized choice of exploration schedule.\")\n",
    "\n",
    "# Demand Schedule (times in seconds, demand in cars/hour as PPP)\n",
    "demand_change_timesteps = 450\n",
    "demand = {\"h\":800, 'm':400, 'l':200}\n",
    "demand_list = [[demand['l'], demand['l']], [demand['m'], demand['l']],\\\n",
    "              [demand['h'], demand['l']], [demand['h'], demand['m']],\\\n",
    "              [demand['h'], demand['h']], [demand['m'], demand['h']],\n",
    "              [demand['l'], demand['h']], [demand['l'], demand['m']]]"
   ]
  },
  {
   "cell_type": "code",
   "execution_count": 3,
   "metadata": {},
   "outputs": [],
   "source": [
    "## Operation mode (selects functionalities)\n",
    "mode = \"debug\"\n",
    "# \"populate\" = population of memory, generation of initial memory file\n",
    "# \"training\" = training agents, maximum speed, frozen UI, mid amount of messages\n",
    "# \"debug\"    = trains for 1 episode, minimum speed, working UI, all messages\n",
    "# \"demo\"     = loads pretrained agent, minimum speed, working UI\n",
    "# \"test\"     = executes evaluation, maximum speed\n",
    "\n",
    "## Network Model Parameters\n",
    "\n",
    "model_name  = 'Balance'\n",
    "# 'Single_Cross_Straight'\n",
    "# 'Single_Cross_Triple'\n",
    "# 'Balance'\n",
    "\n",
    "vissim_working_directory = 'C:\\\\Users\\\\acabrejasegea\\\\OneDrive - The Alan Turing Institute\\\\Desktop\\\\ATI\\\\0_TMF\\\\MLforFlowOptimisation\\\\Vissim\\\\'\n",
    "agent_type = 'DuelingDDQN'         # DQN, DuelingDQN, DDQN, DuelingDDQN\n",
    "reward_type = 'Queues'   \n",
    "# 'Queues'          Sum of the queues for all lanes in intersection\n",
    "# 'QueuesDiff'      Difference in queue lengths in last timestep\n",
    "# 'QueuesDiffSC'    10000* QueuesDiff - Queues^2\n",
    "# 'TotalDelayDiff'\n",
    "state_type  = 'Queues'    \n",
    "Random_Seed = 42\n",
    "\n",
    "## Use of additional files?\n",
    "flag_read_additionally  = False\n",
    "SaveResultsAgent = True\n",
    "# Random demand\n",
    "Random_Demand = False\n",
    "\n",
    "# Session ID\n",
    "Session_ID = 'Ep_'+str(episodes)+'_A_'+agent_type+\"_Act_\"+action_type+\"_Rew_\"+reward_type"
   ]
  },
  {
   "cell_type": "code",
   "execution_count": 4,
   "metadata": {},
   "outputs": [
    {
     "name": "stdout",
     "output_type": "stream",
     "text": [
      "Working Directory set to: C:\\Users\\acabrejasegea\\OneDrive - The Alan Turing Institute\\Desktop\\ATI\\0_TMF\\MLforFlowOptimisation\\Vissim\\\n",
      "Generating Cache...\n",
      "Cache generated.\n",
      "\n",
      "****************************\n",
      "*   COM Server dispatched  *\n",
      "****************************\n",
      "\n",
      "Attempting to load Model File: Balance.inpx ...\n",
      "Load process successful\n",
      "Simulation length set to 10000 seconds.\n",
      "Results from Previous Simulations: Deleted. Fresh Start Available.\n",
      "Fetched and containerized Simulation Object\n",
      "Fetched and containerized Network Object \n",
      "\n",
      "*******************************************************\n",
      "*                                                     *\n",
      "*                 SETUP COMPLETE                      *\n",
      "*                                                     *\n",
      "*******************************************************\n",
      "\n"
     ]
    }
   ],
   "source": [
    "# Initialize simulation\n",
    "Vissim, Simulation, Network, cache_flag = COMServerDispatch(model_name, vissim_working_directory,\\\n",
    "                                                            memory_population_length, timesteps_per_second,\\\n",
    "                                                            delete_results = True, verbose = True)\n"
   ]
  },
  {
   "cell_type": "code",
   "execution_count": 5,
   "metadata": {},
   "outputs": [],
   "source": [
    "npa = NetworkParser(Vissim)"
   ]
  },
  {
   "cell_type": "code",
   "execution_count": 6,
   "metadata": {},
   "outputs": [
    {
     "name": "stdout",
     "output_type": "stream",
     "text": [
      "WARNING:tensorflow:From C:\\Users\\acabrejasegea\\AppData\\Local\\Continuum\\anaconda3\\envs\\vissimgpu\\lib\\site-packages\\tensorflow\\python\\ops\\resource_variable_ops.py:435: colocate_with (from tensorflow.python.framework.ops) is deprecated and will be removed in a future version.\n",
      "Instructions for updating:\n",
      "Colocations handled automatically by placer.\n",
      "WARNING:tensorflow:From C:\\Users\\acabrejasegea\\AppData\\Local\\Continuum\\anaconda3\\envs\\vissimgpu\\lib\\site-packages\\tensorflow\\python\\keras\\utils\\losses_utils.py:170: to_float (from tensorflow.python.ops.math_ops) is deprecated and will be removed in a future version.\n",
      "Instructions for updating:\n",
      "Use tf.cast instead.\n",
      "Deploying instance of Double Deep Q Learning Agent(s)\n",
      "Deploying instance of Double Deep Q Learning Agent(s)\n",
      "Deploying instance of Double Deep Q Learning Agent(s)\n",
      "Deploying instance of Double Deep Q Learning Agent(s)\n",
      "Deploying instance of Double Deep Q Learning Agent(s)\n",
      "Deploying instance of Double Deep Q Learning Agent(s)\n",
      "Deploying instance of Double Deep Q Learning Agent(s)\n",
      "Deploying instance of Double Deep Q Learning Agent(s)\n",
      "Deploying instance of Double Deep Q Learning Agent(s)\n",
      "Deploying instance of Double Deep Q Learning Agent(s)\n",
      "Deploying instance of Double Deep Q Learning Agent(s)\n",
      "Deploying instance of Double Deep Q Learning Agent(s)\n",
      "Deploying instance of Double Deep Q Learning Agent(s)\n",
      "Deploying instance of Double Deep Q Learning Agent(s)\n"
     ]
    }
   ],
   "source": [
    "Agents = [DQNAgent(state_size, action_size, ID, state_type, npa, memory_size,\\\n",
    "                           gamma, epsilon_sequence[0], alpha, copy_weights_frequency, Vissim, PER_activated,\\\n",
    "                           DoubleDQN = True if agent_type == \"DDQN\" or \"DuelingDDQN\" else False,\\\n",
    "                           Dueling = False if agent_type == \"DQN\" or \"DDQN\" else True) for ID in npa.signal_controllers_ids] \n",
    "time_t = 0"
   ]
  },
  {
   "cell_type": "code",
   "execution_count": null,
   "metadata": {},
   "outputs": [],
   "source": [
    "# Cycle through all agents and update them\n",
    "Agents = SF.Agents_update(Agents, Vissim, state_type, reward_type, state_size, seconds_per_green, seconds_per_yellow, mode, \n",
    "time_t)\n",
    "\n",
    "# Advance the game to the next second (proportionally to the simulator resolution).\n",
    "for _ in range(0, timesteps_per_second):\n",
    "    Vissim.Simulation.RunSingleStep()\n",
    "    time_t += 1"
   ]
  },
  {
   "cell_type": "code",
   "execution_count": null,
   "metadata": {},
   "outputs": [],
   "source": [
    "signal_controllers     = toList(Vissim.Net.SignalControllers.GetAll())\n",
    "signal_controllers_ids = range(0,len(signal_controllers))\n",
    "signal_groups = [[] for _ in signal_controllers_ids]"
   ]
  },
  {
   "cell_type": "code",
   "execution_count": null,
   "metadata": {},
   "outputs": [],
   "source": [
    "print(signal_controllers)\n",
    "print(len(signal_controllers))\n",
    "print(signal_controllers_ids)\n",
    "print(signal_groups)"
   ]
  },
  {
   "cell_type": "code",
   "execution_count": null,
   "metadata": {},
   "outputs": [],
   "source": [
    "for SC in signal_controllers_ids:\n",
    "    for SG in range(1,signal_controllers[SC].SGs.Count+1):\n",
    "        signal_groups[SC].append(signal_controllers[SC].SGs.ItemByKey(SG))"
   ]
  },
  {
   "cell_type": "code",
   "execution_count": null,
   "metadata": {},
   "outputs": [],
   "source": [
    "## SC01: Left Middle of the MAP. Four Way intersection. 12 signal groups. Identified by direction\n",
    "##       of incoming traffic/\n",
    "# 1 : East. Turn right and straight.\n",
    "# 2 : North. All directions.\n",
    "# 3 : West. Only turn left.\n",
    "# 4 : West. Turn right and straight.\n",
    "# 5 : South. All directions.\n",
    "# 6 : Pedestrian located in South East.\n",
    "# 7 : Pedestrian located in North East.\n",
    "# 8 : Pedestrian located in North.\n",
    "# 9 : Pedestrian located in North West.\n",
    "# 10: Pedestrian located in South West.\n",
    "# 11: Pedestrian located in South.\n",
    "# 12: East. Only turn left.\n",
    "\n",
    "model_phases_SC01 = [[1, 0, 0, 1, 0, 1, 0, 0, 1, 0, 0, 0],\\\n",
    "                     [0, 0, 1, 0, 0, 1, 0, 0, 1, 0, 0, 1],\\\n",
    "                     [0, 1, 0, 0, 1, 0, 1, 0, 0, 1, 0, 0]]\n",
    "\n",
    "extra_phases_SC01 = [[1, 0, 0, 0, 0, 0, 0, 0, 0, 0, 0, 1],\\\n",
    "                     [0, 0, 1, 1, 0, 0, 0, 0, 0, 0, 0, 0]]\n",
    "\n",
    "model_phases_SC02 = [[0, 1, 0, 0, 1, 0, 1, 1],\\\n",
    "                     [1, 0, 0, 1, 0, 0, 0, 0],\\\n",
    "                     [0, 0, 1, 0, 0, 1, 0, 0]]\n",
    "\n",
    "extra_phases_SC02 = [[1, 1, 0, 0, 0, 0, 0, 0],\\\n",
    "                     [0, 0, 0, 1, 1, 0, 0, 0]]\n",
    "\n",
    "model_phases_SC03 = [[0, 1, 0, 0, 0, 1, 0, 0, 0, 0, 0, 0, 0, 0, 0, 0],\\\n",
    "                     [1, 0, 0, 0, 1, 0, 0, 0, 0, 0, 0, 0, 0, 0, 0, 0],\\\n",
    "                     [0, 0, 0, 1, 0, 0, 0, 1, 0, 0, 0, 0, 0, 0, 0, 0],\\\n",
    "                     [0, 0, 1, 0, 0, 0, 1, 0, 0, 0, 0, 0, 0, 0, 0, 0]]\n",
    "\n",
    "extra_phases_SC03 = [[1, 1, 0, 0, 0, 0, 0, 0, 0, 0, 0, 0, 0, 0, 0, 0],\\\n",
    "                     [0, 0, 1, 1, 0, 0, 0, 0, 0, 0, 0, 0, 0, 0, 0, 0],\\\n",
    "                     [0, 0, 0, 0, 1, 1, 0, 0, 0, 0, 0, 0, 0, 0, 0, 0],\\\n",
    "                     [0, 0, 0, 0, 0, 0, 1, 1, 0, 0, 0, 0, 0, 0, 0, 0]]\n",
    "\n",
    "model_phases_SC04 = [[0, 1, 0, 0, 1, 0, 1, 0, 0, 1, 0, 0],\\\n",
    "                     [1, 0, 0, 1, 0, 0, 1, 0, 0, 1, 0, 0],\\\n",
    "                     [0, 0, 1, 0, 0, 1, 0, 1, 1, 0, 1, 1]]\n",
    "\n",
    "extra_phases_SC04 = [[1, 1, 0, 0, 0, 0, 1, 0, 0, 0, 1, 0],\n",
    "                     [0, 0, 0, 1, 1, 0, 0, 1, 0, 1, 0, 0]]\n",
    "\n",
    "model_phases_SC05 = [[0, 1, 1, 0, 0],\\\n",
    "                     [1, 1, 0, 0, 0],\\\n",
    "                     [0, 0, 0, 1, 0]]\n",
    "\n",
    "# No extra phases for SC05\n",
    "\n",
    "model_phases_SC06 = [[1, 0, 1, 0, 1, 0],\\\n",
    "                     [0, 1, 0, 1, 0, 1]]\n",
    "\n",
    "# No extra phases for SC06\n",
    "\n",
    "model_phases_SC07 = [[0, 1, 0, 1, 1, 1],\n",
    "                     [1, 0, 1, 0, 0, 0]]\n",
    "\n",
    "# No extra phases for SC07\n",
    "\n",
    "model_phases_SC08 = [[0, 0, 1, 0, 1, 0, 0, 0, 0, 0, 0],\\\n",
    "                     [0, 1, 0, 1, 0, 0, 0, 0, 0, 0, 0],\\\n",
    "                     [1, 0, 0, 0, 0, 0, 0, 0, 0, 0, 0]]\n",
    "\n",
    "extra_phases_SC08 = [[0, 1, 1, 0, 0, 0, 0, 0, 0, 0, 0],\\\n",
    "                     [0, 0, 0, 1, 1, 0, 0, 0, 0, 0, 0]]\n",
    "\n",
    "model_phases_SC09 = [[1, 0, 1, 0, 0, 0, 0],\\\n",
    "                     [0, 1, 0, 0, 0, 0, 0]]\n",
    "\n",
    "# No extra phases for SC09\n",
    "\n",
    "model_phases_SC10 = [[0, 1, 0, 1, 1, 0, 1, 0],\\\n",
    "                     [1, 0, 1, 0, 0, 1, 0, 1]]\n",
    "\n",
    "# No extra phases for SC10\n",
    "\n",
    "model_phases_SC11 = [[1, 0, 1, 0, 0, 1, 0, 1],\\\n",
    "                     [0, 1, 0, 1, 1, 0, 1, 0]]\n",
    "\n",
    "# No extra phases for SC11\n",
    "\n",
    "model_phases_SC12 = [[1, 0, 1, 0, 0, 1, 0, 1],\\\n",
    "                     [0, 1, 0, 1, 1, 0, 1, 0]]\n",
    "\n",
    "# No extra phases for SC12\n",
    "\n",
    "model_phases_SC13 = [[1, 0, 0, 0, 0, 0, 1, 1, 0, 1, 1],\\\n",
    "                     [0, 0, 1, 0, 0, 0, 1, 1, 0, 1, 1],\\\n",
    "                     [0, 1, 0, 0, 1, 1, 0, 0, 1, 0, 0],\\\n",
    "                     [0, 0, 0, 1, 1, 1, 0, 0, 1, 0, 0]]\n",
    "\n",
    "# No extra pahses for SC13\n",
    "\n",
    "model_phases_SC14 = [[1, 0, 0, 1, 0, 0, 1, 0, 0],\\\n",
    "                     [0, 0, 1, 1, 0, 1, 0, 0, 0],\\\n",
    "                     [0, 1, 0, 0, 1, 1, 0, 1, 1]]\n",
    "\n",
    "# No extra phases for SC14"
   ]
  },
  {
   "cell_type": "code",
   "execution_count": null,
   "metadata": {},
   "outputs": [],
   "source": [
    "for i in range(10):\n",
    "    Vissim.Simulation.RunSingleStep()"
   ]
  },
  {
   "cell_type": "code",
   "execution_count": null,
   "metadata": {},
   "outputs": [],
   "source": [
    "signal_groups[1][7].SetAttValue(\"SigState\", \"AMBER\")"
   ]
  },
  {
   "cell_type": "code",
   "execution_count": null,
   "metadata": {},
   "outputs": [],
   "source": [
    "signal_controllers[13].SGs.ItemByKey(1).SetAttValue(\"SigState\", \"AMBER\")\n",
    "for i in range(10):\n",
    "    Vissim.Simulation.RunSingleStep()"
   ]
  },
  {
   "cell_type": "code",
   "execution_count": null,
   "metadata": {},
   "outputs": [],
   "source": [
    "for index, SC in enumerate(signal_controllers):\n",
    "    print(index)\n",
    "    for SG in range(1,SC.SGs.Count):\n",
    "        signal_groups[index].append(SC.SGs.ItemByKey(SG+1))"
   ]
  },
  {
   "cell_type": "code",
   "execution_count": null,
   "metadata": {},
   "outputs": [],
   "source": [
    "a = toList(signal_groups[0][0].SigHeads.GetAll())\n",
    "print(a)\n",
    "print(signal_controllers)"
   ]
  },
  {
   "cell_type": "code",
   "execution_count": null,
   "metadata": {},
   "outputs": [],
   "source": []
  },
  {
   "cell_type": "code",
   "execution_count": null,
   "metadata": {},
   "outputs": [],
   "source": [
    "## Create SignalHeadsCollection and unpack the SignalHeads into a list by SignalController\n",
    "signal_heads = [[] for _ in signal_controllers_ids]\n",
    "for SC in signal_controllers_ids:\n",
    "    print(\"Signal Controller {}\".format(SC))\n",
    "    print(\"Total of {} Signal Groups\".format(signal_controllers[SC].SGs.Count))\n",
    "    for SG in range(signal_controllers[SC].SGs.Count):\n",
    "        print(\"Processing Signal Group {}\".format(SG))\n",
    "        signal_heads[SC].append(toList(signal_groups[SC][SG].SigHeads.GetAll())[0])"
   ]
  },
  {
   "cell_type": "code",
   "execution_count": null,
   "metadata": {},
   "outputs": [],
   "source": [
    "toList(signal_groups[2][8].SigHeads.GetAll())"
   ]
  },
  {
   "cell_type": "code",
   "execution_count": null,
   "metadata": {},
   "outputs": [],
   "source": [
    "for SC in signal_controllers[0:15]:\n",
    "    for SG in range(1, SC.SGs.Count+1):\n",
    "        SC.SGs.ItemByKey(SG).SetAttValue(\"SigState\", \"GREEN\")\n",
    "for i in range(10):\n",
    "    Vissim.Simulation.RunSingleStep()"
   ]
  },
  {
   "cell_type": "code",
   "execution_count": null,
   "metadata": {},
   "outputs": [],
   "source": [
    "for SC in signal_controllers:\n",
    "    print(SC.SGs.Count)"
   ]
  },
  {
   "cell_type": "code",
   "execution_count": null,
   "metadata": {},
   "outputs": [],
   "source": [
    "signal_groups = [[] for _ in signal_controllers_ids]\n",
    "for SC in signal_controllers_ids:\n",
    "    for SG in range(1,signal_controllers[SC].SGs.Count+1):\n",
    "        signal_groups[SC].append(signal_controllers[SC].SGs.ItemByKey(SG))\n",
    "        \n",
    "for SC in signal_controllers_ids:\n",
    "    print(len(signal_groups[SC]))"
   ]
  },
  {
   "cell_type": "code",
   "execution_count": null,
   "metadata": {},
   "outputs": [],
   "source": [
    "signal_groups[2][8]"
   ]
  },
  {
   "cell_type": "code",
   "execution_count": 7,
   "metadata": {},
   "outputs": [
    {
     "data": {
      "text/plain": [
       "[[1], [2], [3], [4]]"
      ]
     },
     "execution_count": 7,
     "metadata": {},
     "output_type": "execute_result"
    }
   ],
   "source": [
    "a = [[1],[2]]\n",
    "b = [[3], [4]]\n",
    "c = a+b\n",
    "c"
   ]
  }
 ],
 "metadata": {
  "kernelspec": {
   "display_name": "TensorFlow-GPU",
   "language": "python",
   "name": "vissimgpu"
  },
  "language_info": {
   "codemirror_mode": {
    "name": "ipython",
    "version": 3
   },
   "file_extension": ".py",
   "mimetype": "text/x-python",
   "name": "python",
   "nbconvert_exporter": "python",
   "pygments_lexer": "ipython3",
   "version": "3.6.8"
  }
 },
 "nbformat": 4,
 "nbformat_minor": 2
}
